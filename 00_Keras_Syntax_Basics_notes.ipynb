{
  "cells": [
    {
      "cell_type": "markdown",
      "metadata": {
        "id": "df5CuKSncgSQ"
      },
      "source": [
        "<a href=\"https://www.pieriandata.com\"><img src=\"../Pierian_Data_Logo.PNG\"></a>\n",
        "<strong><center>Copyright by Pierian Data Inc.</center></strong> \n",
        "<strong><center>Created by Jose Marcial Portilla.</center></strong>"
      ]
    },
    {
      "cell_type": "markdown",
      "metadata": {
        "id": "6AoLudKjcgSS"
      },
      "source": [
        "# Keras Syntax Basics\n",
        "\n",
        "With TensorFlow 2.0 , Keras is now the main API choice. Let's work through a simple regression project to understand the basics of the Keras syntax and adding layers."
      ]
    },
    {
      "cell_type": "markdown",
      "metadata": {
        "id": "kvdBmOCBcgST"
      },
      "source": [
        "## The Data\n",
        "\n",
        "To learn the basic syntax of Keras, we will use a very simple fake data set, in the subsequent lectures we will focus on real datasets, along with feature engineering! For now, let's focus on the syntax of TensorFlow 2.0.\n",
        "\n",
        "Let's pretend this data are measurements of some rare gem stones, with 2 measurement features and a sale price. Our final goal would be to try to predict the sale price of a new gem stone we just mined from the ground, in order to try to set a fair price in the market.\n",
        "\n",
        "### Load the Data"
      ]
    },
    {
      "cell_type": "code",
      "execution_count": null,
      "metadata": {
        "id": "Xb1Ya7URcgSU"
      },
      "outputs": [],
      "source": [
        "import pandas as pd\n",
        "import numpy as np\n",
        "import seaborn as sns"
      ]
    },
    {
      "cell_type": "code",
      "execution_count": null,
      "metadata": {
        "id": "ud3EAR-zcgSV"
      },
      "outputs": [],
      "source": [
        "df = pd.read_csv('fake_reg.csv')"
      ]
    },
    {
      "cell_type": "code",
      "execution_count": null,
      "metadata": {
        "colab": {
          "base_uri": "https://localhost:8080/",
          "height": 204
        },
        "id": "td1UlNelcgSW",
        "outputId": "cae6fe33-40f3-4f13-8b80-47c285d06fbe"
      },
      "outputs": [
        {
          "output_type": "execute_result",
          "data": {
            "text/plain": [
              "        price     feature1     feature2\n",
              "0  461.527929   999.787558   999.766096\n",
              "1  548.130011   998.861615  1001.042403\n",
              "2  410.297162  1000.070267   998.844015\n",
              "3  540.382220   999.952251  1000.440940\n",
              "4  546.024553  1000.446011  1000.338531"
            ],
            "text/html": [
              "\n",
              "  <div id=\"df-47310550-9c5d-42d4-8506-c5eaded6a54a\">\n",
              "    <div class=\"colab-df-container\">\n",
              "      <div>\n",
              "<style scoped>\n",
              "    .dataframe tbody tr th:only-of-type {\n",
              "        vertical-align: middle;\n",
              "    }\n",
              "\n",
              "    .dataframe tbody tr th {\n",
              "        vertical-align: top;\n",
              "    }\n",
              "\n",
              "    .dataframe thead th {\n",
              "        text-align: right;\n",
              "    }\n",
              "</style>\n",
              "<table border=\"1\" class=\"dataframe\">\n",
              "  <thead>\n",
              "    <tr style=\"text-align: right;\">\n",
              "      <th></th>\n",
              "      <th>price</th>\n",
              "      <th>feature1</th>\n",
              "      <th>feature2</th>\n",
              "    </tr>\n",
              "  </thead>\n",
              "  <tbody>\n",
              "    <tr>\n",
              "      <th>0</th>\n",
              "      <td>461.527929</td>\n",
              "      <td>999.787558</td>\n",
              "      <td>999.766096</td>\n",
              "    </tr>\n",
              "    <tr>\n",
              "      <th>1</th>\n",
              "      <td>548.130011</td>\n",
              "      <td>998.861615</td>\n",
              "      <td>1001.042403</td>\n",
              "    </tr>\n",
              "    <tr>\n",
              "      <th>2</th>\n",
              "      <td>410.297162</td>\n",
              "      <td>1000.070267</td>\n",
              "      <td>998.844015</td>\n",
              "    </tr>\n",
              "    <tr>\n",
              "      <th>3</th>\n",
              "      <td>540.382220</td>\n",
              "      <td>999.952251</td>\n",
              "      <td>1000.440940</td>\n",
              "    </tr>\n",
              "    <tr>\n",
              "      <th>4</th>\n",
              "      <td>546.024553</td>\n",
              "      <td>1000.446011</td>\n",
              "      <td>1000.338531</td>\n",
              "    </tr>\n",
              "  </tbody>\n",
              "</table>\n",
              "</div>\n",
              "      <button class=\"colab-df-convert\" onclick=\"convertToInteractive('df-47310550-9c5d-42d4-8506-c5eaded6a54a')\"\n",
              "              title=\"Convert this dataframe to an interactive table.\"\n",
              "              style=\"display:none;\">\n",
              "        \n",
              "  <svg xmlns=\"http://www.w3.org/2000/svg\" height=\"24px\"viewBox=\"0 0 24 24\"\n",
              "       width=\"24px\">\n",
              "    <path d=\"M0 0h24v24H0V0z\" fill=\"none\"/>\n",
              "    <path d=\"M18.56 5.44l.94 2.06.94-2.06 2.06-.94-2.06-.94-.94-2.06-.94 2.06-2.06.94zm-11 1L8.5 8.5l.94-2.06 2.06-.94-2.06-.94L8.5 2.5l-.94 2.06-2.06.94zm10 10l.94 2.06.94-2.06 2.06-.94-2.06-.94-.94-2.06-.94 2.06-2.06.94z\"/><path d=\"M17.41 7.96l-1.37-1.37c-.4-.4-.92-.59-1.43-.59-.52 0-1.04.2-1.43.59L10.3 9.45l-7.72 7.72c-.78.78-.78 2.05 0 2.83L4 21.41c.39.39.9.59 1.41.59.51 0 1.02-.2 1.41-.59l7.78-7.78 2.81-2.81c.8-.78.8-2.07 0-2.86zM5.41 20L4 18.59l7.72-7.72 1.47 1.35L5.41 20z\"/>\n",
              "  </svg>\n",
              "      </button>\n",
              "      \n",
              "  <style>\n",
              "    .colab-df-container {\n",
              "      display:flex;\n",
              "      flex-wrap:wrap;\n",
              "      gap: 12px;\n",
              "    }\n",
              "\n",
              "    .colab-df-convert {\n",
              "      background-color: #E8F0FE;\n",
              "      border: none;\n",
              "      border-radius: 50%;\n",
              "      cursor: pointer;\n",
              "      display: none;\n",
              "      fill: #1967D2;\n",
              "      height: 32px;\n",
              "      padding: 0 0 0 0;\n",
              "      width: 32px;\n",
              "    }\n",
              "\n",
              "    .colab-df-convert:hover {\n",
              "      background-color: #E2EBFA;\n",
              "      box-shadow: 0px 1px 2px rgba(60, 64, 67, 0.3), 0px 1px 3px 1px rgba(60, 64, 67, 0.15);\n",
              "      fill: #174EA6;\n",
              "    }\n",
              "\n",
              "    [theme=dark] .colab-df-convert {\n",
              "      background-color: #3B4455;\n",
              "      fill: #D2E3FC;\n",
              "    }\n",
              "\n",
              "    [theme=dark] .colab-df-convert:hover {\n",
              "      background-color: #434B5C;\n",
              "      box-shadow: 0px 1px 3px 1px rgba(0, 0, 0, 0.15);\n",
              "      filter: drop-shadow(0px 1px 2px rgba(0, 0, 0, 0.3));\n",
              "      fill: #FFFFFF;\n",
              "    }\n",
              "  </style>\n",
              "\n",
              "      <script>\n",
              "        const buttonEl =\n",
              "          document.querySelector('#df-47310550-9c5d-42d4-8506-c5eaded6a54a button.colab-df-convert');\n",
              "        buttonEl.style.display =\n",
              "          google.colab.kernel.accessAllowed ? 'block' : 'none';\n",
              "\n",
              "        async function convertToInteractive(key) {\n",
              "          const element = document.querySelector('#df-47310550-9c5d-42d4-8506-c5eaded6a54a');\n",
              "          const dataTable =\n",
              "            await google.colab.kernel.invokeFunction('convertToInteractive',\n",
              "                                                     [key], {});\n",
              "          if (!dataTable) return;\n",
              "\n",
              "          const docLinkHtml = 'Like what you see? Visit the ' +\n",
              "            '<a target=\"_blank\" href=https://colab.research.google.com/notebooks/data_table.ipynb>data table notebook</a>'\n",
              "            + ' to learn more about interactive tables.';\n",
              "          element.innerHTML = '';\n",
              "          dataTable['output_type'] = 'display_data';\n",
              "          await google.colab.output.renderOutput(dataTable, element);\n",
              "          const docLink = document.createElement('div');\n",
              "          docLink.innerHTML = docLinkHtml;\n",
              "          element.appendChild(docLink);\n",
              "        }\n",
              "      </script>\n",
              "    </div>\n",
              "  </div>\n",
              "  "
            ]
          },
          "metadata": {},
          "execution_count": 5
        }
      ],
      "source": [
        "df.head()\n",
        "#fake regression dataset with price and 2 features, use features to predict price"
      ]
    },
    {
      "cell_type": "markdown",
      "metadata": {
        "id": "CbtP4dZ7cgSX"
      },
      "source": [
        "### Explore the data\n",
        "\n",
        "Let's take a quick look, we should see strong correlation between the features and the \"price\" of this made up product."
      ]
    },
    {
      "cell_type": "code",
      "execution_count": null,
      "metadata": {
        "id": "CgFCDDwncgSX"
      },
      "outputs": [],
      "source": [
        "import seaborn as sns\n",
        "import matplotlib.pyplot as plt"
      ]
    },
    {
      "cell_type": "code",
      "execution_count": null,
      "metadata": {
        "colab": {
          "base_uri": "https://localhost:8080/",
          "height": 775
        },
        "id": "xKUwXdBacgSY",
        "outputId": "af0a5a2d-93d0-403d-c03b-c581b3cb1917"
      },
      "outputs": [
        {
          "output_type": "execute_result",
          "data": {
            "text/plain": [
              "<seaborn.axisgrid.PairGrid at 0x7f9f8085bf70>"
            ]
          },
          "metadata": {},
          "execution_count": 7
        },
        {
          "output_type": "display_data",
          "data": {
            "text/plain": [
              "<Figure size 750x750 with 12 Axes>"
            ],
            "image/png": "[encoded data removed]"
          },
          "metadata": {}
        }
      ],
      "source": [
        "sns.pairplot(df)\n",
        "#creating a simple pair plot of the features, fake dataset as feature2 has high corr with price\n",
        "#data exploration and visualisations, explore the dataset, try to predict new features from existing features"
      ]
    },
    {
      "cell_type": "markdown",
      "metadata": {
        "id": "AI04pab2cgSY"
      },
      "source": [
        "Feel free to visualize more, but this data is fake, so we will focus on feature engineering and exploratory data analysis later on in the course in much more detail!"
      ]
    },
    {
      "cell_type": "markdown",
      "metadata": {
        "id": "2zYTpv2IcgSY"
      },
      "source": [
        "### Test/Train Split"
      ]
    },
    {
      "cell_type": "code",
      "execution_count": null,
      "metadata": {
        "id": "B4E4eCImcgSZ"
      },
      "outputs": [],
      "source": [
        "#split data into training and test dataset, evaluate model performance with test set\n",
        "from sklearn.model_selection import train_test_split"
      ]
    },
    {
      "cell_type": "code",
      "execution_count": null,
      "metadata": {
        "id": "X5MzaxttcgSZ"
      },
      "outputs": [],
      "source": [
        "# Convert Pandas to Numpy for Keras\n",
        "\n",
        "# Features, create numpy array of both features, feature matrix is usually 2D, .values returns data frame as an array\n",
        "X = df[['feature1', 'feature2']].values\n",
        "\n",
        "# Label, predict label of price\n",
        "y = df['price'].values\n",
        "\n",
        "#look at X and y, y is lowercase\n",
        "\n",
        "# Split the dataset into training and test data\n",
        "#test_size - & of your dataset used for testing, usually at 30% or 0.3\n",
        "#split is performed randomly, randomly grabs rows and splits them into test and train sets\n",
        "#random state is just a number, like seed, arbitrary, choose same number to always get data split in the same way\n",
        "X_train, X_test, y_train, y_test = train_test_split(X,y,test_size=0.3,random_state=42)"
      ]
    },
    {
      "cell_type": "code",
      "execution_count": null,
      "metadata": {
        "colab": {
          "base_uri": "https://localhost:8080/"
        },
        "id": "xi4_HragcgSa",
        "outputId": "a7dc9517-7ceb-4964-da66-6eaec506bba3"
      },
      "outputs": [
        {
          "output_type": "execute_result",
          "data": {
            "text/plain": [
              "(700, 2)"
            ]
          },
          "metadata": {},
          "execution_count": 10
        }
      ],
      "source": [
        "X_train.shape\n",
        "#check your dataset for if split occured properly"
      ]
    },
    {
      "cell_type": "code",
      "execution_count": null,
      "metadata": {
        "colab": {
          "base_uri": "https://localhost:8080/"
        },
        "id": "ZummHXEacgSa",
        "outputId": "6ae1745a-a3bd-4410-b282-0846d8dd4c01"
      },
      "outputs": [
        {
          "output_type": "execute_result",
          "data": {
            "text/plain": [
              "(300, 2)"
            ]
          },
          "metadata": {},
          "execution_count": 11
        }
      ],
      "source": [
        "X_test.shape"
      ]
    },
    {
      "cell_type": "code",
      "execution_count": null,
      "metadata": {
        "colab": {
          "base_uri": "https://localhost:8080/"
        },
        "id": "z0LUccO1cgSb",
        "outputId": "c34d578f-7f33-4c17-d306-46a62c35d3bd"
      },
      "outputs": [
        {
          "output_type": "execute_result",
          "data": {
            "text/plain": [
              "(700,)"
            ]
          },
          "metadata": {},
          "execution_count": 12
        }
      ],
      "source": [
        "y_train.shape"
      ]
    },
    {
      "cell_type": "code",
      "execution_count": null,
      "metadata": {
        "colab": {
          "base_uri": "https://localhost:8080/"
        },
        "id": "mik3HkIlcgSb",
        "outputId": "4ee5a11f-f86e-4b15-9676-aad2bf5a8cde"
      },
      "outputs": [
        {
          "output_type": "execute_result",
          "data": {
            "text/plain": [
              "(300,)"
            ]
          },
          "metadata": {},
          "execution_count": 13
        }
      ],
      "source": [
        "y_test.shape"
      ]
    },
    {
      "cell_type": "markdown",
      "metadata": {
        "id": "9OTEoFqYcgSc"
      },
      "source": [
        "## Normalizing/Scaling the Data\n",
        "\n",
        "We scale the feature data.\n",
        "\n",
        "[Why we don't need to scale the label](https://stats.stackexchange.com/questions/111467/is-it-necessary-to-scale-the-target-value-in-addition-to-scaling-features-for-re)"
      ]
    },
    {
      "cell_type": "code",
      "execution_count": null,
      "metadata": {
        "id": "EA_1DDl9cgSc"
      },
      "outputs": [],
      "source": [
        "#scale feature data to generate weights and biases, 1000 rows in data 300 is 30%\n",
        "#can take lower % if dataset is larger\n",
        "#normalise and scale your features data to avoid vanishing or exploding gradients\n",
        "#many ways to normalise and scale your data, using MinMaxScaler here\n",
        "from sklearn.preprocessing import MinMaxScaler"
      ]
    },
    {
      "cell_type": "code",
      "execution_count": null,
      "metadata": {
        "colab": {
          "base_uri": "https://localhost:8080/"
        },
        "id": "OvcqbQIgcgSd",
        "outputId": "f15b2bc3-1262-41ce-9979-4e0fe863dfe9"
      },
      "outputs": [
        {
          "output_type": "stream",
          "name": "stdout",
          "text": [
            "Help on class MinMaxScaler in module sklearn.preprocessing._data:\n",
            "\n",
            "class MinMaxScaler(sklearn.base.OneToOneFeatureMixin, sklearn.base.TransformerMixin, sklearn.base.BaseEstimator)\n",
            " |  MinMaxScaler(feature_range=(0, 1), *, copy=True, clip=False)\n",
            " |  \n",
            " |  Transform features by scaling each feature to a given range.\n",
            " |  \n",
            " |  This estimator scales and translates each feature individually such\n",
            " |  that it is in the given range on the training set, e.g. between\n",
            " |  zero and one.\n",
            " |  \n",
            " |  The transformation is given by::\n",
            " |  \n",
            " |      X_std = (X - X.min(axis=0)) / (X.max(axis=0) - X.min(axis=0))\n",
            " |      X_scaled = X_std * (max - min) + min\n",
            " |  \n",
            " |  where min, max = feature_range.\n",
            " |  \n",
            " |  This transformation is often used as an alternative to zero mean,\n",
            " |  unit variance scaling.\n",
            " |  \n",
            " |  Read more in the :ref:`User Guide <preprocessing_scaler>`.\n",
            " |  \n",
            " |  Parameters\n",
            " |  ----------\n",
            " |  feature_range : tuple (min, max), default=(0, 1)\n",
            " |      Desired range of transformed data.\n",
            " |  \n",
            " |  copy : bool, default=True\n",
            " |      Set to False to perform inplace row normalization and avoid a\n",
            " |      copy (if the input is already a numpy array).\n",
            " |  \n",
            " |  clip : bool, default=False\n",
            " |      Set to True to clip transformed values of held-out data to\n",
            " |      provided `feature range`.\n",
            " |  \n",
            " |      .. versionadded:: 0.24\n",
            " |  \n",
            " |  Attributes\n",
            " |  ----------\n",
            " |  min_ : ndarray of shape (n_features,)\n",
            " |      Per feature adjustment for minimum. Equivalent to\n",
            " |      ``min - X.min(axis=0) * self.scale_``\n",
            " |  \n",
            " |  scale_ : ndarray of shape (n_features,)\n",
            " |      Per feature relative scaling of the data. Equivalent to\n",
            " |      ``(max - min) / (X.max(axis=0) - X.min(axis=0))``\n",
            " |  \n",
            " |      .. versionadded:: 0.17\n",
            " |         *scale_* attribute.\n",
            " |  \n",
            " |  data_min_ : ndarray of shape (n_features,)\n",
            " |      Per feature minimum seen in the data\n",
            " |  \n",
            " |      .. versionadded:: 0.17\n",
            " |         *data_min_*\n",
            " |  \n",
            " |  data_max_ : ndarray of shape (n_features,)\n",
            " |      Per feature maximum seen in the data\n",
            " |  \n",
            " |      .. versionadded:: 0.17\n",
            " |         *data_max_*\n",
            " |  \n",
            " |  data_range_ : ndarray of shape (n_features,)\n",
            " |      Per feature range ``(data_max_ - data_min_)`` seen in the data\n",
            " |  \n",
            " |      .. versionadded:: 0.17\n",
            " |         *data_range_*\n",
            " |  \n",
            " |  n_features_in_ : int\n",
            " |      Number of features seen during :term:`fit`.\n",
            " |  \n",
            " |      .. versionadded:: 0.24\n",
            " |  \n",
            " |  n_samples_seen_ : int\n",
            " |      The number of samples processed by the estimator.\n",
            " |      It will be reset on new calls to fit, but increments across\n",
            " |      ``partial_fit`` calls.\n",
            " |  \n",
            " |  feature_names_in_ : ndarray of shape (`n_features_in_`,)\n",
            " |      Names of features seen during :term:`fit`. Defined only when `X`\n",
            " |      has feature names that are all strings.\n",
            " |  \n",
            " |      .. versionadded:: 1.0\n",
            " |  \n",
            " |  See Also\n",
            " |  --------\n",
            " |  minmax_scale : Equivalent function without the estimator API.\n",
            " |  \n",
            " |  Notes\n",
            " |  -----\n",
            " |  NaNs are treated as missing values: disregarded in fit, and maintained in\n",
            " |  transform.\n",
            " |  \n",
            " |  For a comparison of the different scalers, transformers, and normalizers,\n",
            " |  see :ref:`examples/preprocessing/plot_all_scaling.py\n",
            " |  <sphx_glr_auto_examples_preprocessing_plot_all_scaling.py>`.\n",
            " |  \n",
            " |  Examples\n",
            " |  --------\n",
            " |  >>> from sklearn.preprocessing import MinMaxScaler\n",
            " |  >>> data = [[-1, 2], [-0.5, 6], [0, 10], [1, 18]]\n",
            " |  >>> scaler = MinMaxScaler()\n",
            " |  >>> print(scaler.fit(data))\n",
            " |  MinMaxScaler()\n",
            " |  >>> print(scaler.data_max_)\n",
            " |  [ 1. 18.]\n",
            " |  >>> print(scaler.transform(data))\n",
            " |  [[0.   0.  ]\n",
            " |   [0.25 0.25]\n",
            " |   [0.5  0.5 ]\n",
            " |   [1.   1.  ]]\n",
            " |  >>> print(scaler.transform([[2, 2]]))\n",
            " |  [[1.5 0. ]]\n",
            " |  \n",
            " |  Method resolution order:\n",
            " |      MinMaxScaler\n",
            " |      sklearn.base.OneToOneFeatureMixin\n",
            " |      sklearn.base.TransformerMixin\n",
            " |      sklearn.utils._set_output._SetOutputMixin\n",
            " |      sklearn.base.BaseEstimator\n",
            " |      builtins.object\n",
            " |  \n",
            " |  Methods defined here:\n",
            " |  \n",
            " |  __init__(self, feature_range=(0, 1), *, copy=True, clip=False)\n",
            " |      Initialize self.  See help(type(self)) for accurate signature.\n",
            " |  \n",
            " |  fit(self, X, y=None)\n",
            " |      Compute the minimum and maximum to be used for later scaling.\n",
            " |      \n",
            " |      Parameters\n",
            " |      ----------\n",
            " |      X : array-like of shape (n_samples, n_features)\n",
            " |          The data used to compute the per-feature minimum and maximum\n",
            " |          used for later scaling along the features axis.\n",
            " |      \n",
            " |      y : None\n",
            " |          Ignored.\n",
            " |      \n",
            " |      Returns\n",
            " |      -------\n",
            " |      self : object\n",
            " |          Fitted scaler.\n",
            " |  \n",
            " |  inverse_transform(self, X)\n",
            " |      Undo the scaling of X according to feature_range.\n",
            " |      \n",
            " |      Parameters\n",
            " |      ----------\n",
            " |      X : array-like of shape (n_samples, n_features)\n",
            " |          Input data that will be transformed. It cannot be sparse.\n",
            " |      \n",
            " |      Returns\n",
            " |      -------\n",
            " |      Xt : ndarray of shape (n_samples, n_features)\n",
            " |          Transformed data.\n",
            " |  \n",
            " |  partial_fit(self, X, y=None)\n",
            " |      Online computation of min and max on X for later scaling.\n",
            " |      \n",
            " |      All of X is processed as a single batch. This is intended for cases\n",
            " |      when :meth:`fit` is not feasible due to very large number of\n",
            " |      `n_samples` or because X is read from a continuous stream.\n",
            " |      \n",
            " |      Parameters\n",
            " |      ----------\n",
            " |      X : array-like of shape (n_samples, n_features)\n",
            " |          The data used to compute the mean and standard deviation\n",
            " |          used for later scaling along the features axis.\n",
            " |      \n",
            " |      y : None\n",
            " |          Ignored.\n",
            " |      \n",
            " |      Returns\n",
            " |      -------\n",
            " |      self : object\n",
            " |          Fitted scaler.\n",
            " |  \n",
            " |  transform(self, X)\n",
            " |      Scale features of X according to feature_range.\n",
            " |      \n",
            " |      Parameters\n",
            " |      ----------\n",
            " |      X : array-like of shape (n_samples, n_features)\n",
            " |          Input data that will be transformed.\n",
            " |      \n",
            " |      Returns\n",
            " |      -------\n",
            " |      Xt : ndarray of shape (n_samples, n_features)\n",
            " |          Transformed data.\n",
            " |  \n",
            " |  ----------------------------------------------------------------------\n",
            " |  Data and other attributes defined here:\n",
            " |  \n",
            " |  __annotations__ = {'_parameter_constraints': <class 'dict'>}\n",
            " |  \n",
            " |  ----------------------------------------------------------------------\n",
            " |  Methods inherited from sklearn.base.OneToOneFeatureMixin:\n",
            " |  \n",
            " |  get_feature_names_out(self, input_features=None)\n",
            " |      Get output feature names for transformation.\n",
            " |      \n",
            " |      Parameters\n",
            " |      ----------\n",
            " |      input_features : array-like of str or None, default=None\n",
            " |          Input features.\n",
            " |      \n",
            " |          - If `input_features` is `None`, then `feature_names_in_` is\n",
            " |            used as feature names in. If `feature_names_in_` is not defined,\n",
            " |            then the following input feature names are generated:\n",
            " |            `[\"x0\", \"x1\", ..., \"x(n_features_in_ - 1)\"]`.\n",
            " |          - If `input_features` is an array-like, then `input_features` must\n",
            " |            match `feature_names_in_` if `feature_names_in_` is defined.\n",
            " |      \n",
            " |      Returns\n",
            " |      -------\n",
            " |      feature_names_out : ndarray of str objects\n",
            " |          Same as input features.\n",
            " |  \n",
            " |  ----------------------------------------------------------------------\n",
            " |  Data descriptors inherited from sklearn.base.OneToOneFeatureMixin:\n",
            " |  \n",
            " |  __dict__\n",
            " |      dictionary for instance variables (if defined)\n",
            " |  \n",
            " |  __weakref__\n",
            " |      list of weak references to the object (if defined)\n",
            " |  \n",
            " |  ----------------------------------------------------------------------\n",
            " |  Methods inherited from sklearn.base.TransformerMixin:\n",
            " |  \n",
            " |  fit_transform(self, X, y=None, **fit_params)\n",
            " |      Fit to data, then transform it.\n",
            " |      \n",
            " |      Fits transformer to `X` and `y` with optional parameters `fit_params`\n",
            " |      and returns a transformed version of `X`.\n",
            " |      \n",
            " |      Parameters\n",
            " |      ----------\n",
            " |      X : array-like of shape (n_samples, n_features)\n",
            " |          Input samples.\n",
            " |      \n",
            " |      y :  array-like of shape (n_samples,) or (n_samples, n_outputs),                 default=None\n",
            " |          Target values (None for unsupervised transformations).\n",
            " |      \n",
            " |      **fit_params : dict\n",
            " |          Additional fit parameters.\n",
            " |      \n",
            " |      Returns\n",
            " |      -------\n",
            " |      X_new : ndarray array of shape (n_samples, n_features_new)\n",
            " |          Transformed array.\n",
            " |  \n",
            " |  ----------------------------------------------------------------------\n",
            " |  Methods inherited from sklearn.utils._set_output._SetOutputMixin:\n",
            " |  \n",
            " |  set_output(self, *, transform=None)\n",
            " |      Set output container.\n",
            " |      \n",
            " |      See :ref:`sphx_glr_auto_examples_miscellaneous_plot_set_output.py`\n",
            " |      for an example on how to use the API.\n",
            " |      \n",
            " |      Parameters\n",
            " |      ----------\n",
            " |      transform : {\"default\", \"pandas\"}, default=None\n",
            " |          Configure output of `transform` and `fit_transform`.\n",
            " |      \n",
            " |          - `\"default\"`: Default output format of a transformer\n",
            " |          - `\"pandas\"`: DataFrame output\n",
            " |          - `None`: Transform configuration is unchanged\n",
            " |      \n",
            " |      Returns\n",
            " |      -------\n",
            " |      self : estimator instance\n",
            " |          Estimator instance.\n",
            " |  \n",
            " |  ----------------------------------------------------------------------\n",
            " |  Class methods inherited from sklearn.utils._set_output._SetOutputMixin:\n",
            " |  \n",
            " |  __init_subclass__(auto_wrap_output_keys=('transform',), **kwargs) from builtins.type\n",
            " |      This method is called when a class is subclassed.\n",
            " |      \n",
            " |      The default implementation does nothing. It may be\n",
            " |      overridden to extend subclasses.\n",
            " |  \n",
            " |  ----------------------------------------------------------------------\n",
            " |  Methods inherited from sklearn.base.BaseEstimator:\n",
            " |  \n",
            " |  __getstate__(self)\n",
            " |  \n",
            " |  __repr__(self, N_CHAR_MAX=700)\n",
            " |      Return repr(self).\n",
            " |  \n",
            " |  __setstate__(self, state)\n",
            " |  \n",
            " |  get_params(self, deep=True)\n",
            " |      Get parameters for this estimator.\n",
            " |      \n",
            " |      Parameters\n",
            " |      ----------\n",
            " |      deep : bool, default=True\n",
            " |          If True, will return the parameters for this estimator and\n",
            " |          contained subobjects that are estimators.\n",
            " |      \n",
            " |      Returns\n",
            " |      -------\n",
            " |      params : dict\n",
            " |          Parameter names mapped to their values.\n",
            " |  \n",
            " |  set_params(self, **params)\n",
            " |      Set the parameters of this estimator.\n",
            " |      \n",
            " |      The method works on simple estimators as well as on nested objects\n",
            " |      (such as :class:`~sklearn.pipeline.Pipeline`). The latter have\n",
            " |      parameters of the form ``<component>__<parameter>`` so that it's\n",
            " |      possible to update each component of a nested object.\n",
            " |      \n",
            " |      Parameters\n",
            " |      ----------\n",
            " |      **params : dict\n",
            " |          Estimator parameters.\n",
            " |      \n",
            " |      Returns\n",
            " |      -------\n",
            " |      self : estimator instance\n",
            " |          Estimator instance.\n",
            "\n"
          ]
        }
      ],
      "source": [
        "help(MinMaxScaler)\n",
        "#guide of what the scaler does, transforms your data according to stdev\n",
        "#only scale the feature data, do not scale the label, link above\n",
        "#label is used only for the final comparison, feature data is what is passed through the model"
      ]
    },
    {
      "cell_type": "code",
      "execution_count": null,
      "metadata": {
        "id": "jl1Rhu_8cgSd"
      },
      "outputs": [],
      "source": [
        "#save scalar into a variable\n",
        "scaler = MinMaxScaler()"
      ]
    },
    {
      "cell_type": "code",
      "execution_count": null,
      "metadata": {
        "id": "7uU-Zp8wcgSe"
      },
      "outputs": [],
      "source": [
        "# Notice to prevent data leakage from the test set, we only fit our scaler to the training set\n",
        "#depends on stdev, min and max values of the dataset used\n",
        "#only fit scaler on training data to get parameters above, avoid leakage onto the test dataset"
      ]
    },
    {
      "cell_type": "code",
      "execution_count": null,
      "metadata": {
        "colab": {
          "base_uri": "https://localhost:8080/",
          "height": 74
        },
        "id": "l1c_lDp6cgSe",
        "outputId": "a2c2cca8-f825-4be0-b0b7-0efc6fd296f9"
      },
      "outputs": [
        {
          "output_type": "execute_result",
          "data": {
            "text/plain": [
              "MinMaxScaler()"
            ],
            "text/html": [
              "<style>#sk-container-id-1 {color: black;background-color: white;}#sk-container-id-1 pre{padding: 0;}#sk-container-id-1 div.sk-toggleable {background-color: white;}#sk-container-id-1 label.sk-toggleable__label {cursor: pointer;display: block;width: 100%;margin-bottom: 0;padding: 0.3em;box-sizing: border-box;text-align: center;}#sk-container-id-1 label.sk-toggleable__label-arrow:before {content: \"▸\";float: left;margin-right: 0.25em;color: #696969;}#sk-container-id-1 label.sk-toggleable__label-arrow:hover:before {color: black;}#sk-container-id-1 div.sk-estimator:hover label.sk-toggleable__label-arrow:before {color: black;}#sk-container-id-1 div.sk-toggleable__content {max-height: 0;max-width: 0;overflow: hidden;text-align: left;background-color: #f0f8ff;}#sk-container-id-1 div.sk-toggleable__content pre {margin: 0.2em;color: black;border-radius: 0.25em;background-color: #f0f8ff;}#sk-container-id-1 input.sk-toggleable__control:checked~div.sk-toggleable__content {max-height: 200px;max-width: 100%;overflow: auto;}#sk-container-id-1 input.sk-toggleable__control:checked~label.sk-toggleable__label-arrow:before {content: \"▾\";}#sk-container-id-1 div.sk-estimator input.sk-toggleable__control:checked~label.sk-toggleable__label {background-color: #d4ebff;}#sk-container-id-1 div.sk-label input.sk-toggleable__control:checked~label.sk-toggleable__label {background-color: #d4ebff;}#sk-container-id-1 input.sk-hidden--visually {border: 0;clip: rect(1px 1px 1px 1px);clip: rect(1px, 1px, 1px, 1px);height: 1px;margin: -1px;overflow: hidden;padding: 0;position: absolute;width: 1px;}#sk-container-id-1 div.sk-estimator {font-family: monospace;background-color: #f0f8ff;border: 1px dotted black;border-radius: 0.25em;box-sizing: border-box;margin-bottom: 0.5em;}#sk-container-id-1 div.sk-estimator:hover {background-color: #d4ebff;}#sk-container-id-1 div.sk-parallel-item::after {content: \"\";width: 100%;border-bottom: 1px solid gray;flex-grow: 1;}#sk-container-id-1 div.sk-label:hover label.sk-toggleable__label {background-color: #d4ebff;}#sk-container-id-1 div.sk-serial::before {content: \"\";position: absolute;border-left: 1px solid gray;box-sizing: border-box;top: 0;bottom: 0;left: 50%;z-index: 0;}#sk-container-id-1 div.sk-serial {display: flex;flex-direction: column;align-items: center;background-color: white;padding-right: 0.2em;padding-left: 0.2em;position: relative;}#sk-container-id-1 div.sk-item {position: relative;z-index: 1;}#sk-container-id-1 div.sk-parallel {display: flex;align-items: stretch;justify-content: center;background-color: white;position: relative;}#sk-container-id-1 div.sk-item::before, #sk-container-id-1 div.sk-parallel-item::before {content: \"\";position: absolute;border-left: 1px solid gray;box-sizing: border-box;top: 0;bottom: 0;left: 50%;z-index: -1;}#sk-container-id-1 div.sk-parallel-item {display: flex;flex-direction: column;z-index: 1;position: relative;background-color: white;}#sk-container-id-1 div.sk-parallel-item:first-child::after {align-self: flex-end;width: 50%;}#sk-container-id-1 div.sk-parallel-item:last-child::after {align-self: flex-start;width: 50%;}#sk-container-id-1 div.sk-parallel-item:only-child::after {width: 0;}#sk-container-id-1 div.sk-dashed-wrapped {border: 1px dashed gray;margin: 0 0.4em 0.5em 0.4em;box-sizing: border-box;padding-bottom: 0.4em;background-color: white;}#sk-container-id-1 div.sk-label label {font-family: monospace;font-weight: bold;display: inline-block;line-height: 1.2em;}#sk-container-id-1 div.sk-label-container {text-align: center;}#sk-container-id-1 div.sk-container {/* jupyter's `normalize.less` sets `[hidden] { display: none; }` but bootstrap.min.css set `[hidden] { display: none !important; }` so we also need the `!important` here to be able to override the default hidden behavior on the sphinx rendered scikit-learn.org. See: https://github.com/scikit-learn/scikit-learn/issues/21755 */display: inline-block !important;position: relative;}#sk-container-id-1 div.sk-text-repr-fallback {display: none;}</style><div id=\"sk-container-id-1\" class=\"sk-top-container\"><div class=\"sk-text-repr-fallback\"><pre>MinMaxScaler()</pre><b>In a Jupyter environment, please rerun this cell to show the HTML representation or trust the notebook. <br />On GitHub, the HTML representation is unable to render, please try loading this page with nbviewer.org.</b></div><div class=\"sk-container\" hidden><div class=\"sk-item\"><div class=\"sk-estimator sk-toggleable\"><input class=\"sk-toggleable__control sk-hidden--visually\" id=\"sk-estimator-id-1\" type=\"checkbox\" checked><label for=\"sk-estimator-id-1\" class=\"sk-toggleable__label sk-toggleable__label-arrow\">MinMaxScaler</label><div class=\"sk-toggleable__content\"><pre>MinMaxScaler()</pre></div></div></div></div></div>"
            ]
          },
          "metadata": {},
          "execution_count": 16
        }
      ],
      "source": [
        "#fit scaler onto the data, calculates parameters required for scaling of data later on\n",
        "scaler.fit(X_train)"
      ]
    },
    {
      "cell_type": "code",
      "execution_count": null,
      "metadata": {
        "id": "qKFU8ebscgSf"
      },
      "outputs": [],
      "source": [
        "X_train = scaler.transform(X_train)\n",
        "X_test = scaler.transform(X_test)\n",
        "#transform now data"
      ]
    },
    {
      "cell_type": "code",
      "source": [
        "#check data after transformation\n",
        "X_train"
      ],
      "metadata": {
        "colab": {
          "base_uri": "https://localhost:8080/"
        },
        "id": "k0AJbRxsl9dn",
        "outputId": "937ce790-4f8c-41e2-fefa-3c2db8e7f7a8"
      },
      "execution_count": null,
      "outputs": [
        {
          "output_type": "execute_result",
          "data": {
            "text/plain": [
              "array([[0.74046017, 0.32583248],\n",
              "       [0.43166001, 0.2555088 ],\n",
              "       [0.18468554, 0.70500664],\n",
              "       ...,\n",
              "       [0.54913363, 0.79933822],\n",
              "       [0.2834197 , 0.38818708],\n",
              "       [0.56282703, 0.42371827]])"
            ]
          },
          "metadata": {},
          "execution_count": 18
        }
      ]
    },
    {
      "cell_type": "code",
      "source": [
        "X_test"
      ],
      "metadata": {
        "colab": {
          "base_uri": "https://localhost:8080/"
        },
        "id": "HOcZ792wmBPT",
        "outputId": "334e3413-b02c-4e6d-cd85-b5f7656fc930"
      },
      "execution_count": null,
      "outputs": [
        {
          "output_type": "execute_result",
          "data": {
            "text/plain": [
              "array([[ 0.39533339,  0.38540671],\n",
              "       [ 0.57300502,  0.74070924],\n",
              "       [ 0.61294076,  0.65734264],\n",
              "       [ 0.38169528,  0.73076311],\n",
              "       [ 0.07776591,  0.46323644],\n",
              "       [ 0.49421971,  0.68949258],\n",
              "       [ 0.2065742 ,  0.70096247],\n",
              "       [ 0.55141988,  0.41776773],\n",
              "       [ 0.36812191,  0.69082394],\n",
              "       [ 0.56465724,  0.3877465 ],\n",
              "       [ 0.57048029,  0.71810824],\n",
              "       [ 0.79569525,  0.47979901],\n",
              "       [ 0.38488235,  0.41856516],\n",
              "       [ 0.33142545,  0.42411972],\n",
              "       [ 0.89361377,  0.63912775],\n",
              "       [ 0.50191166,  0.39789174],\n",
              "       [ 0.7159808 ,  0.43688384],\n",
              "       [ 0.35812192,  0.92028225],\n",
              "       [ 0.49989367,  0.85589311],\n",
              "       [ 0.63965434,  0.59024789],\n",
              "       [ 0.19053626,  0.34203634],\n",
              "       [ 0.40982896,  0.45849208],\n",
              "       [ 0.26844791,  0.40167269],\n",
              "       [ 0.38649709,  0.33592759],\n",
              "       [ 0.50654703,  0.65789843],\n",
              "       [ 0.41260556,  0.79338075],\n",
              "       [ 0.45631316,  0.61323307],\n",
              "       [ 0.44064792,  0.40889315],\n",
              "       [ 0.42963904,  0.87598452],\n",
              "       [ 0.5145433 ,  0.34457637],\n",
              "       [ 0.53589468,  0.39199459],\n",
              "       [ 0.46139966,  0.51485328],\n",
              "       [ 0.44369075,  0.42880573],\n",
              "       [ 0.49063994,  0.89952766],\n",
              "       [ 0.59785881,  0.32523307],\n",
              "       [ 0.28446406,  0.4651156 ],\n",
              "       [ 0.77957933,  0.39234978],\n",
              "       [ 0.53706097,  0.61018179],\n",
              "       [ 0.25989698,  0.66393142],\n",
              "       [ 0.11552588,  0.50295721],\n",
              "       [ 0.6318509 ,  0.70171257],\n",
              "       [ 0.48801329,  0.36279903],\n",
              "       [ 0.60976949,  0.68389143],\n",
              "       [ 0.63095152,  0.35195791],\n",
              "       [ 0.46866324,  0.54548323],\n",
              "       [ 0.85019104,  0.51945821],\n",
              "       [ 0.83979528,  0.70163971],\n",
              "       [ 0.57599467,  0.46915954],\n",
              "       [ 0.45446128,  0.18040915],\n",
              "       [ 0.43326779,  0.52930506],\n",
              "       [ 0.53232326,  0.54514241],\n",
              "       [ 0.5104231 ,  0.28110178],\n",
              "       [ 0.71924183,  0.50314927],\n",
              "       [ 0.40781023,  0.38597225],\n",
              "       [ 0.66211305,  0.73333352],\n",
              "       [ 0.41355453,  0.55046795],\n",
              "       [ 0.35345356,  0.85769268],\n",
              "       [ 0.8172902 ,  0.62751444],\n",
              "       [ 0.44700765,  0.44473536],\n",
              "       [ 0.32173317,  0.58272804],\n",
              "       [ 0.35972159,  0.57708269],\n",
              "       [ 0.52777368,  0.460713  ],\n",
              "       [ 0.67041025,  0.81296852],\n",
              "       [ 0.2983858 ,  0.42906031],\n",
              "       [ 0.65419814,  0.85816691],\n",
              "       [ 0.46450637,  0.71876496],\n",
              "       [ 0.56986751,  0.66026552],\n",
              "       [ 0.62009871,  0.54371935],\n",
              "       [ 0.44601909,  0.52130557],\n",
              "       [ 0.35080251,  0.63304989],\n",
              "       [ 0.39240226,  0.2974618 ],\n",
              "       [ 0.50365245,  0.60690861],\n",
              "       [ 0.45964199,  0.68916904],\n",
              "       [ 0.77715135,  0.44736318],\n",
              "       [ 0.48462568,  0.43971558],\n",
              "       [ 0.57572343,  0.55193792],\n",
              "       [ 0.64582759,  0.46888802],\n",
              "       [ 0.27203695,  0.52327051],\n",
              "       [ 0.45405772,  0.63661587],\n",
              "       [ 0.77439033,  0.67652698],\n",
              "       [ 0.1788543 ,  0.61512972],\n",
              "       [ 0.59603014,  0.61521319],\n",
              "       [ 0.81871858,  0.75616678],\n",
              "       [ 0.34815992,  0.51704866],\n",
              "       [ 0.48163413,  0.95886913],\n",
              "       [ 0.42444325,  0.50782896],\n",
              "       [ 0.59813691,  0.28152483],\n",
              "       [ 0.51781834,  0.6899035 ],\n",
              "       [ 0.64058053,  0.32854994],\n",
              "       [ 0.5677411 ,  0.47030439],\n",
              "       [ 0.62171107,  0.70355543],\n",
              "       [ 0.55626093,  0.37556544],\n",
              "       [ 0.28293   ,  0.54224094],\n",
              "       [ 0.36850431,  0.45941315],\n",
              "       [ 0.30905233,  0.63402852],\n",
              "       [ 0.48920938,  0.75134084],\n",
              "       [ 0.30612937,  0.25959956],\n",
              "       [ 0.4893308 ,  0.40200188],\n",
              "       [ 0.56898409,  0.56580728],\n",
              "       [ 0.36054139,  0.63246932],\n",
              "       [ 0.37715079,  0.79960251],\n",
              "       [ 0.44019866,  0.60708625],\n",
              "       [ 0.49132264,  0.19382744],\n",
              "       [ 0.73283645,  0.56595157],\n",
              "       [ 0.11913356,  0.57509245],\n",
              "       [ 0.81651358,  0.49716017],\n",
              "       [ 0.51386365,  0.54640496],\n",
              "       [ 0.29422406,  0.40635855],\n",
              "       [ 0.257302  ,  0.77987727],\n",
              "       [ 0.69295744,  0.3393722 ],\n",
              "       [ 0.34320142,  0.49869931],\n",
              "       [ 0.60998783,  0.75785862],\n",
              "       [ 0.64257897,  0.5053132 ],\n",
              "       [ 0.64810558,  0.55596935],\n",
              "       [ 0.39186852,  0.4122828 ],\n",
              "       [ 0.40269177,  0.53079874],\n",
              "       [ 0.54471161,  0.67955115],\n",
              "       [ 0.48562647,  0.87264883],\n",
              "       [ 0.5216583 ,  0.92203428],\n",
              "       [ 0.32327745,  0.93635669],\n",
              "       [ 0.51829851,  0.63989342],\n",
              "       [ 0.60403744,  0.48127254],\n",
              "       [ 0.19808441,  0.45219614],\n",
              "       [ 0.21235677,  0.22402339],\n",
              "       [ 0.52103298,  0.47432954],\n",
              "       [ 0.75275881,  0.63771274],\n",
              "       [ 0.56222912,  0.23841019],\n",
              "       [ 0.49388902,  0.55391671],\n",
              "       [ 0.26512554,  0.66400075],\n",
              "       [ 0.35839536,  0.58251275],\n",
              "       [ 0.46853745,  0.50187999],\n",
              "       [ 0.21779058,  0.51032544],\n",
              "       [ 0.40760834,  0.5582352 ],\n",
              "       [ 0.47412131,  0.4808989 ],\n",
              "       [ 0.7584014 ,  0.60263361],\n",
              "       [ 0.80476446,  0.52531515],\n",
              "       [ 0.15750364,  0.52209449],\n",
              "       [ 0.62297643,  0.73054697],\n",
              "       [ 0.54220998,  0.4370445 ],\n",
              "       [ 0.64071817,  0.58729863],\n",
              "       [ 0.37624254,  0.39561819],\n",
              "       [ 0.47207617,  0.60505174],\n",
              "       [ 0.50689808,  0.6699942 ],\n",
              "       [ 0.25653288,  0.3559246 ],\n",
              "       [ 0.43516389,  0.65904556],\n",
              "       [ 0.54183606,  0.71511953],\n",
              "       [ 0.31588989,  0.38194033],\n",
              "       [ 0.37163359,  0.6752128 ],\n",
              "       [ 0.53636781,  0.6351209 ],\n",
              "       [ 0.57491804,  0.39358871],\n",
              "       [ 0.60006421,  0.74498547],\n",
              "       [ 0.15783876,  0.43528378],\n",
              "       [ 0.31897328,  0.56290091],\n",
              "       [ 0.31548972,  0.67541007],\n",
              "       [ 0.45188635,  0.2906613 ],\n",
              "       [ 0.29686209,  0.54737882],\n",
              "       [ 0.27484316,  0.50765114],\n",
              "       [ 0.44483475,  0.55013572],\n",
              "       [ 0.51633816,  0.20581917],\n",
              "       [ 0.49875004,  0.31423739],\n",
              "       [ 0.632033  ,  0.67321752],\n",
              "       [ 0.54142042,  0.51915289],\n",
              "       [ 0.40612168,  0.50857201],\n",
              "       [ 0.57768636,  0.46826385],\n",
              "       [ 0.708897  ,  0.49480014],\n",
              "       [ 0.28950684,  0.31417882],\n",
              "       [ 0.82355331,  0.39180333],\n",
              "       [ 0.3483919 ,  0.09512343],\n",
              "       [ 0.48240186,  0.54299294],\n",
              "       [ 0.26649733,  0.7243406 ],\n",
              "       [ 0.42134372,  0.54318814],\n",
              "       [ 0.73390461,  0.35227035],\n",
              "       [ 0.41026323,  0.3522237 ],\n",
              "       [ 0.65221434,  0.28123699],\n",
              "       [ 0.44187649,  0.65521993],\n",
              "       [ 0.29028069,  0.58014879],\n",
              "       [ 0.39201149,  0.74137242],\n",
              "       [ 0.28244543,  0.61236049],\n",
              "       [ 0.31181604,  0.82351872],\n",
              "       [ 0.63279554,  0.5560242 ],\n",
              "       [ 0.59571019,  0.56406432],\n",
              "       [ 0.49307937,  0.53062721],\n",
              "       [ 0.52882815,  0.80770326],\n",
              "       [ 0.47291646,  0.66193458],\n",
              "       [ 0.80615232,  0.53347541],\n",
              "       [ 0.64767081,  0.34002497],\n",
              "       [ 0.5694891 ,  0.32045986],\n",
              "       [ 0.23316186,  0.49515027],\n",
              "       [ 0.66732072,  0.58391995],\n",
              "       [ 0.47633907,  0.75883219],\n",
              "       [ 0.54624806,  0.37701219],\n",
              "       [ 0.5280346 ,  0.48784086],\n",
              "       [ 0.36401195,  0.77098537],\n",
              "       [ 0.36172013,  0.6455878 ],\n",
              "       [ 0.29850817,  0.33584867],\n",
              "       [ 0.49565511,  0.82318014],\n",
              "       [ 0.37724049,  0.64332928],\n",
              "       [ 0.34110919,  0.27400214],\n",
              "       [ 0.4446484 ,  0.53845677],\n",
              "       [ 0.57213337,  0.3082775 ],\n",
              "       [ 0.60409208,  0.69106798],\n",
              "       [ 0.52224297,  0.20376625],\n",
              "       [ 0.65646516,  0.49451391],\n",
              "       [ 0.48175209,  0.34167122],\n",
              "       [-0.01410839,  0.28897307],\n",
              "       [ 0.59595942,  0.51917617],\n",
              "       [ 0.62368454,  0.14240428],\n",
              "       [ 0.15953323,  0.41374739],\n",
              "       [ 0.72472577,  0.57046806],\n",
              "       [ 0.58406826,  0.31562953],\n",
              "       [ 0.41624278,  0.67069806],\n",
              "       [ 0.40173754,  0.61717449],\n",
              "       [ 0.09025068,  0.74952807],\n",
              "       [ 0.39129383,  0.22402463],\n",
              "       [ 0.16436558,  0.49678277],\n",
              "       [ 0.40587128,  0.78010152],\n",
              "       [ 0.44487418,  0.79226894],\n",
              "       [ 0.24728692,  0.8599148 ],\n",
              "       [ 0.73246664,  0.54611238],\n",
              "       [ 0.29521621,  0.5729201 ],\n",
              "       [ 0.4639173 ,  0.46340204],\n",
              "       [ 0.44176873,  0.57180607],\n",
              "       [ 0.55467089,  0.38939173],\n",
              "       [ 0.68562916,  0.45763472],\n",
              "       [ 0.22692249,  0.66526314],\n",
              "       [ 0.48257754,  0.33203184],\n",
              "       [ 0.54078185,  0.72005117],\n",
              "       [ 0.23086484,  0.16784199],\n",
              "       [ 0.65123035,  0.71179209],\n",
              "       [ 0.86573192,  0.5268671 ],\n",
              "       [ 0.46973135,  0.19028123],\n",
              "       [ 0.29955478,  0.58320343],\n",
              "       [ 0.60286543,  0.66883838],\n",
              "       [ 0.41677795,  0.32030854],\n",
              "       [ 0.41606994,  0.48651484],\n",
              "       [ 0.4896751 ,  0.17612868],\n",
              "       [ 0.6464676 ,  0.49187803],\n",
              "       [ 0.61542612,  0.28588069],\n",
              "       [ 0.5929732 ,  0.59439439],\n",
              "       [ 0.66321565,  0.73356013],\n",
              "       [ 0.46311596,  0.61889648],\n",
              "       [ 0.57449099,  0.49582616],\n",
              "       [ 0.73591816,  0.68387827],\n",
              "       [ 0.57761502,  0.51876189],\n",
              "       [ 0.49463334,  0.59300732],\n",
              "       [ 0.34415736,  0.64092721],\n",
              "       [ 0.48787375,  0.44566992],\n",
              "       [ 0.63785744,  0.47001721],\n",
              "       [ 0.50956637,  0.44243032],\n",
              "       [ 0.79492857,  0.56691957],\n",
              "       [ 0.37979357,  0.51604759],\n",
              "       [ 0.27945211,  0.48686131],\n",
              "       [ 0.3483822 ,  0.68503624],\n",
              "       [ 0.42392129,  0.55090892],\n",
              "       [ 0.23964628,  1.01865159],\n",
              "       [ 0.34801238,  0.34273123],\n",
              "       [ 0.52591427,  0.61798747],\n",
              "       [ 0.5524785 ,  0.65837898],\n",
              "       [ 0.27627988,  0.50218421],\n",
              "       [ 0.42039396,  0.65250017],\n",
              "       [ 0.74451112,  0.58016671],\n",
              "       [ 0.71263669,  0.58215689],\n",
              "       [ 0.61991639,  0.9152325 ],\n",
              "       [ 0.18031634,  0.54693243],\n",
              "       [ 0.48381172,  0.3282921 ],\n",
              "       [ 0.41394375,  0.19108179],\n",
              "       [ 0.3364849 ,  0.50159694],\n",
              "       [ 0.62397331,  0.23799435],\n",
              "       [ 0.3890586 ,  0.66828674],\n",
              "       [ 0.44031289,  0.60153793],\n",
              "       [ 0.78430587,  0.51694283],\n",
              "       [ 0.4431304 ,  0.44856803],\n",
              "       [ 0.57356327,  0.55964003],\n",
              "       [ 0.42370371,  0.32378282],\n",
              "       [ 0.51313398,  0.52265074],\n",
              "       [ 0.45543037,  0.82611348],\n",
              "       [ 0.6987176 ,  0.42124178],\n",
              "       [ 0.42417444,  0.70209803],\n",
              "       [ 0.34096502,  0.54367395],\n",
              "       [ 0.5819292 ,  0.02584364],\n",
              "       [ 0.36897232,  0.62574984],\n",
              "       [ 0.5143083 ,  0.76527682],\n",
              "       [ 0.34456986,  0.29927801],\n",
              "       [ 0.22179862,  0.56242645],\n",
              "       [ 0.36091838,  0.59304667],\n",
              "       [ 0.4921206 ,  0.61709644],\n",
              "       [ 0.67907034,  0.6647662 ],\n",
              "       [ 0.14766961,  0.4725882 ],\n",
              "       [ 0.19296391,  0.57449626],\n",
              "       [ 0.52465099,  0.47822955],\n",
              "       [ 0.47737293,  0.73662192],\n",
              "       [ 0.25942707,  0.64318087],\n",
              "       [ 0.33331191,  0.24587449],\n",
              "       [ 0.50211082,  0.63687026],\n",
              "       [ 0.44485012,  0.4408569 ],\n",
              "       [ 0.36842211,  0.6496984 ],\n",
              "       [ 0.0178803 ,  0.79438818],\n",
              "       [ 0.59413373,  0.70213846],\n",
              "       [ 0.53929518,  0.33822417],\n",
              "       [ 0.2903287 ,  0.44841353]])"
            ]
          },
          "metadata": {},
          "execution_count": 19
        }
      ]
    },
    {
      "cell_type": "code",
      "source": [
        "#max and min should be now 0 and 1 for training dataset\n",
        "X_train.max()\n",
        "X_train.min()\n",
        "\n",
        "#scaled everything 0-1 next part is creating neural network"
      ],
      "metadata": {
        "colab": {
          "base_uri": "https://localhost:8080/"
        },
        "id": "0y8fJ0d0mGlA",
        "outputId": "3a100ddd-2e03-4ea1-c1a1-a04b50408577"
      },
      "execution_count": null,
      "outputs": [
        {
          "output_type": "execute_result",
          "data": {
            "text/plain": [
              "0.0"
            ]
          },
          "metadata": {},
          "execution_count": 20
        }
      ]
    },
    {
      "cell_type": "markdown",
      "metadata": {
        "id": "G6LLYWfccgSf"
      },
      "source": [
        "# TensorFlow 2.0 Syntax\n",
        "\n",
        "\n",
        "## Import Options\n",
        "\n",
        "There are several ways you can import Keras from Tensorflow (this is hugely a personal style choice, please use any import methods you prefer). We will use the method shown in the **official TF documentation**."
      ]
    },
    {
      "cell_type": "code",
      "execution_count": null,
      "metadata": {
        "id": "0hM_QlJkcgSf"
      },
      "outputs": [],
      "source": [
        "import tensorflow as tf"
      ]
    },
    {
      "cell_type": "code",
      "execution_count": null,
      "metadata": {
        "id": "lYHwHi6EcgSg"
      },
      "outputs": [],
      "source": [
        "from tensorflow.keras.models import Sequential\n",
        "#import models and keras API, check documentation\n",
        "from tensorflow.keras.layers import Dense"
      ]
    },
    {
      "cell_type": "code",
      "execution_count": null,
      "metadata": {
        "id": "XeetoDQQcgSg"
      },
      "outputs": [],
      "source": [
        "#help(Sequential)\n",
        "#nice documentation, various examples, how to construct model and add layers to it, also check Dense\n",
        "#2 ways of creating keras model\n",
        "#sequential and pass [] list of layers you want to use\n",
        "#dense is regular densely connected neural network layer, normal feed-forward network, all neurons are connected \n",
        "#2 parameters inside, units - number of neeurons, activation - what activation function neurons neeed to be using"
      ]
    },
    {
      "cell_type": "markdown",
      "metadata": {
        "id": "gxu0D_IbcgSg"
      },
      "source": [
        "## Creating a Model\n",
        "\n",
        "There are two ways to create models through the TF 2 Keras API, either pass in a list of layers all at once, or add them one by one.\n",
        "\n",
        "Let's show both methods (its up to you to choose which method you prefer)."
      ]
    },
    {
      "cell_type": "code",
      "execution_count": null,
      "metadata": {
        "id": "GFvt-5PAcgSh"
      },
      "outputs": [],
      "source": [
        "from tensorflow.keras.models import Sequential\n",
        "from tensorflow.keras.layers import Dense, Activation"
      ]
    },
    {
      "cell_type": "markdown",
      "metadata": {
        "id": "65E1syYfcgSh"
      },
      "source": [
        "### Model - as a list of layers"
      ]
    },
    {
      "cell_type": "code",
      "execution_count": null,
      "metadata": {
        "id": "uqDJDuQ1cgSh"
      },
      "outputs": [],
      "source": [
        "model = Sequential([\n",
        "    Dense(units=2),\n",
        "    Dense(units=2),\n",
        "    Dense(units=2)\n",
        "])"
      ]
    },
    {
      "cell_type": "markdown",
      "metadata": {
        "id": "fmMsMsJpcgSi"
      },
      "source": [
        "### Model - adding in layers one by one"
      ]
    },
    {
      "cell_type": "code",
      "execution_count": null,
      "metadata": {
        "id": "AAD8hyK9cgSi"
      },
      "outputs": [],
      "source": [
        "model = Sequential()\n",
        "\n",
        "model.add(Dense(4, activation='relu'))\n",
        "model.add(Dense(4, activation='relu'))"
      ]
    },
    {
      "cell_type": "markdown",
      "metadata": {
        "id": "IjiuEEHecgSi"
      },
      "source": [
        "Let's go ahead and build a simple model and then compile it by defining our solver"
      ]
    },
    {
      "cell_type": "code",
      "execution_count": null,
      "metadata": {
        "id": "hzo4ztajcgSi"
      },
      "outputs": [],
      "source": [
        "model = Sequential()\n",
        "\n",
        "model.add(Dense(4,activation='relu'))\n",
        "model.add(Dense(4,activation='relu'))\n",
        "model.add(Dense(4,activation='relu'))\n",
        "\n",
        "# Final output node for prediction of label, output layer depends on your situation and what you are trying to predict\n",
        "#single predicted price value, predict one price so 1 neuron, dense 1\n",
        "#measure predicted price vs true price\n",
        "model.add(Dense(1))\n",
        "\n",
        "#compile your model\n",
        "#2 parameters, optimizer - how to perform gradient descent, also Adam optimizer, check documentation\n",
        "#loss function - what you are actually trying to accomplish\n",
        "#classification - multiclass - categorical crossentropy\n",
        "#for binary use binary crossentropy\n",
        "#regression problem, continuous use mean squared error, mean sq error of prediction - true label\n",
        "model.compile(optimizer='rmsprop', loss='mse')"
      ]
    },
    {
      "cell_type": "markdown",
      "metadata": {
        "id": "A4LhfDNkcgSj"
      },
      "source": [
        "### Choosing an optimizer and loss\n",
        "\n",
        "Keep in mind what kind of problem you are trying to solve:\n",
        "\n",
        "    # For a multi-class classification problem\n",
        "    model.compile(optimizer='rmsprop',\n",
        "                  loss='categorical_crossentropy',\n",
        "                  metrics=['accuracy'])\n",
        "\n",
        "    # For a binary classification problem\n",
        "    model.compile(optimizer='rmsprop',\n",
        "                  loss='binary_crossentropy',\n",
        "                  metrics=['accuracy'])\n",
        "\n",
        "    # For a mean squared error regression problem\n",
        "    model.compile(optimizer='rmsprop',\n",
        "                  loss='mse')"
      ]
    },
    {
      "cell_type": "markdown",
      "metadata": {
        "id": "k7wRijPacgSj"
      },
      "source": [
        "# Training\n",
        "\n",
        "Below are some common definitions that are necessary to know and understand to correctly utilize Keras:\n",
        "\n",
        "* Sample: one element of a dataset.\n",
        "    * Example: one image is a sample in a convolutional network\n",
        "    * Example: one audio file is a sample for a speech recognition model\n",
        "* Batch: a set of N samples. The samples in a batch are processed independently, in parallel. If training, a batch results in only one update to the model.A batch generally approximates the distribution of the input data better than a single input. The larger the batch, the better the approximation; however, it is also true that the batch will take longer to process and will still result in only one update. For inference (evaluate/predict), it is recommended to pick a batch size that is as large as you can afford without going out of memory (since larger batches will usually result in faster evaluation/prediction).\n",
        "* Epoch: an arbitrary cutoff, generally defined as \"one pass over the entire dataset\", used to separate training into distinct phases, which is useful for logging and periodic evaluation.\n",
        "* When using validation_data or validation_split with the fit method of Keras models, evaluation will be run at the end of every epoch.\n",
        "* Within Keras, there is the ability to add callbacks specifically designed to be run at the end of an epoch. Examples of these are learning rate changes and model checkpointing (saving)."
      ]
    },
    {
      "cell_type": "code",
      "execution_count": null,
      "metadata": {
        "colab": {
          "base_uri": "https://localhost:8080/"
        },
        "id": "emnWkZzZcgSj",
        "outputId": "7f235721-e63b-4ecc-88a2-ef3e8a55fea7"
      },
      "outputs": [
        {
          "output_type": "stream",
          "name": "stdout",
          "text": [
            "Epoch 1/250\n",
            "22/22 [==============================] - 1s 2ms/step - loss: 256403.4062\n",
            "Epoch 2/250\n",
            "22/22 [==============================] - 0s 2ms/step - loss: 256210.4844\n",
            "Epoch 3/250\n",
            "22/22 [==============================] - 0s 2ms/step - loss: 256010.2188\n",
            "Epoch 4/250\n",
            "22/22 [==============================] - 0s 2ms/step - loss: 255785.7656\n",
            "Epoch 5/250\n",
            "22/22 [==============================] - 0s 2ms/step - loss: 255534.8125\n",
            "Epoch 6/250\n",
            "22/22 [==============================] - 0s 2ms/step - loss: 255256.8281\n",
            "Epoch 7/250\n",
            "22/22 [==============================] - 0s 2ms/step - loss: 254946.2188\n",
            "Epoch 8/250\n",
            "22/22 [==============================] - 0s 2ms/step - loss: 254606.4531\n",
            "Epoch 9/250\n",
            "22/22 [==============================] - 0s 2ms/step - loss: 254232.2031\n",
            "Epoch 10/250\n",
            "22/22 [==============================] - 0s 2ms/step - loss: 253821.0000\n",
            "Epoch 11/250\n",
            "22/22 [==============================] - 0s 2ms/step - loss: 253367.7188\n",
            "Epoch 12/250\n",
            "22/22 [==============================] - 0s 3ms/step - loss: 252868.3438\n",
            "Epoch 13/250\n",
            "22/22 [==============================] - 0s 2ms/step - loss: 252319.8594\n",
            "Epoch 14/250\n",
            "22/22 [==============================] - 0s 2ms/step - loss: 251726.4062\n",
            "Epoch 15/250\n",
            "22/22 [==============================] - 0s 3ms/step - loss: 251077.9844\n",
            "Epoch 16/250\n",
            "22/22 [==============================] - 0s 2ms/step - loss: 250370.2812\n",
            "Epoch 17/250\n",
            "22/22 [==============================] - 0s 2ms/step - loss: 249602.7500\n",
            "Epoch 18/250\n",
            "22/22 [==============================] - 0s 2ms/step - loss: 248773.9375\n",
            "Epoch 19/250\n",
            "22/22 [==============================] - 0s 2ms/step - loss: 247877.7656\n",
            "Epoch 20/250\n",
            "22/22 [==============================] - 0s 2ms/step - loss: 246917.7812\n",
            "Epoch 21/250\n",
            "22/22 [==============================] - 0s 2ms/step - loss: 245881.6719\n",
            "Epoch 22/250\n",
            "22/22 [==============================] - 0s 2ms/step - loss: 244763.6406\n",
            "Epoch 23/250\n",
            "22/22 [==============================] - 0s 2ms/step - loss: 243548.1406\n",
            "Epoch 24/250\n",
            "22/22 [==============================] - 0s 2ms/step - loss: 242239.0625\n",
            "Epoch 25/250\n",
            "22/22 [==============================] - 0s 2ms/step - loss: 240836.8438\n",
            "Epoch 26/250\n",
            "22/22 [==============================] - 0s 2ms/step - loss: 239330.4062\n",
            "Epoch 27/250\n",
            "22/22 [==============================] - 0s 2ms/step - loss: 237706.7812\n",
            "Epoch 28/250\n",
            "22/22 [==============================] - 0s 2ms/step - loss: 235990.4062\n",
            "Epoch 29/250\n",
            "22/22 [==============================] - 0s 2ms/step - loss: 234144.9844\n",
            "Epoch 30/250\n",
            "22/22 [==============================] - 0s 2ms/step - loss: 232182.9688\n",
            "Epoch 31/250\n",
            "22/22 [==============================] - 0s 2ms/step - loss: 230091.2188\n",
            "Epoch 32/250\n",
            "22/22 [==============================] - 0s 2ms/step - loss: 227884.7344\n",
            "Epoch 33/250\n",
            "22/22 [==============================] - 0s 2ms/step - loss: 225547.1719\n",
            "Epoch 34/250\n",
            "22/22 [==============================] - 0s 2ms/step - loss: 223061.6875\n",
            "Epoch 35/250\n",
            "22/22 [==============================] - 0s 2ms/step - loss: 220426.5625\n",
            "Epoch 36/250\n",
            "22/22 [==============================] - 0s 2ms/step - loss: 217663.6406\n",
            "Epoch 37/250\n",
            "22/22 [==============================] - 0s 2ms/step - loss: 214742.9219\n",
            "Epoch 38/250\n",
            "22/22 [==============================] - 0s 2ms/step - loss: 211678.8594\n",
            "Epoch 39/250\n",
            "22/22 [==============================] - 0s 2ms/step - loss: 208454.1562\n",
            "Epoch 40/250\n",
            "22/22 [==============================] - 0s 2ms/step - loss: 205078.4062\n",
            "Epoch 41/250\n",
            "22/22 [==============================] - 0s 2ms/step - loss: 201538.3750\n",
            "Epoch 42/250\n",
            "22/22 [==============================] - 0s 2ms/step - loss: 197855.5469\n",
            "Epoch 43/250\n",
            "22/22 [==============================] - 0s 2ms/step - loss: 194011.1719\n",
            "Epoch 44/250\n",
            "22/22 [==============================] - 0s 2ms/step - loss: 190020.0000\n",
            "Epoch 45/250\n",
            "22/22 [==============================] - 0s 2ms/step - loss: 185838.9531\n",
            "Epoch 46/250\n",
            "22/22 [==============================] - 0s 2ms/step - loss: 181487.5312\n",
            "Epoch 47/250\n",
            "22/22 [==============================] - 0s 2ms/step - loss: 177005.3906\n",
            "Epoch 48/250\n",
            "22/22 [==============================] - 0s 2ms/step - loss: 172363.6250\n",
            "Epoch 49/250\n",
            "22/22 [==============================] - 0s 2ms/step - loss: 167553.7812\n",
            "Epoch 50/250\n",
            "22/22 [==============================] - 0s 2ms/step - loss: 162582.7031\n",
            "Epoch 51/250\n",
            "22/22 [==============================] - 0s 2ms/step - loss: 157484.5469\n",
            "Epoch 52/250\n",
            "22/22 [==============================] - 0s 2ms/step - loss: 152239.8906\n",
            "Epoch 53/250\n",
            "22/22 [==============================] - 0s 2ms/step - loss: 146848.6094\n",
            "Epoch 54/250\n",
            "22/22 [==============================] - 0s 2ms/step - loss: 141293.4219\n",
            "Epoch 55/250\n",
            "22/22 [==============================] - 0s 2ms/step - loss: 135618.3438\n",
            "Epoch 56/250\n",
            "22/22 [==============================] - 0s 2ms/step - loss: 129856.9453\n",
            "Epoch 57/250\n",
            "22/22 [==============================] - 0s 2ms/step - loss: 123983.0859\n",
            "Epoch 58/250\n",
            "22/22 [==============================] - 0s 2ms/step - loss: 117984.1562\n",
            "Epoch 59/250\n",
            "22/22 [==============================] - 0s 2ms/step - loss: 111915.1641\n",
            "Epoch 60/250\n",
            "22/22 [==============================] - 0s 2ms/step - loss: 105783.5312\n",
            "Epoch 61/250\n",
            "22/22 [==============================] - 0s 2ms/step - loss: 99586.6719\n",
            "Epoch 62/250\n",
            "22/22 [==============================] - 0s 2ms/step - loss: 93347.9531\n",
            "Epoch 63/250\n",
            "22/22 [==============================] - 0s 2ms/step - loss: 87056.2031\n",
            "Epoch 64/250\n",
            "22/22 [==============================] - 0s 2ms/step - loss: 80791.1250\n",
            "Epoch 65/250\n",
            "22/22 [==============================] - 0s 2ms/step - loss: 74559.9609\n",
            "Epoch 66/250\n",
            "22/22 [==============================] - 0s 2ms/step - loss: 68362.7344\n",
            "Epoch 67/250\n",
            "22/22 [==============================] - 0s 2ms/step - loss: 62233.8477\n",
            "Epoch 68/250\n",
            "22/22 [==============================] - 0s 2ms/step - loss: 56219.6641\n",
            "Epoch 69/250\n",
            "22/22 [==============================] - 0s 2ms/step - loss: 50345.6133\n",
            "Epoch 70/250\n",
            "22/22 [==============================] - 0s 2ms/step - loss: 44612.1836\n",
            "Epoch 71/250\n",
            "22/22 [==============================] - 0s 2ms/step - loss: 39030.1133\n",
            "Epoch 72/250\n",
            "22/22 [==============================] - 0s 2ms/step - loss: 33727.2383\n",
            "Epoch 73/250\n",
            "22/22 [==============================] - 0s 2ms/step - loss: 28671.0117\n",
            "Epoch 74/250\n",
            "22/22 [==============================] - 0s 2ms/step - loss: 23934.2656\n",
            "Epoch 75/250\n",
            "22/22 [==============================] - 0s 2ms/step - loss: 19535.7871\n",
            "Epoch 76/250\n",
            "22/22 [==============================] - 0s 2ms/step - loss: 15516.7490\n",
            "Epoch 77/250\n",
            "22/22 [==============================] - 0s 2ms/step - loss: 11982.8086\n",
            "Epoch 78/250\n",
            "22/22 [==============================] - 0s 2ms/step - loss: 8850.8076\n",
            "Epoch 79/250\n",
            "22/22 [==============================] - 0s 2ms/step - loss: 6299.1309\n",
            "Epoch 80/250\n",
            "22/22 [==============================] - 0s 2ms/step - loss: 4299.8516\n",
            "Epoch 81/250\n",
            "22/22 [==============================] - 0s 2ms/step - loss: 2894.0903\n",
            "Epoch 82/250\n",
            "22/22 [==============================] - 0s 2ms/step - loss: 2053.6511\n",
            "Epoch 83/250\n",
            "22/22 [==============================] - 0s 2ms/step - loss: 1710.3182\n",
            "Epoch 84/250\n",
            "22/22 [==============================] - 0s 2ms/step - loss: 1626.7827\n",
            "Epoch 85/250\n",
            "22/22 [==============================] - 0s 2ms/step - loss: 1594.7053\n",
            "Epoch 86/250\n",
            "22/22 [==============================] - 0s 2ms/step - loss: 1566.1371\n",
            "Epoch 87/250\n",
            "22/22 [==============================] - 0s 2ms/step - loss: 1537.2125\n",
            "Epoch 88/250\n",
            "22/22 [==============================] - 0s 2ms/step - loss: 1510.8824\n",
            "Epoch 89/250\n",
            "22/22 [==============================] - 0s 2ms/step - loss: 1481.6150\n",
            "Epoch 90/250\n",
            "22/22 [==============================] - 0s 2ms/step - loss: 1453.6853\n",
            "Epoch 91/250\n",
            "22/22 [==============================] - 0s 2ms/step - loss: 1423.1279\n",
            "Epoch 92/250\n",
            "22/22 [==============================] - 0s 2ms/step - loss: 1395.6003\n",
            "Epoch 93/250\n",
            "22/22 [==============================] - 0s 2ms/step - loss: 1364.7260\n",
            "Epoch 94/250\n",
            "22/22 [==============================] - 0s 2ms/step - loss: 1341.3167\n",
            "Epoch 95/250\n",
            "22/22 [==============================] - 0s 2ms/step - loss: 1312.4226\n",
            "Epoch 96/250\n",
            "22/22 [==============================] - 0s 2ms/step - loss: 1285.4260\n",
            "Epoch 97/250\n",
            "22/22 [==============================] - 0s 2ms/step - loss: 1259.0726\n",
            "Epoch 98/250\n",
            "22/22 [==============================] - 0s 2ms/step - loss: 1232.2640\n",
            "Epoch 99/250\n",
            "22/22 [==============================] - 0s 2ms/step - loss: 1207.6367\n",
            "Epoch 100/250\n",
            "22/22 [==============================] - 0s 2ms/step - loss: 1184.3196\n",
            "Epoch 101/250\n",
            "22/22 [==============================] - 0s 2ms/step - loss: 1160.3921\n",
            "Epoch 102/250\n",
            "22/22 [==============================] - 0s 2ms/step - loss: 1133.6093\n",
            "Epoch 103/250\n",
            "22/22 [==============================] - 0s 2ms/step - loss: 1104.9706\n",
            "Epoch 104/250\n",
            "22/22 [==============================] - 0s 2ms/step - loss: 1078.7864\n",
            "Epoch 105/250\n",
            "22/22 [==============================] - 0s 2ms/step - loss: 1048.1831\n",
            "Epoch 106/250\n",
            "22/22 [==============================] - 0s 2ms/step - loss: 1026.0432\n",
            "Epoch 107/250\n",
            "22/22 [==============================] - 0s 2ms/step - loss: 1001.4540\n",
            "Epoch 108/250\n",
            "22/22 [==============================] - 0s 2ms/step - loss: 977.1393\n",
            "Epoch 109/250\n",
            "22/22 [==============================] - 0s 2ms/step - loss: 949.9316\n",
            "Epoch 110/250\n",
            "22/22 [==============================] - 0s 2ms/step - loss: 930.0145\n",
            "Epoch 111/250\n",
            "22/22 [==============================] - 0s 2ms/step - loss: 906.1836\n",
            "Epoch 112/250\n",
            "22/22 [==============================] - 0s 2ms/step - loss: 880.9975\n",
            "Epoch 113/250\n",
            "22/22 [==============================] - 0s 2ms/step - loss: 860.1098\n",
            "Epoch 114/250\n",
            "22/22 [==============================] - 0s 3ms/step - loss: 837.7089\n",
            "Epoch 115/250\n",
            "22/22 [==============================] - 0s 2ms/step - loss: 813.7629\n",
            "Epoch 116/250\n",
            "22/22 [==============================] - 0s 2ms/step - loss: 792.1563\n",
            "Epoch 117/250\n",
            "22/22 [==============================] - 0s 2ms/step - loss: 768.4398\n",
            "Epoch 118/250\n",
            "22/22 [==============================] - 0s 2ms/step - loss: 746.3777\n",
            "Epoch 119/250\n",
            "22/22 [==============================] - 0s 2ms/step - loss: 722.4512\n",
            "Epoch 120/250\n",
            "22/22 [==============================] - 0s 2ms/step - loss: 699.7388\n",
            "Epoch 121/250\n",
            "22/22 [==============================] - 0s 2ms/step - loss: 679.4457\n",
            "Epoch 122/250\n",
            "22/22 [==============================] - 0s 2ms/step - loss: 656.5056\n",
            "Epoch 123/250\n",
            "22/22 [==============================] - 0s 2ms/step - loss: 635.0595\n",
            "Epoch 124/250\n",
            "22/22 [==============================] - 0s 2ms/step - loss: 614.4850\n",
            "Epoch 125/250\n",
            "22/22 [==============================] - 0s 2ms/step - loss: 593.9239\n",
            "Epoch 126/250\n",
            "22/22 [==============================] - 0s 2ms/step - loss: 570.0831\n",
            "Epoch 127/250\n",
            "22/22 [==============================] - 0s 2ms/step - loss: 550.5157\n",
            "Epoch 128/250\n",
            "22/22 [==============================] - 0s 2ms/step - loss: 528.6806\n",
            "Epoch 129/250\n",
            "22/22 [==============================] - 0s 2ms/step - loss: 507.2850\n",
            "Epoch 130/250\n",
            "22/22 [==============================] - 0s 2ms/step - loss: 487.1384\n",
            "Epoch 131/250\n",
            "22/22 [==============================] - 0s 2ms/step - loss: 469.2315\n",
            "Epoch 132/250\n",
            "22/22 [==============================] - 0s 2ms/step - loss: 450.0145\n",
            "Epoch 133/250\n",
            "22/22 [==============================] - 0s 2ms/step - loss: 433.2376\n",
            "Epoch 134/250\n",
            "22/22 [==============================] - 0s 2ms/step - loss: 415.7539\n",
            "Epoch 135/250\n",
            "22/22 [==============================] - 0s 2ms/step - loss: 399.8515\n",
            "Epoch 136/250\n",
            "22/22 [==============================] - 0s 2ms/step - loss: 380.8605\n",
            "Epoch 137/250\n",
            "22/22 [==============================] - 0s 2ms/step - loss: 365.3907\n",
            "Epoch 138/250\n",
            "22/22 [==============================] - 0s 3ms/step - loss: 348.0123\n",
            "Epoch 139/250\n",
            "22/22 [==============================] - 0s 3ms/step - loss: 332.7901\n",
            "Epoch 140/250\n",
            "22/22 [==============================] - 0s 2ms/step - loss: 317.0686\n",
            "Epoch 141/250\n",
            "22/22 [==============================] - 0s 3ms/step - loss: 302.5785\n",
            "Epoch 142/250\n",
            "22/22 [==============================] - 0s 3ms/step - loss: 289.9316\n",
            "Epoch 143/250\n",
            "22/22 [==============================] - 0s 3ms/step - loss: 275.2205\n",
            "Epoch 144/250\n",
            "22/22 [==============================] - 0s 2ms/step - loss: 259.7487\n",
            "Epoch 145/250\n",
            "22/22 [==============================] - 0s 2ms/step - loss: 244.9294\n",
            "Epoch 146/250\n",
            "22/22 [==============================] - 0s 2ms/step - loss: 233.5224\n",
            "Epoch 147/250\n",
            "22/22 [==============================] - 0s 2ms/step - loss: 219.2730\n",
            "Epoch 148/250\n",
            "22/22 [==============================] - 0s 2ms/step - loss: 206.0226\n",
            "Epoch 149/250\n",
            "22/22 [==============================] - 0s 2ms/step - loss: 194.2095\n",
            "Epoch 150/250\n",
            "22/22 [==============================] - 0s 2ms/step - loss: 182.2150\n",
            "Epoch 151/250\n",
            "22/22 [==============================] - 0s 2ms/step - loss: 171.7276\n",
            "Epoch 152/250\n",
            "22/22 [==============================] - 0s 2ms/step - loss: 160.2296\n",
            "Epoch 153/250\n",
            "22/22 [==============================] - 0s 2ms/step - loss: 150.2298\n",
            "Epoch 154/250\n",
            "22/22 [==============================] - 0s 2ms/step - loss: 142.2548\n",
            "Epoch 155/250\n",
            "22/22 [==============================] - 0s 2ms/step - loss: 132.9647\n",
            "Epoch 156/250\n",
            "22/22 [==============================] - 0s 2ms/step - loss: 123.1518\n",
            "Epoch 157/250\n",
            "22/22 [==============================] - 0s 2ms/step - loss: 115.7588\n",
            "Epoch 158/250\n",
            "22/22 [==============================] - 0s 2ms/step - loss: 108.5436\n",
            "Epoch 159/250\n",
            "22/22 [==============================] - 0s 2ms/step - loss: 100.9065\n",
            "Epoch 160/250\n",
            "22/22 [==============================] - 0s 2ms/step - loss: 94.0238\n",
            "Epoch 161/250\n",
            "22/22 [==============================] - 0s 3ms/step - loss: 87.1824\n",
            "Epoch 162/250\n",
            "22/22 [==============================] - 0s 3ms/step - loss: 81.0814\n",
            "Epoch 163/250\n",
            "22/22 [==============================] - 0s 3ms/step - loss: 73.9322\n",
            "Epoch 164/250\n",
            "22/22 [==============================] - 0s 3ms/step - loss: 68.8732\n",
            "Epoch 165/250\n",
            "22/22 [==============================] - 0s 2ms/step - loss: 62.7294\n",
            "Epoch 166/250\n",
            "22/22 [==============================] - 0s 3ms/step - loss: 58.4682\n",
            "Epoch 167/250\n",
            "22/22 [==============================] - 0s 3ms/step - loss: 54.2433\n",
            "Epoch 168/250\n",
            "22/22 [==============================] - 0s 3ms/step - loss: 51.1769\n",
            "Epoch 169/250\n",
            "22/22 [==============================] - 0s 2ms/step - loss: 47.3232\n",
            "Epoch 170/250\n",
            "22/22 [==============================] - 0s 3ms/step - loss: 45.0744\n",
            "Epoch 171/250\n",
            "22/22 [==============================] - 0s 3ms/step - loss: 42.2632\n",
            "Epoch 172/250\n",
            "22/22 [==============================] - 0s 2ms/step - loss: 39.4807\n",
            "Epoch 173/250\n",
            "22/22 [==============================] - 0s 3ms/step - loss: 36.9289\n",
            "Epoch 174/250\n",
            "22/22 [==============================] - 0s 2ms/step - loss: 34.6348\n",
            "Epoch 175/250\n",
            "22/22 [==============================] - 0s 2ms/step - loss: 33.1960\n",
            "Epoch 176/250\n",
            "22/22 [==============================] - 0s 2ms/step - loss: 31.4419\n",
            "Epoch 177/250\n",
            "22/22 [==============================] - 0s 3ms/step - loss: 29.9501\n",
            "Epoch 178/250\n",
            "22/22 [==============================] - 0s 3ms/step - loss: 28.8281\n",
            "Epoch 179/250\n",
            "22/22 [==============================] - 0s 3ms/step - loss: 28.1713\n",
            "Epoch 180/250\n",
            "22/22 [==============================] - 0s 2ms/step - loss: 27.1919\n",
            "Epoch 181/250\n",
            "22/22 [==============================] - 0s 3ms/step - loss: 26.6724\n",
            "Epoch 182/250\n",
            "22/22 [==============================] - 0s 2ms/step - loss: 26.5322\n",
            "Epoch 183/250\n",
            "22/22 [==============================] - 0s 2ms/step - loss: 25.9536\n",
            "Epoch 184/250\n",
            "22/22 [==============================] - 0s 2ms/step - loss: 25.8493\n",
            "Epoch 185/250\n",
            "22/22 [==============================] - 0s 3ms/step - loss: 25.5170\n",
            "Epoch 186/250\n",
            "22/22 [==============================] - 0s 3ms/step - loss: 25.2892\n",
            "Epoch 187/250\n",
            "22/22 [==============================] - 0s 3ms/step - loss: 25.0317\n",
            "Epoch 188/250\n",
            "22/22 [==============================] - 0s 3ms/step - loss: 24.9855\n",
            "Epoch 189/250\n",
            "22/22 [==============================] - 0s 3ms/step - loss: 25.0061\n",
            "Epoch 190/250\n",
            "22/22 [==============================] - 0s 2ms/step - loss: 24.5447\n",
            "Epoch 191/250\n",
            "22/22 [==============================] - 0s 2ms/step - loss: 24.8589\n",
            "Epoch 192/250\n",
            "22/22 [==============================] - 0s 2ms/step - loss: 24.4832\n",
            "Epoch 193/250\n",
            "22/22 [==============================] - 0s 3ms/step - loss: 25.0375\n",
            "Epoch 194/250\n",
            "22/22 [==============================] - 0s 3ms/step - loss: 24.4317\n",
            "Epoch 195/250\n",
            "22/22 [==============================] - 0s 2ms/step - loss: 25.1377\n",
            "Epoch 196/250\n",
            "22/22 [==============================] - 0s 3ms/step - loss: 24.2099\n",
            "Epoch 197/250\n",
            "22/22 [==============================] - 0s 2ms/step - loss: 24.4920\n",
            "Epoch 198/250\n",
            "22/22 [==============================] - 0s 2ms/step - loss: 24.1576\n",
            "Epoch 199/250\n",
            "22/22 [==============================] - 0s 2ms/step - loss: 24.7143\n",
            "Epoch 200/250\n",
            "22/22 [==============================] - 0s 2ms/step - loss: 24.3279\n",
            "Epoch 201/250\n",
            "22/22 [==============================] - 0s 2ms/step - loss: 24.4964\n",
            "Epoch 202/250\n",
            "22/22 [==============================] - 0s 2ms/step - loss: 24.5008\n",
            "Epoch 203/250\n",
            "22/22 [==============================] - 0s 2ms/step - loss: 23.9995\n",
            "Epoch 204/250\n",
            "22/22 [==============================] - 0s 2ms/step - loss: 24.1943\n",
            "Epoch 205/250\n",
            "22/22 [==============================] - 0s 2ms/step - loss: 24.3212\n",
            "Epoch 206/250\n",
            "22/22 [==============================] - 0s 2ms/step - loss: 24.0541\n",
            "Epoch 207/250\n",
            "22/22 [==============================] - 0s 2ms/step - loss: 24.1762\n",
            "Epoch 208/250\n",
            "22/22 [==============================] - 0s 2ms/step - loss: 24.3656\n",
            "Epoch 209/250\n",
            "22/22 [==============================] - 0s 2ms/step - loss: 24.1683\n",
            "Epoch 210/250\n",
            "22/22 [==============================] - 0s 2ms/step - loss: 24.1268\n",
            "Epoch 211/250\n",
            "22/22 [==============================] - 0s 2ms/step - loss: 24.5228\n",
            "Epoch 212/250\n",
            "22/22 [==============================] - 0s 2ms/step - loss: 24.4877\n",
            "Epoch 213/250\n",
            "22/22 [==============================] - 0s 2ms/step - loss: 24.2630\n",
            "Epoch 214/250\n",
            "22/22 [==============================] - 0s 2ms/step - loss: 24.5944\n",
            "Epoch 215/250\n",
            "22/22 [==============================] - 0s 2ms/step - loss: 24.1397\n",
            "Epoch 216/250\n",
            "22/22 [==============================] - 0s 2ms/step - loss: 24.2824\n",
            "Epoch 217/250\n",
            "22/22 [==============================] - 0s 2ms/step - loss: 24.3608\n",
            "Epoch 218/250\n",
            "22/22 [==============================] - 0s 2ms/step - loss: 24.5566\n",
            "Epoch 219/250\n",
            "22/22 [==============================] - 0s 2ms/step - loss: 24.5254\n",
            "Epoch 220/250\n",
            "22/22 [==============================] - 0s 2ms/step - loss: 24.0249\n",
            "Epoch 221/250\n",
            "22/22 [==============================] - 0s 2ms/step - loss: 24.4610\n",
            "Epoch 222/250\n",
            "22/22 [==============================] - 0s 2ms/step - loss: 24.2427\n",
            "Epoch 223/250\n",
            "22/22 [==============================] - 0s 2ms/step - loss: 24.0274\n",
            "Epoch 224/250\n",
            "22/22 [==============================] - 0s 2ms/step - loss: 24.3304\n",
            "Epoch 225/250\n",
            "22/22 [==============================] - 0s 2ms/step - loss: 24.1016\n",
            "Epoch 226/250\n",
            "22/22 [==============================] - 0s 2ms/step - loss: 24.2859\n",
            "Epoch 227/250\n",
            "22/22 [==============================] - 0s 2ms/step - loss: 24.1769\n",
            "Epoch 228/250\n",
            "22/22 [==============================] - 0s 2ms/step - loss: 24.2509\n",
            "Epoch 229/250\n",
            "22/22 [==============================] - 0s 2ms/step - loss: 24.4944\n",
            "Epoch 230/250\n",
            "22/22 [==============================] - 0s 2ms/step - loss: 24.3600\n",
            "Epoch 231/250\n",
            "22/22 [==============================] - 0s 2ms/step - loss: 24.0198\n",
            "Epoch 232/250\n",
            "22/22 [==============================] - 0s 2ms/step - loss: 24.4344\n",
            "Epoch 233/250\n",
            "22/22 [==============================] - 0s 2ms/step - loss: 23.8139\n",
            "Epoch 234/250\n",
            "22/22 [==============================] - 0s 2ms/step - loss: 24.3681\n",
            "Epoch 235/250\n",
            "22/22 [==============================] - 0s 2ms/step - loss: 24.0614\n",
            "Epoch 236/250\n",
            "22/22 [==============================] - 0s 2ms/step - loss: 24.4321\n",
            "Epoch 237/250\n",
            "22/22 [==============================] - 0s 2ms/step - loss: 24.9086\n",
            "Epoch 238/250\n",
            "22/22 [==============================] - 0s 2ms/step - loss: 23.9591\n",
            "Epoch 239/250\n",
            "22/22 [==============================] - 0s 2ms/step - loss: 24.6809\n",
            "Epoch 240/250\n",
            "22/22 [==============================] - 0s 2ms/step - loss: 24.0682\n",
            "Epoch 241/250\n",
            "22/22 [==============================] - 0s 2ms/step - loss: 24.4268\n",
            "Epoch 242/250\n",
            "22/22 [==============================] - 0s 2ms/step - loss: 24.1942\n",
            "Epoch 243/250\n",
            "22/22 [==============================] - 0s 2ms/step - loss: 24.1326\n",
            "Epoch 244/250\n",
            "22/22 [==============================] - 0s 2ms/step - loss: 24.4315\n",
            "Epoch 245/250\n",
            "22/22 [==============================] - 0s 2ms/step - loss: 24.4692\n",
            "Epoch 246/250\n",
            "22/22 [==============================] - 0s 2ms/step - loss: 24.5576\n",
            "Epoch 247/250\n",
            "22/22 [==============================] - 0s 2ms/step - loss: 24.0718\n",
            "Epoch 248/250\n",
            "22/22 [==============================] - 0s 2ms/step - loss: 24.5923\n",
            "Epoch 249/250\n",
            "22/22 [==============================] - 0s 2ms/step - loss: 24.6617\n",
            "Epoch 250/250\n",
            "22/22 [==============================] - 0s 2ms/step - loss: 24.1794\n"
          ]
        },
        {
          "output_type": "execute_result",
          "data": {
            "text/plain": [
              "<keras.callbacks.History at 0x7f9ef1327df0>"
            ]
          },
          "metadata": {},
          "execution_count": 26
        }
      ],
      "source": [
        "#model is complete and ready to train, fit onto the data, shift tab, parameters\n",
        "#main parameters, x, y and epochs\n",
        "#x - our features training on, x_train\n",
        "#y - actual labels that will correspond, y_train\n",
        "#epochs - 1 epoch - going through the model once, 1 pass over entire dataset through the model\n",
        "#go through the model 250 times, 250 epochs\n",
        "model.fit(X_train, y_train, epochs=250)"
      ]
    },
    {
      "cell_type": "markdown",
      "source": [
        "Later on, you can add stopping point, model will stop at particular time that is optimized based on some validation loss. With** callback parameter**\n",
        "Verbose call, verbose=1, number of outputs during training.\n",
        "As model keeps training prints outputs, higher verbose number, more info printed. If verbose=0, no output, always set verbose > 0 to see where you are training. Otherwise it just runs. Small dataset, finished training quickly. \n",
        "Mse is large very early, as ws and bs are adjusted, loss is slowly decreasing, decreases fast at first and then later on decreases slowly, adjusts to some mse value."
      ],
      "metadata": {
        "id": "Lr_klh10wG9m"
      }
    },
    {
      "cell_type": "markdown",
      "metadata": {
        "id": "0M7f-_YJcgSj"
      },
      "source": [
        "## Evaluation\n",
        "\n",
        "Let's evaluate our performance on our training set and our test set. We can compare these two performances to check for overfitting."
      ]
    },
    {
      "cell_type": "code",
      "execution_count": null,
      "metadata": {
        "colab": {
          "base_uri": "https://localhost:8080/"
        },
        "id": "vHCYLknAcgSk",
        "outputId": "5ce503cf-61d0-4254-95f9-53d756a4ebf4"
      },
      "outputs": [
        {
          "output_type": "execute_result",
          "data": {
            "text/plain": [
              "{'loss': [256403.40625,\n",
              "  256210.484375,\n",
              "  256010.21875,\n",
              "  255785.765625,\n",
              "  255534.8125,\n",
              "  255256.828125,\n",
              "  254946.21875,\n",
              "  254606.453125,\n",
              "  254232.203125,\n",
              "  253821.0,\n",
              "  253367.71875,\n",
              "  252868.34375,\n",
              "  252319.859375,\n",
              "  251726.40625,\n",
              "  251077.984375,\n",
              "  250370.28125,\n",
              "  249602.75,\n",
              "  248773.9375,\n",
              "  247877.765625,\n",
              "  246917.78125,\n",
              "  245881.671875,\n",
              "  244763.640625,\n",
              "  243548.140625,\n",
              "  242239.0625,\n",
              "  240836.84375,\n",
              "  239330.40625,\n",
              "  237706.78125,\n",
              "  235990.40625,\n",
              "  234144.984375,\n",
              "  232182.96875,\n",
              "  230091.21875,\n",
              "  227884.734375,\n",
              "  225547.171875,\n",
              "  223061.6875,\n",
              "  220426.5625,\n",
              "  217663.640625,\n",
              "  214742.921875,\n",
              "  211678.859375,\n",
              "  208454.15625,\n",
              "  205078.40625,\n",
              "  201538.375,\n",
              "  197855.546875,\n",
              "  194011.171875,\n",
              "  190020.0,\n",
              "  185838.953125,\n",
              "  181487.53125,\n",
              "  177005.390625,\n",
              "  172363.625,\n",
              "  167553.78125,\n",
              "  162582.703125,\n",
              "  157484.546875,\n",
              "  152239.890625,\n",
              "  146848.609375,\n",
              "  141293.421875,\n",
              "  135618.34375,\n",
              "  129856.9453125,\n",
              "  123983.0859375,\n",
              "  117984.15625,\n",
              "  111915.1640625,\n",
              "  105783.53125,\n",
              "  99586.671875,\n",
              "  93347.953125,\n",
              "  87056.203125,\n",
              "  80791.125,\n",
              "  74559.9609375,\n",
              "  68362.734375,\n",
              "  62233.84765625,\n",
              "  56219.6640625,\n",
              "  50345.61328125,\n",
              "  44612.18359375,\n",
              "  39030.11328125,\n",
              "  33727.23828125,\n",
              "  28671.01171875,\n",
              "  23934.265625,\n",
              "  19535.787109375,\n",
              "  15516.7490234375,\n",
              "  11982.80859375,\n",
              "  8850.8076171875,\n",
              "  6299.130859375,\n",
              "  4299.8515625,\n",
              "  2894.09033203125,\n",
              "  2053.651123046875,\n",
              "  1710.3182373046875,\n",
              "  1626.78271484375,\n",
              "  1594.705322265625,\n",
              "  1566.1370849609375,\n",
              "  1537.2125244140625,\n",
              "  1510.8824462890625,\n",
              "  1481.614990234375,\n",
              "  1453.685302734375,\n",
              "  1423.1279296875,\n",
              "  1395.600341796875,\n",
              "  1364.7259521484375,\n",
              "  1341.316650390625,\n",
              "  1312.422607421875,\n",
              "  1285.426025390625,\n",
              "  1259.0726318359375,\n",
              "  1232.2640380859375,\n",
              "  1207.63671875,\n",
              "  1184.319580078125,\n",
              "  1160.39208984375,\n",
              "  1133.6092529296875,\n",
              "  1104.9705810546875,\n",
              "  1078.786376953125,\n",
              "  1048.18310546875,\n",
              "  1026.043212890625,\n",
              "  1001.4540405273438,\n",
              "  977.1392822265625,\n",
              "  949.9315795898438,\n",
              "  930.0145263671875,\n",
              "  906.18359375,\n",
              "  880.9974975585938,\n",
              "  860.1098022460938,\n",
              "  837.7088623046875,\n",
              "  813.7628784179688,\n",
              "  792.1563110351562,\n",
              "  768.4397583007812,\n",
              "  746.3777465820312,\n",
              "  722.4512329101562,\n",
              "  699.73876953125,\n",
              "  679.4457397460938,\n",
              "  656.5055541992188,\n",
              "  635.0595092773438,\n",
              "  614.4849853515625,\n",
              "  593.9238891601562,\n",
              "  570.0831298828125,\n",
              "  550.5157470703125,\n",
              "  528.6806030273438,\n",
              "  507.2850341796875,\n",
              "  487.1383972167969,\n",
              "  469.2314758300781,\n",
              "  450.01446533203125,\n",
              "  433.2375793457031,\n",
              "  415.7539367675781,\n",
              "  399.8514709472656,\n",
              "  380.8605041503906,\n",
              "  365.3907470703125,\n",
              "  348.01226806640625,\n",
              "  332.7901306152344,\n",
              "  317.0686340332031,\n",
              "  302.5784912109375,\n",
              "  289.931640625,\n",
              "  275.22052001953125,\n",
              "  259.7486572265625,\n",
              "  244.92938232421875,\n",
              "  233.5223846435547,\n",
              "  219.27301025390625,\n",
              "  206.0226287841797,\n",
              "  194.20953369140625,\n",
              "  182.21502685546875,\n",
              "  171.7276153564453,\n",
              "  160.22958374023438,\n",
              "  150.22979736328125,\n",
              "  142.25477600097656,\n",
              "  132.96473693847656,\n",
              "  123.15177154541016,\n",
              "  115.75877380371094,\n",
              "  108.54364013671875,\n",
              "  100.90648651123047,\n",
              "  94.0238265991211,\n",
              "  87.18241119384766,\n",
              "  81.08136749267578,\n",
              "  73.93220520019531,\n",
              "  68.87316131591797,\n",
              "  62.72944259643555,\n",
              "  58.46824264526367,\n",
              "  54.24327087402344,\n",
              "  51.17688751220703,\n",
              "  47.32320785522461,\n",
              "  45.074371337890625,\n",
              "  42.26319885253906,\n",
              "  39.48067092895508,\n",
              "  36.928916931152344,\n",
              "  34.634803771972656,\n",
              "  33.19600296020508,\n",
              "  31.441944122314453,\n",
              "  29.95014762878418,\n",
              "  28.828094482421875,\n",
              "  28.171253204345703,\n",
              "  27.19194221496582,\n",
              "  26.67243003845215,\n",
              "  26.532201766967773,\n",
              "  25.953611373901367,\n",
              "  25.849319458007812,\n",
              "  25.517047882080078,\n",
              "  25.289213180541992,\n",
              "  25.03169059753418,\n",
              "  24.98552131652832,\n",
              "  25.006052017211914,\n",
              "  24.544748306274414,\n",
              "  24.85888671875,\n",
              "  24.48319435119629,\n",
              "  25.03748321533203,\n",
              "  24.431684494018555,\n",
              "  25.137714385986328,\n",
              "  24.209943771362305,\n",
              "  24.49201202392578,\n",
              "  24.157629013061523,\n",
              "  24.71434783935547,\n",
              "  24.327932357788086,\n",
              "  24.496370315551758,\n",
              "  24.50082015991211,\n",
              "  23.999481201171875,\n",
              "  24.194255828857422,\n",
              "  24.321163177490234,\n",
              "  24.054121017456055,\n",
              "  24.176233291625977,\n",
              "  24.36556053161621,\n",
              "  24.168256759643555,\n",
              "  24.126794815063477,\n",
              "  24.522762298583984,\n",
              "  24.487661361694336,\n",
              "  24.26296615600586,\n",
              "  24.59441375732422,\n",
              "  24.139738082885742,\n",
              "  24.282365798950195,\n",
              "  24.360769271850586,\n",
              "  24.55660629272461,\n",
              "  24.525379180908203,\n",
              "  24.024932861328125,\n",
              "  24.46095085144043,\n",
              "  24.24268341064453,\n",
              "  24.027362823486328,\n",
              "  24.330413818359375,\n",
              "  24.1015625,\n",
              "  24.285932540893555,\n",
              "  24.176860809326172,\n",
              "  24.25091552734375,\n",
              "  24.494436264038086,\n",
              "  24.359960556030273,\n",
              "  24.01981544494629,\n",
              "  24.434389114379883,\n",
              "  23.813926696777344,\n",
              "  24.36810874938965,\n",
              "  24.06144905090332,\n",
              "  24.432111740112305,\n",
              "  24.90859603881836,\n",
              "  23.95909881591797,\n",
              "  24.680910110473633,\n",
              "  24.068206787109375,\n",
              "  24.4267635345459,\n",
              "  24.194238662719727,\n",
              "  24.132638931274414,\n",
              "  24.431472778320312,\n",
              "  24.469154357910156,\n",
              "  24.557619094848633,\n",
              "  24.071788787841797,\n",
              "  24.592321395874023,\n",
              "  24.66168212890625,\n",
              "  24.179428100585938]}"
            ]
          },
          "metadata": {},
          "execution_count": 27
        }
      ],
      "source": [
        "model.history.history\n",
        "#returns dictionary of historical losses"
      ]
    },
    {
      "cell_type": "code",
      "source": [
        "#pass onto dataframe\n",
        "loss_df = pd.DataFrame(model.history.history)"
      ],
      "metadata": {
        "id": "VfH9FdFlxCmy"
      },
      "execution_count": null,
      "outputs": []
    },
    {
      "cell_type": "code",
      "source": [
        "#plot history of loss values\n",
        "loss_df.plot()"
      ],
      "metadata": {
        "colab": {
          "base_uri": "https://localhost:8080/",
          "height": 447
        },
        "id": "FxqjNtcrxLbb",
        "outputId": "709b6f52-41ed-41c4-8212-0308743ea8ae"
      },
      "execution_count": null,
      "outputs": [
        {
          "output_type": "execute_result",
          "data": {
            "text/plain": [
              "<Axes: >"
            ]
          },
          "metadata": {},
          "execution_count": 29
        },
        {
          "output_type": "display_data",
          "data": {
            "text/plain": [
              "<Figure size 640x480 with 1 Axes>"
            ],
            "image/png": "[encoded data removed]"
          },
          "metadata": {}
        }
      ]
    },
    {
      "cell_type": "markdown",
      "source": [
        "Typical of neural networks, start with high loss. As weights and biases are adjusted, loss over time reduces until it reaches plateau over certain number of epochs. Step decline in loss, eventually levels off, no further improvement with more training. Compare with validation loss to check for overfitting."
      ],
      "metadata": {
        "id": "NqUAIHZuxUCN"
      }
    },
    {
      "cell_type": "code",
      "source": [
        "#compare performance of the model, true value vs predicted output, then evaluate how well model performs on never seen before data"
      ],
      "metadata": {
        "id": "LHfQDlQ9xjhq"
      },
      "execution_count": null,
      "outputs": []
    },
    {
      "cell_type": "code",
      "execution_count": null,
      "metadata": {
        "id": "9_ULBoAkcgSk"
      },
      "outputs": [],
      "source": [
        "loss = model.history.history['loss']"
      ]
    },
    {
      "cell_type": "code",
      "execution_count": null,
      "metadata": {
        "scrolled": true,
        "id": "Wfv9do7xcgSk",
        "outputId": "f58df952-3668-4a8a-b415-378b5fad5db9",
        "colab": {
          "base_uri": "https://localhost:8080/",
          "height": 452
        }
      },
      "outputs": [
        {
          "output_type": "display_data",
          "data": {
            "text/plain": [
              "<Figure size 640x480 with 1 Axes>"
            ],
            "image/png": "[encoded data removed]"
          },
          "metadata": {}
        }
      ],
      "source": [
        "sns.lineplot(x=range(len(loss)),y=loss)\n",
        "plt.title(\"Training Loss per Epoch\");"
      ]
    },
    {
      "cell_type": "markdown",
      "metadata": {
        "id": "H6NIhpjAcgSk"
      },
      "source": [
        "### Compare final evaluation (MSE) on training set and test set.\n",
        "\n",
        "These should hopefully be fairly close to each other."
      ]
    },
    {
      "cell_type": "code",
      "execution_count": null,
      "metadata": {
        "id": "r_AQPIubcgSl",
        "outputId": "733a9035-357e-4103-ca22-3c46941bd263",
        "colab": {
          "base_uri": "https://localhost:8080/"
        }
      },
      "outputs": [
        {
          "output_type": "execute_result",
          "data": {
            "text/plain": [
              "['loss']"
            ]
          },
          "metadata": {},
          "execution_count": 32
        }
      ],
      "source": [
        "model.metrics_names"
      ]
    },
    {
      "cell_type": "code",
      "execution_count": null,
      "metadata": {
        "id": "PUPOG7GBcgSl"
      },
      "outputs": [],
      "source": [
        "#evaluate performance, always returns some value of mse\n",
        "#verbose=0 so no output\n",
        "\n",
        "training_score = model.evaluate(X_train,y_train,verbose=0)\n",
        "test_score = model.evaluate(X_test,y_test,verbose=0)"
      ]
    },
    {
      "cell_type": "code",
      "source": [
        "model.evaluate(X_test, y_test, verbose=0)\n",
        "#chosen metric of mse, gives back mse of 29, do the same for training set\n",
        "model.evaluate(X_train, y_train, verbose=0)\n",
        "#values may look slightly different, random initialisations, after training 250 epochs should be "
      ],
      "metadata": {
        "colab": {
          "base_uri": "https://localhost:8080/",
          "height": 409
        },
        "id": "LNHuzeR6eGoL",
        "outputId": "83ade893-89fd-4162-d45f-647d4e1c466d"
      },
      "execution_count": null,
      "outputs": [
        {
          "output_type": "error",
          "ename": "ValueError",
          "evalue": "ignored",
          "traceback": [
            "\u001b[0;31m---------------------------------------------------------------------------\u001b[0m",
            "\u001b[0;31mValueError\u001b[0m                                Traceback (most recent call last)",
            "\u001b[0;32m<ipython-input-33-b13248e2f298>\u001b[0m in \u001b[0;36m<cell line: 3>\u001b[0;34m()\u001b[0m\n\u001b[1;32m      1\u001b[0m \u001b[0mmodel\u001b[0m\u001b[0;34m.\u001b[0m\u001b[0mevaluate\u001b[0m\u001b[0;34m(\u001b[0m\u001b[0mX_test\u001b[0m\u001b[0;34m,\u001b[0m \u001b[0my_test\u001b[0m\u001b[0;34m,\u001b[0m \u001b[0mverbose\u001b[0m\u001b[0;34m=\u001b[0m\u001b[0;36m0\u001b[0m\u001b[0;34m)\u001b[0m\u001b[0;34m\u001b[0m\u001b[0;34m\u001b[0m\u001b[0m\n\u001b[1;32m      2\u001b[0m \u001b[0;31m#chosen metric of mse, gives back mse of 29, do the same for training set\u001b[0m\u001b[0;34m\u001b[0m\u001b[0;34m\u001b[0m\u001b[0m\n\u001b[0;32m----> 3\u001b[0;31m \u001b[0mmodel\u001b[0m\u001b[0;34m.\u001b[0m\u001b[0mevaluate\u001b[0m\u001b[0;34m(\u001b[0m\u001b[0mX_train\u001b[0m\u001b[0;34m,\u001b[0m \u001b[0my_test\u001b[0m\u001b[0;34m,\u001b[0m \u001b[0mverbose\u001b[0m\u001b[0;34m=\u001b[0m\u001b[0;36m0\u001b[0m\u001b[0;34m)\u001b[0m\u001b[0;34m\u001b[0m\u001b[0;34m\u001b[0m\u001b[0m\n\u001b[0m\u001b[1;32m      4\u001b[0m \u001b[0;31m#values may look slightly different, random initialisations, after training 250 epochs should be\u001b[0m\u001b[0;34m\u001b[0m\u001b[0;34m\u001b[0m\u001b[0m\n",
            "\u001b[0;32m/usr/local/lib/python3.9/dist-packages/keras/utils/traceback_utils.py\u001b[0m in \u001b[0;36merror_handler\u001b[0;34m(*args, **kwargs)\u001b[0m\n\u001b[1;32m     68\u001b[0m             \u001b[0;31m# To get the full stack trace, call:\u001b[0m\u001b[0;34m\u001b[0m\u001b[0;34m\u001b[0m\u001b[0m\n\u001b[1;32m     69\u001b[0m             \u001b[0;31m# `tf.debugging.disable_traceback_filtering()`\u001b[0m\u001b[0;34m\u001b[0m\u001b[0;34m\u001b[0m\u001b[0m\n\u001b[0;32m---> 70\u001b[0;31m             \u001b[0;32mraise\u001b[0m \u001b[0me\u001b[0m\u001b[0;34m.\u001b[0m\u001b[0mwith_traceback\u001b[0m\u001b[0;34m(\u001b[0m\u001b[0mfiltered_tb\u001b[0m\u001b[0;34m)\u001b[0m \u001b[0;32mfrom\u001b[0m \u001b[0;32mNone\u001b[0m\u001b[0;34m\u001b[0m\u001b[0;34m\u001b[0m\u001b[0m\n\u001b[0m\u001b[1;32m     71\u001b[0m         \u001b[0;32mfinally\u001b[0m\u001b[0;34m:\u001b[0m\u001b[0;34m\u001b[0m\u001b[0;34m\u001b[0m\u001b[0m\n\u001b[1;32m     72\u001b[0m             \u001b[0;32mdel\u001b[0m \u001b[0mfiltered_tb\u001b[0m\u001b[0;34m\u001b[0m\u001b[0;34m\u001b[0m\u001b[0m\n",
            "\u001b[0;32m/usr/local/lib/python3.9/dist-packages/keras/engine/data_adapter.py\u001b[0m in \u001b[0;36m_check_data_cardinality\u001b[0;34m(data)\u001b[0m\n\u001b[1;32m   1850\u001b[0m             )\n\u001b[1;32m   1851\u001b[0m         \u001b[0mmsg\u001b[0m \u001b[0;34m+=\u001b[0m \u001b[0;34m\"Make sure all arrays contain the same number of samples.\"\u001b[0m\u001b[0;34m\u001b[0m\u001b[0;34m\u001b[0m\u001b[0m\n\u001b[0;32m-> 1852\u001b[0;31m         \u001b[0;32mraise\u001b[0m \u001b[0mValueError\u001b[0m\u001b[0;34m(\u001b[0m\u001b[0mmsg\u001b[0m\u001b[0;34m)\u001b[0m\u001b[0;34m\u001b[0m\u001b[0;34m\u001b[0m\u001b[0m\n\u001b[0m\u001b[1;32m   1853\u001b[0m \u001b[0;34m\u001b[0m\u001b[0m\n\u001b[1;32m   1854\u001b[0m \u001b[0;34m\u001b[0m\u001b[0m\n",
            "\u001b[0;31mValueError\u001b[0m: Data cardinality is ambiguous:\n  x sizes: 700\n  y sizes: 300\nMake sure all arrays contain the same number of samples."
          ]
        }
      ]
    },
    {
      "cell_type": "code",
      "execution_count": null,
      "metadata": {
        "id": "J1CF2UPhcgSl",
        "outputId": "7672d8ea-ebd0-40ac-8cb5-c181a21234c7",
        "colab": {
          "base_uri": "https://localhost:8080/"
        }
      },
      "outputs": [
        {
          "output_type": "execute_result",
          "data": {
            "text/plain": [
              "24.315702438354492"
            ]
          },
          "metadata": {},
          "execution_count": 35
        }
      ],
      "source": [
        "training_score"
      ]
    },
    {
      "cell_type": "code",
      "execution_count": null,
      "metadata": {
        "id": "f6QN3MKecgSl",
        "outputId": "30292f73-4d6b-4eec-8af1-7eeb5ae93ba5",
        "colab": {
          "base_uri": "https://localhost:8080/"
        }
      },
      "outputs": [
        {
          "output_type": "execute_result",
          "data": {
            "text/plain": [
              "26.426509857177734"
            ]
          },
          "metadata": {},
          "execution_count": 36
        }
      ],
      "source": [
        "test_score"
      ]
    },
    {
      "cell_type": "markdown",
      "metadata": {
        "id": "toD4_DxgcgSm"
      },
      "source": [
        "### Further Evaluations"
      ]
    },
    {
      "cell_type": "code",
      "execution_count": null,
      "metadata": {
        "id": "xZmOZwA2cgSm",
        "colab": {
          "base_uri": "https://localhost:8080/"
        },
        "outputId": "e8c59faf-6aaa-40db-9213-34f2fe7b7d22"
      },
      "outputs": [
        {
          "output_type": "stream",
          "name": "stdout",
          "text": [
            "10/10 [==============================] - 0s 3ms/step\n"
          ]
        }
      ],
      "source": [
        "#get mean absolute error and root squared error\n",
        "test_predictions = model.predict(X_test)\n",
        "#pass in test features and predict what price should be, list of prices predicted below"
      ]
    },
    {
      "cell_type": "code",
      "execution_count": null,
      "metadata": {
        "id": "cZVWwildcgSm",
        "outputId": "1258b391-2c3e-4074-d682-5f84f48ec061",
        "colab": {
          "base_uri": "https://localhost:8080/"
        }
      },
      "outputs": [
        {
          "output_type": "execute_result",
          "data": {
            "text/plain": [
              "array([[406.1444 ],\n",
              "       [624.9068 ],\n",
              "       [593.427  ],\n",
              "       [573.4689 ],\n",
              "       [367.37277],\n",
              "       [580.4413 ],\n",
              "       [516.1577 ],\n",
              "       [460.09177],\n",
              "       [550.43414],\n",
              "       [448.47736],\n",
              "       [613.12573],\n",
              "       [550.1455 ],\n",
              "       [419.98648],\n",
              "       [409.73114],\n",
              "       [652.6822 ],\n",
              "       [438.2314 ],\n",
              "       [509.5557 ],\n",
              "       [661.37787],\n",
              "       [664.0398 ],\n",
              "       [566.7717 ],\n",
              "       [334.9116 ],\n",
              "       [445.78107],\n",
              "       [383.32492],\n",
              "       [379.54782],\n",
              "       [567.82837],\n",
              "       [611.9253 ],\n",
              "       [533.543  ],\n",
              "       [428.76886],\n",
              "       [656.8821 ],\n",
              "       [414.96002],\n",
              "       [443.58176],\n",
              "       [486.17044],\n",
              "       [439.34766],\n",
              "       [683.3493 ],\n",
              "       [425.66348],\n",
              "       [418.567  ],\n",
              "       [503.01755],\n",
              "       [551.672  ],\n",
              "       [510.82782],\n",
              "       [396.1815 ],\n",
              "       [619.94885],\n",
              "       [417.51218],\n",
              "       [605.77356],\n",
              "       [446.91586],\n",
              "       [503.07108],\n",
              "       [582.99365],\n",
              "       [670.4816 ],\n",
              "       [491.4608 ],\n",
              "       [319.2338 ],\n",
              "       [486.4698 ],\n",
              "       [518.3838 ],\n",
              "       [382.59518],\n",
              "       [543.09064],\n",
              "       [409.45798],\n",
              "       [642.9321 ],\n",
              "       [492.13245],\n",
              "       [629.317  ],\n",
              "       [628.38336],\n",
              "       [448.02512],\n",
              "       [485.74274],\n",
              "       [492.19153],\n",
              "       [475.5607 ],\n",
              "       [684.29755],\n",
              "       [404.13754],\n",
              "       [702.6876 ],\n",
              "       [587.67896],\n",
              "       [584.3965 ],\n",
              "       [539.0263 ],\n",
              "       [485.61813],\n",
              "       [517.6761 ],\n",
              "       [361.97787],\n",
              "       [541.93024],\n",
              "       [571.8727 ],\n",
              "       [529.6093 ],\n",
              "       [454.69296],\n",
              "       [532.29565],\n",
              "       [508.30887],\n",
              "       [444.27933],\n",
              "       [544.5481 ],\n",
              "       [642.16797],\n",
              "       [467.00656],\n",
              "       [568.4984 ],\n",
              "       [692.298  ],\n",
              "       [459.71698],\n",
              "       [710.48   ],\n",
              "       [473.71243],\n",
              "       [404.13486],\n",
              "       [586.38306],\n",
              "       [437.69162],\n",
              "       [490.01926],\n",
              "       [618.39355],\n",
              "       [440.41684],\n",
              "       [456.30167],\n",
              "       [436.18668],\n",
              "       [508.00656],\n",
              "       [609.7821 ],\n",
              "       [322.2899 ],\n",
              "       [437.2028 ],\n",
              "       [537.5097 ],\n",
              "       [519.7575 ],\n",
              "       [606.3774 ],\n",
              "       [526.5871 ],\n",
              "       [334.82788],\n",
              "       [577.42725],\n",
              "       [432.70093],\n",
              "       [563.7863 ],\n",
              "       [514.51855],\n",
              "       [391.90854],\n",
              "       [567.48584],\n",
              "       [455.7761 ],\n",
              "       [449.44473],\n",
              "       [642.37396],\n",
              "       [525.5166 ],\n",
              "       [551.8899 ],\n",
              "       [418.58127],\n",
              "       [479.77225],\n",
              "       [587.808  ],\n",
              "       [668.84924],\n",
              "       [702.013  ],\n",
              "       [660.8466 ],\n",
              "       [561.7898 ],\n",
              "       [504.26538],\n",
              "       [391.1773 ],\n",
              "       [281.90762],\n",
              "       [480.64944],\n",
              "       [617.7294 ],\n",
              "       [374.09964],\n",
              "       [513.3726 ],\n",
              "       [512.1336 ],\n",
              "       [494.55197],\n",
              "       [481.49606],\n",
              "       [424.69128],\n",
              "       [494.52426],\n",
              "       [472.48718],\n",
              "       [601.7689 ],\n",
              "       [574.8406 ],\n",
              "       [415.84555],\n",
              "       [632.03784],\n",
              "       [467.37674],\n",
              "       [565.57324],\n",
              "       [406.5473 ],\n",
              "       [533.334  ],\n",
              "       [573.89026],\n",
              "       [357.82318],\n",
              "       [551.03595],\n",
              "       [604.6831 ],\n",
              "       [385.11224],\n",
              "       [543.5746 ],\n",
              "       [563.8259 ],\n",
              "       [453.85928],\n",
              "       [633.60004],\n",
              "       [373.03378],\n",
              "       [475.27493],\n",
              "       [530.01874],\n",
              "       [373.08334],\n",
              "       [462.22836],\n",
              "       [437.24423],\n",
              "       [499.57516],\n",
              "       [346.83643],\n",
              "       [396.1288 ],\n",
              "       [605.9137 ],\n",
              "       [507.7546 ],\n",
              "       [469.62408],\n",
              "       [491.42953],\n",
              "       [536.4496 ],\n",
              "       [345.2153 ],\n",
              "       [513.44135],\n",
              "       [251.2996 ],\n",
              "       [505.1816 ],\n",
              "       [542.28125],\n",
              "       [490.42972],\n",
              "       [472.10678],\n",
              "       [393.37933],\n",
              "       [417.1434 ],\n",
              "       [550.7781 ],\n",
              "       [476.81958],\n",
              "       [581.2197 ],\n",
              "       [490.83   ],\n",
              "       [602.306  ],\n",
              "       [548.1938 ],\n",
              "       [543.1479 ],\n",
              "       [501.6683 ],\n",
              "       [647.2655 ],\n",
              "       [561.64417],\n",
              "       [579.21   ],\n",
              "       [445.0857 ],\n",
              "       [416.40598],\n",
              "       [420.93127],\n",
              "       [570.37305],\n",
              "       [610.35376],\n",
              "       [438.69672],\n",
              "       [489.028  ],\n",
              "       [589.0425 ],\n",
              "       [526.526  ],\n",
              "       [358.11136],\n",
              "       [646.8455 ],\n",
              "       [529.1844 ],\n",
              "       [337.91275],\n",
              "       [493.75925],\n",
              "       [411.0297 ],\n",
              "       [607.93884],\n",
              "       [347.258  ],\n",
              "       [523.5576 ],\n",
              "       [405.5503 ],\n",
              "       [258.92664],\n",
              "       [521.0292 ],\n",
              "       [341.60794],\n",
              "       [362.8047 ],\n",
              "       [577.68646],\n",
              "       [417.56473],\n",
              "       [552.19214],\n",
              "       [522.21857],\n",
              "       [511.866  ],\n",
              "       [325.42294],\n",
              "       [405.00772],\n",
              "       [603.7263 ],\n",
              "       [619.22314],\n",
              "       [604.5969 ],\n",
              "       [567.5348 ],\n",
              "       [474.44806],\n",
              "       [461.3605 ],\n",
              "       [509.5369 ],\n",
              "       [446.86172],\n",
              "       [512.4277 ],\n",
              "       [503.46695],\n",
              "       [400.9882 ],\n",
              "       [606.8634 ],\n",
              "       [258.64923],\n",
              "       [629.64197],\n",
              "       [590.4336 ],\n",
              "       [327.82504],\n",
              "       [480.5842 ],\n",
              "       [596.65686],\n",
              "       [379.1943 ],\n",
              "       [461.14487],\n",
              "       [325.68222],\n",
              "       [519.8239 ],\n",
              "       [410.49152],\n",
              "       [557.46844],\n",
              "       [643.31213],\n",
              "       [537.9957 ],\n",
              "       [504.2711 ],\n",
              "       [636.44446],\n",
              "       [516.36334],\n",
              "       [532.86835],\n",
              "       [519.9523 ],\n",
              "       [458.42484],\n",
              "       [506.92856],\n",
              "       [462.09952],\n",
              "       [593.0054 ],\n",
              "       [466.9152 ],\n",
              "       [428.09274],\n",
              "       [542.7739 ],\n",
              "       [494.87137],\n",
              "       [681.17084],\n",
              "       [373.5507 ],\n",
              "       [552.8181 ],\n",
              "       [579.2356 ],\n",
              "       [434.89236],\n",
              "       [544.21   ],\n",
              "       [587.29004],\n",
              "       [580.5221 ],\n",
              "       [722.547  ],\n",
              "       [433.66577],\n",
              "       [399.44052],\n",
              "       [314.65396],\n",
              "       [449.24307],\n",
              "       [388.90933],\n",
              "       [544.3899 ],\n",
              "       [523.8735 ],\n",
              "       [565.7285 ],\n",
              "       [448.97592],\n",
              "       [535.57605],\n",
              "       [382.59518],\n",
              "       [502.6041 ],\n",
              "       [638.5129 ],\n",
              "       [497.62878],\n",
              "       [569.63574],\n",
              "       [471.12292],\n",
              "       [273.86093],\n",
              "       [518.4877 ],\n",
              "       [622.77155],\n",
              "       [351.2432 ],\n",
              "       [451.40915],\n",
              "       [500.3704 ],\n",
              "       [544.1597 ],\n",
              "       [613.17664],\n",
              "       [388.99295],\n",
              "       [450.36075],\n",
              "       [483.45627],\n",
              "       [599.63104],\n",
              "       [500.46066],\n",
              "       [322.1187 ],\n",
              "       [556.3595 ],\n",
              "       [445.58408],\n",
              "       [530.1869 ],\n",
              "       [516.4321 ],\n",
              "       [610.9871 ],\n",
              "       [417.8407 ],\n",
              "       [411.74066]], dtype=float32)"
            ]
          },
          "metadata": {},
          "execution_count": 38
        }
      ],
      "source": [
        "test_predictions"
      ]
    },
    {
      "cell_type": "code",
      "execution_count": null,
      "metadata": {
        "id": "lhXyBNGocgSn"
      },
      "outputs": [],
      "source": [
        "#now compare against true labels with y_test, create dataframe\n",
        "#reshape so dimensions of predicted vs true are the same\n",
        "test_predictions = pd.Series(test_predictions.reshape(300,))\n",
        "pred_df = pd.DataFrame(y_test,columns=['Test True Y'])"
      ]
    },
    {
      "cell_type": "code",
      "execution_count": null,
      "metadata": {
        "id": "7E8c9hv5cgSn",
        "outputId": "b0e76ecc-dfa4-42da-fdc7-3890a9fd60c1",
        "colab": {
          "base_uri": "https://localhost:8080/",
          "height": 419
        }
      },
      "outputs": [
        {
          "output_type": "execute_result",
          "data": {
            "text/plain": [
              "     Test True Y\n",
              "0     402.296319\n",
              "1     624.156198\n",
              "2     582.455066\n",
              "3     578.588606\n",
              "4     371.224104\n",
              "..           ...\n",
              "295   525.704657\n",
              "296   502.909473\n",
              "297   612.727910\n",
              "298   417.569725\n",
              "299   410.538250\n",
              "\n",
              "[300 rows x 1 columns]"
            ],
            "text/html": [
              "\n",
              "  <div id=\"df-568ee09d-fc0c-4111-b85e-76520b62716d\">\n",
              "    <div class=\"colab-df-container\">\n",
              "      <div>\n",
              "<style scoped>\n",
              "    .dataframe tbody tr th:only-of-type {\n",
              "        vertical-align: middle;\n",
              "    }\n",
              "\n",
              "    .dataframe tbody tr th {\n",
              "        vertical-align: top;\n",
              "    }\n",
              "\n",
              "    .dataframe thead th {\n",
              "        text-align: right;\n",
              "    }\n",
              "</style>\n",
              "<table border=\"1\" class=\"dataframe\">\n",
              "  <thead>\n",
              "    <tr style=\"text-align: right;\">\n",
              "      <th></th>\n",
              "      <th>Test True Y</th>\n",
              "    </tr>\n",
              "  </thead>\n",
              "  <tbody>\n",
              "    <tr>\n",
              "      <th>0</th>\n",
              "      <td>402.296319</td>\n",
              "    </tr>\n",
              "    <tr>\n",
              "      <th>1</th>\n",
              "      <td>624.156198</td>\n",
              "    </tr>\n",
              "    <tr>\n",
              "      <th>2</th>\n",
              "      <td>582.455066</td>\n",
              "    </tr>\n",
              "    <tr>\n",
              "      <th>3</th>\n",
              "      <td>578.588606</td>\n",
              "    </tr>\n",
              "    <tr>\n",
              "      <th>4</th>\n",
              "      <td>371.224104</td>\n",
              "    </tr>\n",
              "    <tr>\n",
              "      <th>...</th>\n",
              "      <td>...</td>\n",
              "    </tr>\n",
              "    <tr>\n",
              "      <th>295</th>\n",
              "      <td>525.704657</td>\n",
              "    </tr>\n",
              "    <tr>\n",
              "      <th>296</th>\n",
              "      <td>502.909473</td>\n",
              "    </tr>\n",
              "    <tr>\n",
              "      <th>297</th>\n",
              "      <td>612.727910</td>\n",
              "    </tr>\n",
              "    <tr>\n",
              "      <th>298</th>\n",
              "      <td>417.569725</td>\n",
              "    </tr>\n",
              "    <tr>\n",
              "      <th>299</th>\n",
              "      <td>410.538250</td>\n",
              "    </tr>\n",
              "  </tbody>\n",
              "</table>\n",
              "<p>300 rows × 1 columns</p>\n",
              "</div>\n",
              "      <button class=\"colab-df-convert\" onclick=\"convertToInteractive('df-568ee09d-fc0c-4111-b85e-76520b62716d')\"\n",
              "              title=\"Convert this dataframe to an interactive table.\"\n",
              "              style=\"display:none;\">\n",
              "        \n",
              "  <svg xmlns=\"http://www.w3.org/2000/svg\" height=\"24px\"viewBox=\"0 0 24 24\"\n",
              "       width=\"24px\">\n",
              "    <path d=\"M0 0h24v24H0V0z\" fill=\"none\"/>\n",
              "    <path d=\"M18.56 5.44l.94 2.06.94-2.06 2.06-.94-2.06-.94-.94-2.06-.94 2.06-2.06.94zm-11 1L8.5 8.5l.94-2.06 2.06-.94-2.06-.94L8.5 2.5l-.94 2.06-2.06.94zm10 10l.94 2.06.94-2.06 2.06-.94-2.06-.94-.94-2.06-.94 2.06-2.06.94z\"/><path d=\"M17.41 7.96l-1.37-1.37c-.4-.4-.92-.59-1.43-.59-.52 0-1.04.2-1.43.59L10.3 9.45l-7.72 7.72c-.78.78-.78 2.05 0 2.83L4 21.41c.39.39.9.59 1.41.59.51 0 1.02-.2 1.41-.59l7.78-7.78 2.81-2.81c.8-.78.8-2.07 0-2.86zM5.41 20L4 18.59l7.72-7.72 1.47 1.35L5.41 20z\"/>\n",
              "  </svg>\n",
              "      </button>\n",
              "      \n",
              "  <style>\n",
              "    .colab-df-container {\n",
              "      display:flex;\n",
              "      flex-wrap:wrap;\n",
              "      gap: 12px;\n",
              "    }\n",
              "\n",
              "    .colab-df-convert {\n",
              "      background-color: #E8F0FE;\n",
              "      border: none;\n",
              "      border-radius: 50%;\n",
              "      cursor: pointer;\n",
              "      display: none;\n",
              "      fill: #1967D2;\n",
              "      height: 32px;\n",
              "      padding: 0 0 0 0;\n",
              "      width: 32px;\n",
              "    }\n",
              "\n",
              "    .colab-df-convert:hover {\n",
              "      background-color: #E2EBFA;\n",
              "      box-shadow: 0px 1px 2px rgba(60, 64, 67, 0.3), 0px 1px 3px 1px rgba(60, 64, 67, 0.15);\n",
              "      fill: #174EA6;\n",
              "    }\n",
              "\n",
              "    [theme=dark] .colab-df-convert {\n",
              "      background-color: #3B4455;\n",
              "      fill: #D2E3FC;\n",
              "    }\n",
              "\n",
              "    [theme=dark] .colab-df-convert:hover {\n",
              "      background-color: #434B5C;\n",
              "      box-shadow: 0px 1px 3px 1px rgba(0, 0, 0, 0.15);\n",
              "      filter: drop-shadow(0px 1px 2px rgba(0, 0, 0, 0.3));\n",
              "      fill: #FFFFFF;\n",
              "    }\n",
              "  </style>\n",
              "\n",
              "      <script>\n",
              "        const buttonEl =\n",
              "          document.querySelector('#df-568ee09d-fc0c-4111-b85e-76520b62716d button.colab-df-convert');\n",
              "        buttonEl.style.display =\n",
              "          google.colab.kernel.accessAllowed ? 'block' : 'none';\n",
              "\n",
              "        async function convertToInteractive(key) {\n",
              "          const element = document.querySelector('#df-568ee09d-fc0c-4111-b85e-76520b62716d');\n",
              "          const dataTable =\n",
              "            await google.colab.kernel.invokeFunction('convertToInteractive',\n",
              "                                                     [key], {});\n",
              "          if (!dataTable) return;\n",
              "\n",
              "          const docLinkHtml = 'Like what you see? Visit the ' +\n",
              "            '<a target=\"_blank\" href=https://colab.research.google.com/notebooks/data_table.ipynb>data table notebook</a>'\n",
              "            + ' to learn more about interactive tables.';\n",
              "          element.innerHTML = '';\n",
              "          dataTable['output_type'] = 'display_data';\n",
              "          await google.colab.output.renderOutput(dataTable, element);\n",
              "          const docLink = document.createElement('div');\n",
              "          docLink.innerHTML = docLinkHtml;\n",
              "          element.appendChild(docLink);\n",
              "        }\n",
              "      </script>\n",
              "    </div>\n",
              "  </div>\n",
              "  "
            ]
          },
          "metadata": {},
          "execution_count": 40
        }
      ],
      "source": [
        "pred_df"
      ]
    },
    {
      "cell_type": "code",
      "execution_count": null,
      "metadata": {
        "id": "le-JMMrQcgSn"
      },
      "outputs": [],
      "source": [
        "test_predictions = pd.Series(test_predictions.reshape(300,))"
      ]
    },
    {
      "cell_type": "code",
      "execution_count": null,
      "metadata": {
        "id": "Lhf_uKx4cgSn",
        "outputId": "1a5cd0ae-0f4c-4a24-99b5-ad547856095c"
      },
      "outputs": [
        {
          "data": {
            "text/plain": [
              "0      406.872131\n",
              "1      625.850891\n",
              "2      594.339111\n",
              "3      574.364014\n",
              "4      368.065674\n",
              "          ...    \n",
              "295    531.038879\n",
              "296    517.299805\n",
              "297    611.917053\n",
              "298    418.578339\n",
              "299    412.475281\n",
              "Length: 300, dtype: float32"
            ]
          },
          "execution_count": 38,
          "metadata": {},
          "output_type": "execute_result"
        }
      ],
      "source": [
        "test_predictions"
      ]
    },
    {
      "cell_type": "code",
      "execution_count": null,
      "metadata": {
        "id": "SdQDomzAcgSn"
      },
      "outputs": [],
      "source": [
        "#join now predicted and true label, axis=1 so columnwise\n",
        "pred_df = pd.concat([pred_df, test_predictions],axis=1)"
      ]
    },
    {
      "cell_type": "code",
      "execution_count": null,
      "metadata": {
        "id": "Az3XR6ERcgSo"
      },
      "outputs": [],
      "source": [
        "#rename columns\n",
        "pred_df.columns = ['Test True Y', 'Model Predictions']"
      ]
    },
    {
      "cell_type": "code",
      "execution_count": null,
      "metadata": {
        "id": "7mkQ0nZ4cgSo",
        "outputId": "6677ce02-bc8c-4a80-b663-1f50e58ce5c5",
        "colab": {
          "base_uri": "https://localhost:8080/",
          "height": 419
        }
      },
      "outputs": [
        {
          "output_type": "execute_result",
          "data": {
            "text/plain": [
              "     Test True Y  Model Predictions\n",
              "0     402.296319         406.144409\n",
              "1     624.156198         624.906799\n",
              "2     582.455066         593.427002\n",
              "3     578.588606         573.468872\n",
              "4     371.224104         367.372772\n",
              "..           ...                ...\n",
              "295   525.704657         530.186890\n",
              "296   502.909473         516.432129\n",
              "297   612.727910         610.987122\n",
              "298   417.569725         417.840698\n",
              "299   410.538250         411.740662\n",
              "\n",
              "[300 rows x 2 columns]"
            ],
            "text/html": [
              "\n",
              "  <div id=\"df-86160113-30a6-41a7-b57e-970c0dd24837\">\n",
              "    <div class=\"colab-df-container\">\n",
              "      <div>\n",
              "<style scoped>\n",
              "    .dataframe tbody tr th:only-of-type {\n",
              "        vertical-align: middle;\n",
              "    }\n",
              "\n",
              "    .dataframe tbody tr th {\n",
              "        vertical-align: top;\n",
              "    }\n",
              "\n",
              "    .dataframe thead th {\n",
              "        text-align: right;\n",
              "    }\n",
              "</style>\n",
              "<table border=\"1\" class=\"dataframe\">\n",
              "  <thead>\n",
              "    <tr style=\"text-align: right;\">\n",
              "      <th></th>\n",
              "      <th>Test True Y</th>\n",
              "      <th>Model Predictions</th>\n",
              "    </tr>\n",
              "  </thead>\n",
              "  <tbody>\n",
              "    <tr>\n",
              "      <th>0</th>\n",
              "      <td>402.296319</td>\n",
              "      <td>406.144409</td>\n",
              "    </tr>\n",
              "    <tr>\n",
              "      <th>1</th>\n",
              "      <td>624.156198</td>\n",
              "      <td>624.906799</td>\n",
              "    </tr>\n",
              "    <tr>\n",
              "      <th>2</th>\n",
              "      <td>582.455066</td>\n",
              "      <td>593.427002</td>\n",
              "    </tr>\n",
              "    <tr>\n",
              "      <th>3</th>\n",
              "      <td>578.588606</td>\n",
              "      <td>573.468872</td>\n",
              "    </tr>\n",
              "    <tr>\n",
              "      <th>4</th>\n",
              "      <td>371.224104</td>\n",
              "      <td>367.372772</td>\n",
              "    </tr>\n",
              "    <tr>\n",
              "      <th>...</th>\n",
              "      <td>...</td>\n",
              "      <td>...</td>\n",
              "    </tr>\n",
              "    <tr>\n",
              "      <th>295</th>\n",
              "      <td>525.704657</td>\n",
              "      <td>530.186890</td>\n",
              "    </tr>\n",
              "    <tr>\n",
              "      <th>296</th>\n",
              "      <td>502.909473</td>\n",
              "      <td>516.432129</td>\n",
              "    </tr>\n",
              "    <tr>\n",
              "      <th>297</th>\n",
              "      <td>612.727910</td>\n",
              "      <td>610.987122</td>\n",
              "    </tr>\n",
              "    <tr>\n",
              "      <th>298</th>\n",
              "      <td>417.569725</td>\n",
              "      <td>417.840698</td>\n",
              "    </tr>\n",
              "    <tr>\n",
              "      <th>299</th>\n",
              "      <td>410.538250</td>\n",
              "      <td>411.740662</td>\n",
              "    </tr>\n",
              "  </tbody>\n",
              "</table>\n",
              "<p>300 rows × 2 columns</p>\n",
              "</div>\n",
              "      <button class=\"colab-df-convert\" onclick=\"convertToInteractive('df-86160113-30a6-41a7-b57e-970c0dd24837')\"\n",
              "              title=\"Convert this dataframe to an interactive table.\"\n",
              "              style=\"display:none;\">\n",
              "        \n",
              "  <svg xmlns=\"http://www.w3.org/2000/svg\" height=\"24px\"viewBox=\"0 0 24 24\"\n",
              "       width=\"24px\">\n",
              "    <path d=\"M0 0h24v24H0V0z\" fill=\"none\"/>\n",
              "    <path d=\"M18.56 5.44l.94 2.06.94-2.06 2.06-.94-2.06-.94-.94-2.06-.94 2.06-2.06.94zm-11 1L8.5 8.5l.94-2.06 2.06-.94-2.06-.94L8.5 2.5l-.94 2.06-2.06.94zm10 10l.94 2.06.94-2.06 2.06-.94-2.06-.94-.94-2.06-.94 2.06-2.06.94z\"/><path d=\"M17.41 7.96l-1.37-1.37c-.4-.4-.92-.59-1.43-.59-.52 0-1.04.2-1.43.59L10.3 9.45l-7.72 7.72c-.78.78-.78 2.05 0 2.83L4 21.41c.39.39.9.59 1.41.59.51 0 1.02-.2 1.41-.59l7.78-7.78 2.81-2.81c.8-.78.8-2.07 0-2.86zM5.41 20L4 18.59l7.72-7.72 1.47 1.35L5.41 20z\"/>\n",
              "  </svg>\n",
              "      </button>\n",
              "      \n",
              "  <style>\n",
              "    .colab-df-container {\n",
              "      display:flex;\n",
              "      flex-wrap:wrap;\n",
              "      gap: 12px;\n",
              "    }\n",
              "\n",
              "    .colab-df-convert {\n",
              "      background-color: #E8F0FE;\n",
              "      border: none;\n",
              "      border-radius: 50%;\n",
              "      cursor: pointer;\n",
              "      display: none;\n",
              "      fill: #1967D2;\n",
              "      height: 32px;\n",
              "      padding: 0 0 0 0;\n",
              "      width: 32px;\n",
              "    }\n",
              "\n",
              "    .colab-df-convert:hover {\n",
              "      background-color: #E2EBFA;\n",
              "      box-shadow: 0px 1px 2px rgba(60, 64, 67, 0.3), 0px 1px 3px 1px rgba(60, 64, 67, 0.15);\n",
              "      fill: #174EA6;\n",
              "    }\n",
              "\n",
              "    [theme=dark] .colab-df-convert {\n",
              "      background-color: #3B4455;\n",
              "      fill: #D2E3FC;\n",
              "    }\n",
              "\n",
              "    [theme=dark] .colab-df-convert:hover {\n",
              "      background-color: #434B5C;\n",
              "      box-shadow: 0px 1px 3px 1px rgba(0, 0, 0, 0.15);\n",
              "      filter: drop-shadow(0px 1px 2px rgba(0, 0, 0, 0.3));\n",
              "      fill: #FFFFFF;\n",
              "    }\n",
              "  </style>\n",
              "\n",
              "      <script>\n",
              "        const buttonEl =\n",
              "          document.querySelector('#df-86160113-30a6-41a7-b57e-970c0dd24837 button.colab-df-convert');\n",
              "        buttonEl.style.display =\n",
              "          google.colab.kernel.accessAllowed ? 'block' : 'none';\n",
              "\n",
              "        async function convertToInteractive(key) {\n",
              "          const element = document.querySelector('#df-86160113-30a6-41a7-b57e-970c0dd24837');\n",
              "          const dataTable =\n",
              "            await google.colab.kernel.invokeFunction('convertToInteractive',\n",
              "                                                     [key], {});\n",
              "          if (!dataTable) return;\n",
              "\n",
              "          const docLinkHtml = 'Like what you see? Visit the ' +\n",
              "            '<a target=\"_blank\" href=https://colab.research.google.com/notebooks/data_table.ipynb>data table notebook</a>'\n",
              "            + ' to learn more about interactive tables.';\n",
              "          element.innerHTML = '';\n",
              "          dataTable['output_type'] = 'display_data';\n",
              "          await google.colab.output.renderOutput(dataTable, element);\n",
              "          const docLink = document.createElement('div');\n",
              "          docLink.innerHTML = docLinkHtml;\n",
              "          element.appendChild(docLink);\n",
              "        }\n",
              "      </script>\n",
              "    </div>\n",
              "  </div>\n",
              "  "
            ]
          },
          "metadata": {},
          "execution_count": 44
        }
      ],
      "source": [
        "pred_df"
      ]
    },
    {
      "cell_type": "code",
      "source": [
        "#compare and visualise values of predicted vs true, very close in value!\n",
        "sns.scatterplot(x='Test True Y', y = 'Model Predictions', data=pred_df)\n",
        "#if perfect match, see train fitting line, model is performing very well"
      ],
      "metadata": {
        "colab": {
          "base_uri": "https://localhost:8080/",
          "height": 466
        },
        "id": "YCivhXqPhRwH",
        "outputId": "feb90371-9fe9-44ad-e950-d0168014ccac"
      },
      "execution_count": null,
      "outputs": [
        {
          "output_type": "execute_result",
          "data": {
            "text/plain": [
              "<Axes: xlabel='Test True Y', ylabel='Model Predictions'>"
            ]
          },
          "metadata": {},
          "execution_count": 45
        },
        {
          "output_type": "display_data",
          "data": {
            "text/plain": [
              "<Figure size 640x480 with 1 Axes>"
            ],
            "image/png": "[encoded data removed]"
          },
          "metadata": {}
        }
      ]
    },
    {
      "cell_type": "markdown",
      "metadata": {
        "id": "wtbOuv-HcgSo"
      },
      "source": [
        "Let's compare to the real test labels!"
      ]
    },
    {
      "cell_type": "code",
      "execution_count": null,
      "metadata": {
        "id": "eL9zxZZccgSp",
        "outputId": "1a907900-810c-4ed6-cbf3-aa8127b2d2e0"
      },
      "outputs": [
        {
          "data": {
            "text/plain": [
              "<matplotlib.axes._subplots.AxesSubplot at 0x28c11c9dd48>"
            ]
          },
          "execution_count": 42,
          "metadata": {},
          "output_type": "execute_result"
        },
        {
          "data": {
            "image/png": "[encoded data removed]",
            "text/plain": [
              "<Figure size 432x288 with 1 Axes>"
            ]
          },
          "metadata": {
            "needs_background": "light"
          },
          "output_type": "display_data"
        }
      ],
      "source": [
        "sns.scatterplot(x='Test Y',y='Model Predictions',data=pred_df)"
      ]
    },
    {
      "cell_type": "markdown",
      "source": [
        "Can also compare using metrics, and other stat methods such as regression evaluation, mean absolute error, mean squared error and root squared error. \n"
      ],
      "metadata": {
        "id": "4GSUlvLPhugu"
      }
    },
    {
      "cell_type": "code",
      "source": [
        "from sklearn.metrics import mean_absolute_error, mean_squared_error"
      ],
      "metadata": {
        "id": "PjSTLo81iHM2"
      },
      "execution_count": null,
      "outputs": []
    },
    {
      "cell_type": "code",
      "source": [
        "#from mean squared error compare y true vs predicted\n",
        "mean_absolute_error(pred_df['Test True Y'], pred_df['Model Predictions'])\n",
        "#get value of ~ 4, so on average you are about 4$ off from true value"
      ],
      "metadata": {
        "colab": {
          "base_uri": "https://localhost:8080/"
        },
        "id": "nX1rhSvCiN-j",
        "outputId": "83964bdc-2a1a-4f47-d785-f1bc0381c0db"
      },
      "execution_count": null,
      "outputs": [
        {
          "output_type": "execute_result",
          "data": {
            "text/plain": [
              "4.164810318360706"
            ]
          },
          "metadata": {},
          "execution_count": 47
        }
      ]
    },
    {
      "cell_type": "code",
      "source": [
        "#depends on context if your mse value is true or not\n",
        "#look back at original data, look at mean price, $500, difference is <1%, good prediction\n",
        "#always check context when judging mse, check distribution and mean of your data\n",
        "df.describe()"
      ],
      "metadata": {
        "colab": {
          "base_uri": "https://localhost:8080/",
          "height": 297
        },
        "id": "XfBdGLM0itMO",
        "outputId": "107337a5-6bd2-4b5a-cd69-6f817f5da02e"
      },
      "execution_count": null,
      "outputs": [
        {
          "output_type": "execute_result",
          "data": {
            "text/plain": [
              "             price     feature1     feature2\n",
              "count  1000.000000  1000.000000  1000.000000\n",
              "mean    498.673029  1000.014171   999.979847\n",
              "std      93.785431     0.974018     0.948330\n",
              "min     223.346793   997.058347   996.995651\n",
              "25%     433.025732   999.332068   999.316106\n",
              "50%     502.382117  1000.009915  1000.002243\n",
              "75%     564.921588  1000.637580  1000.645380\n",
              "max     774.407854  1003.207934  1002.666308"
            ],
            "text/html": [
              "\n",
              "  <div id=\"df-f64f771d-a6d0-4f50-bb63-ed5a4ce84d08\">\n",
              "    <div class=\"colab-df-container\">\n",
              "      <div>\n",
              "<style scoped>\n",
              "    .dataframe tbody tr th:only-of-type {\n",
              "        vertical-align: middle;\n",
              "    }\n",
              "\n",
              "    .dataframe tbody tr th {\n",
              "        vertical-align: top;\n",
              "    }\n",
              "\n",
              "    .dataframe thead th {\n",
              "        text-align: right;\n",
              "    }\n",
              "</style>\n",
              "<table border=\"1\" class=\"dataframe\">\n",
              "  <thead>\n",
              "    <tr style=\"text-align: right;\">\n",
              "      <th></th>\n",
              "      <th>price</th>\n",
              "      <th>feature1</th>\n",
              "      <th>feature2</th>\n",
              "    </tr>\n",
              "  </thead>\n",
              "  <tbody>\n",
              "    <tr>\n",
              "      <th>count</th>\n",
              "      <td>1000.000000</td>\n",
              "      <td>1000.000000</td>\n",
              "      <td>1000.000000</td>\n",
              "    </tr>\n",
              "    <tr>\n",
              "      <th>mean</th>\n",
              "      <td>498.673029</td>\n",
              "      <td>1000.014171</td>\n",
              "      <td>999.979847</td>\n",
              "    </tr>\n",
              "    <tr>\n",
              "      <th>std</th>\n",
              "      <td>93.785431</td>\n",
              "      <td>0.974018</td>\n",
              "      <td>0.948330</td>\n",
              "    </tr>\n",
              "    <tr>\n",
              "      <th>min</th>\n",
              "      <td>223.346793</td>\n",
              "      <td>997.058347</td>\n",
              "      <td>996.995651</td>\n",
              "    </tr>\n",
              "    <tr>\n",
              "      <th>25%</th>\n",
              "      <td>433.025732</td>\n",
              "      <td>999.332068</td>\n",
              "      <td>999.316106</td>\n",
              "    </tr>\n",
              "    <tr>\n",
              "      <th>50%</th>\n",
              "      <td>502.382117</td>\n",
              "      <td>1000.009915</td>\n",
              "      <td>1000.002243</td>\n",
              "    </tr>\n",
              "    <tr>\n",
              "      <th>75%</th>\n",
              "      <td>564.921588</td>\n",
              "      <td>1000.637580</td>\n",
              "      <td>1000.645380</td>\n",
              "    </tr>\n",
              "    <tr>\n",
              "      <th>max</th>\n",
              "      <td>774.407854</td>\n",
              "      <td>1003.207934</td>\n",
              "      <td>1002.666308</td>\n",
              "    </tr>\n",
              "  </tbody>\n",
              "</table>\n",
              "</div>\n",
              "      <button class=\"colab-df-convert\" onclick=\"convertToInteractive('df-f64f771d-a6d0-4f50-bb63-ed5a4ce84d08')\"\n",
              "              title=\"Convert this dataframe to an interactive table.\"\n",
              "              style=\"display:none;\">\n",
              "        \n",
              "  <svg xmlns=\"http://www.w3.org/2000/svg\" height=\"24px\"viewBox=\"0 0 24 24\"\n",
              "       width=\"24px\">\n",
              "    <path d=\"M0 0h24v24H0V0z\" fill=\"none\"/>\n",
              "    <path d=\"M18.56 5.44l.94 2.06.94-2.06 2.06-.94-2.06-.94-.94-2.06-.94 2.06-2.06.94zm-11 1L8.5 8.5l.94-2.06 2.06-.94-2.06-.94L8.5 2.5l-.94 2.06-2.06.94zm10 10l.94 2.06.94-2.06 2.06-.94-2.06-.94-.94-2.06-.94 2.06-2.06.94z\"/><path d=\"M17.41 7.96l-1.37-1.37c-.4-.4-.92-.59-1.43-.59-.52 0-1.04.2-1.43.59L10.3 9.45l-7.72 7.72c-.78.78-.78 2.05 0 2.83L4 21.41c.39.39.9.59 1.41.59.51 0 1.02-.2 1.41-.59l7.78-7.78 2.81-2.81c.8-.78.8-2.07 0-2.86zM5.41 20L4 18.59l7.72-7.72 1.47 1.35L5.41 20z\"/>\n",
              "  </svg>\n",
              "      </button>\n",
              "      \n",
              "  <style>\n",
              "    .colab-df-container {\n",
              "      display:flex;\n",
              "      flex-wrap:wrap;\n",
              "      gap: 12px;\n",
              "    }\n",
              "\n",
              "    .colab-df-convert {\n",
              "      background-color: #E8F0FE;\n",
              "      border: none;\n",
              "      border-radius: 50%;\n",
              "      cursor: pointer;\n",
              "      display: none;\n",
              "      fill: #1967D2;\n",
              "      height: 32px;\n",
              "      padding: 0 0 0 0;\n",
              "      width: 32px;\n",
              "    }\n",
              "\n",
              "    .colab-df-convert:hover {\n",
              "      background-color: #E2EBFA;\n",
              "      box-shadow: 0px 1px 2px rgba(60, 64, 67, 0.3), 0px 1px 3px 1px rgba(60, 64, 67, 0.15);\n",
              "      fill: #174EA6;\n",
              "    }\n",
              "\n",
              "    [theme=dark] .colab-df-convert {\n",
              "      background-color: #3B4455;\n",
              "      fill: #D2E3FC;\n",
              "    }\n",
              "\n",
              "    [theme=dark] .colab-df-convert:hover {\n",
              "      background-color: #434B5C;\n",
              "      box-shadow: 0px 1px 3px 1px rgba(0, 0, 0, 0.15);\n",
              "      filter: drop-shadow(0px 1px 2px rgba(0, 0, 0, 0.3));\n",
              "      fill: #FFFFFF;\n",
              "    }\n",
              "  </style>\n",
              "\n",
              "      <script>\n",
              "        const buttonEl =\n",
              "          document.querySelector('#df-f64f771d-a6d0-4f50-bb63-ed5a4ce84d08 button.colab-df-convert');\n",
              "        buttonEl.style.display =\n",
              "          google.colab.kernel.accessAllowed ? 'block' : 'none';\n",
              "\n",
              "        async function convertToInteractive(key) {\n",
              "          const element = document.querySelector('#df-f64f771d-a6d0-4f50-bb63-ed5a4ce84d08');\n",
              "          const dataTable =\n",
              "            await google.colab.kernel.invokeFunction('convertToInteractive',\n",
              "                                                     [key], {});\n",
              "          if (!dataTable) return;\n",
              "\n",
              "          const docLinkHtml = 'Like what you see? Visit the ' +\n",
              "            '<a target=\"_blank\" href=https://colab.research.google.com/notebooks/data_table.ipynb>data table notebook</a>'\n",
              "            + ' to learn more about interactive tables.';\n",
              "          element.innerHTML = '';\n",
              "          dataTable['output_type'] = 'display_data';\n",
              "          await google.colab.output.renderOutput(dataTable, element);\n",
              "          const docLink = document.createElement('div');\n",
              "          docLink.innerHTML = docLinkHtml;\n",
              "          element.appendChild(docLink);\n",
              "        }\n",
              "      </script>\n",
              "    </div>\n",
              "  </div>\n",
              "  "
            ]
          },
          "metadata": {},
          "execution_count": 48
        }
      ]
    },
    {
      "cell_type": "code",
      "source": [
        "#now calculate mean squared error, same value as before, original loss of model was mse\n",
        "mean_squared_error(pred_df['Test True Y'], pred_df['Model Predictions'])"
      ],
      "metadata": {
        "colab": {
          "base_uri": "https://localhost:8080/"
        },
        "id": "TBRn_cr5jHdn",
        "outputId": "c3586720-b35a-4d56-ae01-7b422aba3163"
      },
      "execution_count": null,
      "outputs": [
        {
          "output_type": "execute_result",
          "data": {
            "text/plain": [
              "26.426512607250842"
            ]
          },
          "metadata": {},
          "execution_count": 51
        }
      ]
    },
    {
      "cell_type": "code",
      "source": [
        "#get root squared error, raised to the power of 0.5\n",
        "mean_squared_error(pred_df['Test True Y'], pred_df['Model Predictions'])**0.5"
      ],
      "metadata": {
        "colab": {
          "base_uri": "https://localhost:8080/"
        },
        "id": "saJOh1A-jiT5",
        "outputId": "32d6a42e-68de-4f5a-b270-4ec82bbb2e03"
      },
      "execution_count": null,
      "outputs": [
        {
          "output_type": "execute_result",
          "data": {
            "text/plain": [
              "5.140672388632721"
            ]
          },
          "metadata": {},
          "execution_count": 52
        }
      ]
    },
    {
      "cell_type": "code",
      "execution_count": null,
      "metadata": {
        "id": "mBPemd1gcgSp"
      },
      "outputs": [],
      "source": [
        "pred_df['Error'] = pred_df['Test  True Y'] - pred_df['Model Predictions']"
      ]
    },
    {
      "cell_type": "code",
      "execution_count": null,
      "metadata": {
        "id": "YQMimCEMcgSp",
        "outputId": "743c8ea8-d391-4ca8-ecdf-001e55eb45c5"
      },
      "outputs": [
        {
          "data": {
            "text/plain": [
              "<matplotlib.axes._subplots.AxesSubplot at 0x28c1234f648>"
            ]
          },
          "execution_count": 44,
          "metadata": {},
          "output_type": "execute_result"
        },
        {
          "data": {
            "image/png": "[encoded data removed]",
            "text/plain": [
              "<Figure size 432x288 with 1 Axes>"
            ]
          },
          "metadata": {
            "needs_background": "light"
          },
          "output_type": "display_data"
        }
      ],
      "source": [
        "sns.distplot(pred_df['Error'],bins=50)"
      ]
    },
    {
      "cell_type": "code",
      "execution_count": null,
      "metadata": {
        "id": "y_CoUAFZcgSp"
      },
      "outputs": [],
      "source": [
        "from sklearn.metrics import mean_absolute_error,mean_squared_error"
      ]
    },
    {
      "cell_type": "code",
      "execution_count": null,
      "metadata": {
        "id": "yFTekUFlcgSp",
        "outputId": "4338f123-6e5f-43f4-cd20-ddb8c6c53b32"
      },
      "outputs": [
        {
          "data": {
            "text/plain": [
              "4.386681017104325"
            ]
          },
          "execution_count": 46,
          "metadata": {},
          "output_type": "execute_result"
        }
      ],
      "source": [
        "mean_absolute_error(pred_df['Test Y'],pred_df['Model Predictions'])"
      ]
    },
    {
      "cell_type": "code",
      "execution_count": null,
      "metadata": {
        "id": "6QxAiW9ecgSq",
        "outputId": "4119230c-8cf7-4190-8af0-f60d1b1862da"
      },
      "outputs": [
        {
          "data": {
            "text/plain": [
              "29.11279458500883"
            ]
          },
          "execution_count": 47,
          "metadata": {},
          "output_type": "execute_result"
        }
      ],
      "source": [
        "mean_squared_error(pred_df['Test Y'],pred_df['Model Predictions'])"
      ]
    },
    {
      "cell_type": "code",
      "execution_count": null,
      "metadata": {
        "id": "C8eRz_aYcgSq",
        "outputId": "5bbb9418-0b68-4960-8d81-57deeda064f5"
      },
      "outputs": [
        {
          "data": {
            "text/plain": [
              "29.112792053222655"
            ]
          },
          "execution_count": 48,
          "metadata": {},
          "output_type": "execute_result"
        }
      ],
      "source": [
        "# Essentially the same thing, difference just due to precision\n",
        "test_score"
      ]
    },
    {
      "cell_type": "code",
      "execution_count": null,
      "metadata": {
        "id": "IoR1d4MccgSq",
        "outputId": "ed04916a-9c8c-49f1-db2c-45ed62fc8b27"
      },
      "outputs": [
        {
          "data": {
            "text/plain": [
              "5.3956271232566335"
            ]
          },
          "execution_count": 49,
          "metadata": {},
          "output_type": "execute_result"
        }
      ],
      "source": [
        "#RMSE\n",
        "test_score**0.5"
      ]
    },
    {
      "cell_type": "markdown",
      "metadata": {
        "id": "TALV1A6gcgSr"
      },
      "source": [
        "# Predicting on brand new data\n",
        "\n",
        "What if we just saw a brand new gemstone from the ground? What should we price it at? This is the **exact** same procedure as predicting on a new test data!"
      ]
    },
    {
      "cell_type": "code",
      "execution_count": null,
      "metadata": {
        "id": "PhP_taENcgSr"
      },
      "outputs": [],
      "source": [
        "# [[Feature1, Feature2]]\n",
        "#new data never seen before, predict its price using the model, use [[]] to match with original data\n",
        "new_gem = [[998, 1000]]"
      ]
    },
    {
      "cell_type": "code",
      "execution_count": null,
      "metadata": {
        "id": "hMB_SfhbcgSr",
        "outputId": "5fab3cf4-091f-49a9-cc84-3a9d75c83e7c",
        "colab": {
          "base_uri": "https://localhost:8080/"
        }
      },
      "outputs": [
        {
          "output_type": "execute_result",
          "data": {
            "text/plain": [
              "array([[0.14117652, 0.53968792]])"
            ]
          },
          "metadata": {},
          "execution_count": 55
        }
      ],
      "source": [
        "# Don't forget to scale! remember that you used scalar to transform the initial data so transform your new datapoint as well\n",
        "scaler.transform(new_gem)"
      ]
    },
    {
      "cell_type": "code",
      "execution_count": null,
      "metadata": {
        "id": "_oyKqeEzcgSs"
      },
      "outputs": [],
      "source": [
        "new_gem = scaler.transform(new_gem)"
      ]
    },
    {
      "cell_type": "code",
      "execution_count": null,
      "metadata": {
        "id": "UPGap71RcgSs",
        "outputId": "e05f7caf-12f0-40de-970b-2af6b501d438",
        "colab": {
          "base_uri": "https://localhost:8080/"
        }
      },
      "outputs": [
        {
          "output_type": "stream",
          "name": "stdout",
          "text": [
            "1/1 [==============================] - 0s 22ms/step\n"
          ]
        },
        {
          "output_type": "execute_result",
          "data": {
            "text/plain": [
              "array([[420.56802]], dtype=float32)"
            ]
          },
          "metadata": {},
          "execution_count": 57
        }
      ],
      "source": [
        "#predict price of new gem, should be aroundd $420, same process as with test dataset\n",
        "model.predict(new_gem)"
      ]
    },
    {
      "cell_type": "markdown",
      "metadata": {
        "id": "2MLi0lX2cgSs"
      },
      "source": [
        "## Saving and Loading a Model"
      ]
    },
    {
      "cell_type": "code",
      "execution_count": null,
      "metadata": {
        "id": "KIScmpRTcgSt"
      },
      "outputs": [],
      "source": [
        "#save your model, especially useful if you have complex model\n",
        "from tensorflow.keras.models import load_model"
      ]
    },
    {
      "cell_type": "code",
      "execution_count": null,
      "metadata": {
        "id": "9f0hTaw8cgSt"
      },
      "outputs": [],
      "source": [
        "model.save('my_gem_model.h5')  # creates a HDF5 file 'my_model.h5'"
      ]
    },
    {
      "cell_type": "code",
      "execution_count": null,
      "metadata": {
        "id": "h5BQG0Y4cgSt"
      },
      "outputs": [],
      "source": [
        "#load your model using the same keras library\n",
        "#for example if you are building model on already pre-existing model\n",
        "later_model = load_model('my_gem_model.h5')"
      ]
    },
    {
      "cell_type": "code",
      "execution_count": null,
      "metadata": {
        "id": "ID8s6_ficgSt",
        "outputId": "8ce2355c-a011-405c-8a90-c1e7f5da51e2",
        "colab": {
          "base_uri": "https://localhost:8080/"
        }
      },
      "outputs": [
        {
          "output_type": "stream",
          "name": "stdout",
          "text": [
            "1/1 [==============================] - 0s 64ms/step\n"
          ]
        },
        {
          "output_type": "execute_result",
          "data": {
            "text/plain": [
              "array([[420.56802]], dtype=float32)"
            ]
          },
          "metadata": {},
          "execution_count": 61
        }
      ],
      "source": [
        "#again to test if it works predict on new gem data\n",
        "later_model.predict(new_gem)"
      ]
    }
  ],
  "metadata": {
    "kernelspec": {
      "display_name": "Python 3",
      "language": "python",
      "name": "python3"
    },
    "language_info": {
      "codemirror_mode": {
        "name": "ipython",
        "version": 3
      },
      "file_extension": ".py",
      "mimetype": "text/x-python",
      "name": "python",
      "nbconvert_exporter": "python",
      "pygments_lexer": "ipython3",
      "version": "3.7.5"
    },
    "colab": {
      "provenance": []
    }
  },
  "nbformat": 4,
  "nbformat_minor": 0
}