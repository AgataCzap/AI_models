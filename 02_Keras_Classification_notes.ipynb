{
  "cells": [
    {
      "cell_type": "markdown",
      "metadata": {
        "id": "t6dWxWbUTEHU"
      },
      "source": [
        "<a href=\"https://www.pieriandata.com\"><img src=\"../Pierian_Data_Logo.PNG\"></a>\n",
        "<strong><center>Copyright by Pierian Data Inc.</center></strong> \n",
        "<strong><center>Created by Jose Marcial Portilla.</center></strong>"
      ]
    },
    {
      "cell_type": "markdown",
      "metadata": {
        "id": "ZLepD-quTEHX"
      },
      "source": [
        "# Keras TF 2.0 - Code Along Classification Project\n",
        "\n",
        "Let's explore a classification task with Keras API for TF 2.0\n",
        "\n",
        "## The Data\n",
        "\n",
        "### Breast cancer wisconsin (diagnostic) dataset\n",
        "--------------------------------------------\n",
        "\n",
        "**Data Set Characteristics:**\n",
        "\n",
        "    :Number of Instances: 569\n",
        "\n",
        "    :Number of Attributes: 30 numeric, predictive attributes and the class\n",
        "\n",
        "    :Attribute Information:\n",
        "        - radius (mean of distances from center to points on the perimeter)\n",
        "        - texture (standard deviation of gray-scale values)\n",
        "        - perimeter\n",
        "        - area\n",
        "        - smoothness (local variation in radius lengths)\n",
        "        - compactness (perimeter^2 / area - 1.0)\n",
        "        - concavity (severity of concave portions of the contour)\n",
        "        - concave points (number of concave portions of the contour)\n",
        "        - symmetry \n",
        "        - fractal dimension (\"coastline approximation\" - 1)\n",
        "\n",
        "        The mean, standard error, and \"worst\" or largest (mean of the three\n",
        "        largest values) of these features were computed for each image,\n",
        "        resulting in 30 features.  For instance, field 3 is Mean Radius, field\n",
        "        13 is Radius SE, field 23 is Worst Radius.\n",
        "\n",
        "        - class:\n",
        "                - WDBC-Malignant\n",
        "                - WDBC-Benign\n",
        "\n",
        "    :Summary Statistics:\n",
        "\n",
        "    ===================================== ====== ======\n",
        "                                           Min    Max\n",
        "    ===================================== ====== ======\n",
        "    radius (mean):                        6.981  28.11\n",
        "    texture (mean):                       9.71   39.28\n",
        "    perimeter (mean):                     43.79  188.5\n",
        "    area (mean):                          143.5  2501.0\n",
        "    smoothness (mean):                    0.053  0.163\n",
        "    compactness (mean):                   0.019  0.345\n",
        "    concavity (mean):                     0.0    0.427\n",
        "    concave points (mean):                0.0    0.201\n",
        "    symmetry (mean):                      0.106  0.304\n",
        "    fractal dimension (mean):             0.05   0.097\n",
        "    radius (standard error):              0.112  2.873\n",
        "    texture (standard error):             0.36   4.885\n",
        "    perimeter (standard error):           0.757  21.98\n",
        "    area (standard error):                6.802  542.2\n",
        "    smoothness (standard error):          0.002  0.031\n",
        "    compactness (standard error):         0.002  0.135\n",
        "    concavity (standard error):           0.0    0.396\n",
        "    concave points (standard error):      0.0    0.053\n",
        "    symmetry (standard error):            0.008  0.079\n",
        "    fractal dimension (standard error):   0.001  0.03\n",
        "    radius (worst):                       7.93   36.04\n",
        "    texture (worst):                      12.02  49.54\n",
        "    perimeter (worst):                    50.41  251.2\n",
        "    area (worst):                         185.2  4254.0\n",
        "    smoothness (worst):                   0.071  0.223\n",
        "    compactness (worst):                  0.027  1.058\n",
        "    concavity (worst):                    0.0    1.252\n",
        "    concave points (worst):               0.0    0.291\n",
        "    symmetry (worst):                     0.156  0.664\n",
        "    fractal dimension (worst):            0.055  0.208\n",
        "    ===================================== ====== ======\n",
        "\n",
        "    :Missing Attribute Values: None\n",
        "\n",
        "    :Class Distribution: 212 - Malignant, 357 - Benign\n",
        "\n",
        "    :Creator:  Dr. William H. Wolberg, W. Nick Street, Olvi L. Mangasarian\n",
        "\n",
        "    :Donor: Nick Street\n",
        "\n",
        "    :Date: November, 1995\n",
        "\n",
        "This is a copy of UCI ML Breast Cancer Wisconsin (Diagnostic) datasets.\n",
        "https://goo.gl/U2Uwz2\n",
        "\n",
        "Features are computed from a digitized image of a fine needle\n",
        "aspirate (FNA) of a breast mass.  They describe\n",
        "characteristics of the cell nuclei present in the image.\n",
        "\n",
        "Separating plane described above was obtained using\n",
        "Multisurface Method-Tree (MSM-T) [K. P. Bennett, \"Decision Tree\n",
        "Construction Via Linear Programming.\" Proceedings of the 4th\n",
        "Midwest Artificial Intelligence and Cognitive Science Society,\n",
        "pp. 97-101, 1992], a classification method which uses linear\n",
        "programming to construct a decision tree.  Relevant features\n",
        "were selected using an exhaustive search in the space of 1-4\n",
        "features and 1-3 separating planes.\n",
        "\n",
        "The actual linear program used to obtain the separating plane\n",
        "in the 3-dimensional space is that described in:\n",
        "[K. P. Bennett and O. L. Mangasarian: \"Robust Linear\n",
        "Programming Discrimination of Two Linearly Inseparable Sets\",\n",
        "Optimization Methods and Software 1, 1992, 23-34].\n",
        "\n",
        "This database is also available through the UW CS ftp server:\n",
        "\n",
        "ftp ftp.cs.wisc.edu\n",
        "cd math-prog/cpo-dataset/machine-learn/WDBC/\n",
        "\n",
        ".. topic:: References\n",
        "\n",
        "   - W.N. Street, W.H. Wolberg and O.L. Mangasarian. Nuclear feature extraction \n",
        "     for breast tumor diagnosis. IS&T/SPIE 1993 International Symposium on \n",
        "     Electronic Imaging: Science and Technology, volume 1905, pages 861-870,\n",
        "     San Jose, CA, 1993.\n",
        "   - O.L. Mangasarian, W.N. Street and W.H. Wolberg. Breast cancer diagnosis and \n",
        "     prognosis via linear programming. Operations Research, 43(4), pages 570-577, \n",
        "     July-August 1995.\n",
        "   - W.H. Wolberg, W.N. Street, and O.L. Mangasarian. Machine learning techniques\n",
        "     to diagnose breast cancer from fine-needle aspirates. Cancer Letters 77 (1994) \n",
        "     163-171."
      ]
    },
    {
      "cell_type": "markdown",
      "source": [
        "-how to generate a classification model\n",
        "-how to resolve problem of overfitting using dropout and early stopping rate\n",
        "\n",
        "Early stopping rate\n",
        "Keras has in-built early stopping rate, based on the loss condition calculated on t**he validation dataset **passed during the model.fit().\n",
        "\n",
        "Dropout rate\n",
        "Dropout layers can be added to the models to turn off neurons to prevent overfitting. Turns off user defined % of neurons in previous layer, weights and biases of these neurons do not get affected.\n",
        "\n",
        "Dataset - classification of tumours to benign tumour vs metastatic"
      ],
      "metadata": {
        "id": "0UQb3wvbs1vd"
      }
    },
    {
      "cell_type": "code",
      "execution_count": null,
      "metadata": {
        "id": "zcGoGhbgTEHY"
      },
      "outputs": [],
      "source": [
        "import pandas as pd\n",
        "import numpy as np\n",
        "import seaborn as sns\n",
        "import matplotlib.pyplot as plt"
      ]
    },
    {
      "cell_type": "code",
      "execution_count": null,
      "metadata": {
        "id": "ehEcp-YITEHZ"
      },
      "outputs": [],
      "source": [
        "df = pd.read_csv('cancer_classification.csv')"
      ]
    },
    {
      "cell_type": "code",
      "source": [
        "df.head()"
      ],
      "metadata": {
        "colab": {
          "base_uri": "https://localhost:8080/",
          "height": 331
        },
        "id": "JU8tJ1Qs1suU",
        "outputId": "be8af1f8-babb-4698-e64a-a44986fa1b9e"
      },
      "execution_count": null,
      "outputs": [
        {
          "output_type": "execute_result",
          "data": {
            "text/plain": [
              "   mean radius  mean texture  mean perimeter  mean area  mean smoothness  \\\n",
              "0        17.99         10.38          122.80     1001.0          0.11840   \n",
              "1        20.57         17.77          132.90     1326.0          0.08474   \n",
              "2        19.69         21.25          130.00     1203.0          0.10960   \n",
              "3        11.42         20.38           77.58      386.1          0.14250   \n",
              "4        20.29         14.34          135.10     1297.0          0.10030   \n",
              "\n",
              "   mean compactness  mean concavity  mean concave points  mean symmetry  \\\n",
              "0           0.27760          0.3001              0.14710         0.2419   \n",
              "1           0.07864          0.0869              0.07017         0.1812   \n",
              "2           0.15990          0.1974              0.12790         0.2069   \n",
              "3           0.28390          0.2414              0.10520         0.2597   \n",
              "4           0.13280          0.1980              0.10430         0.1809   \n",
              "\n",
              "   mean fractal dimension  ...  worst texture  worst perimeter  worst area  \\\n",
              "0                 0.07871  ...          17.33           184.60      2019.0   \n",
              "1                 0.05667  ...          23.41           158.80      1956.0   \n",
              "2                 0.05999  ...          25.53           152.50      1709.0   \n",
              "3                 0.09744  ...          26.50            98.87       567.7   \n",
              "4                 0.05883  ...          16.67           152.20      1575.0   \n",
              "\n",
              "   worst smoothness  worst compactness  worst concavity  worst concave points  \\\n",
              "0            0.1622             0.6656           0.7119                0.2654   \n",
              "1            0.1238             0.1866           0.2416                0.1860   \n",
              "2            0.1444             0.4245           0.4504                0.2430   \n",
              "3            0.2098             0.8663           0.6869                0.2575   \n",
              "4            0.1374             0.2050           0.4000                0.1625   \n",
              "\n",
              "   worst symmetry  worst fractal dimension  benign_0__mal_1  \n",
              "0          0.4601                  0.11890                0  \n",
              "1          0.2750                  0.08902                0  \n",
              "2          0.3613                  0.08758                0  \n",
              "3          0.6638                  0.17300                0  \n",
              "4          0.2364                  0.07678                0  \n",
              "\n",
              "[5 rows x 31 columns]"
            ],
            "text/html": [
              "\n",
              "  <div id=\"df-92836613-8418-470b-b642-a393b4940576\">\n",
              "    <div class=\"colab-df-container\">\n",
              "      <div>\n",
              "<style scoped>\n",
              "    .dataframe tbody tr th:only-of-type {\n",
              "        vertical-align: middle;\n",
              "    }\n",
              "\n",
              "    .dataframe tbody tr th {\n",
              "        vertical-align: top;\n",
              "    }\n",
              "\n",
              "    .dataframe thead th {\n",
              "        text-align: right;\n",
              "    }\n",
              "</style>\n",
              "<table border=\"1\" class=\"dataframe\">\n",
              "  <thead>\n",
              "    <tr style=\"text-align: right;\">\n",
              "      <th></th>\n",
              "      <th>mean radius</th>\n",
              "      <th>mean texture</th>\n",
              "      <th>mean perimeter</th>\n",
              "      <th>mean area</th>\n",
              "      <th>mean smoothness</th>\n",
              "      <th>mean compactness</th>\n",
              "      <th>mean concavity</th>\n",
              "      <th>mean concave points</th>\n",
              "      <th>mean symmetry</th>\n",
              "      <th>mean fractal dimension</th>\n",
              "      <th>...</th>\n",
              "      <th>worst texture</th>\n",
              "      <th>worst perimeter</th>\n",
              "      <th>worst area</th>\n",
              "      <th>worst smoothness</th>\n",
              "      <th>worst compactness</th>\n",
              "      <th>worst concavity</th>\n",
              "      <th>worst concave points</th>\n",
              "      <th>worst symmetry</th>\n",
              "      <th>worst fractal dimension</th>\n",
              "      <th>benign_0__mal_1</th>\n",
              "    </tr>\n",
              "  </thead>\n",
              "  <tbody>\n",
              "    <tr>\n",
              "      <th>0</th>\n",
              "      <td>17.99</td>\n",
              "      <td>10.38</td>\n",
              "      <td>122.80</td>\n",
              "      <td>1001.0</td>\n",
              "      <td>0.11840</td>\n",
              "      <td>0.27760</td>\n",
              "      <td>0.3001</td>\n",
              "      <td>0.14710</td>\n",
              "      <td>0.2419</td>\n",
              "      <td>0.07871</td>\n",
              "      <td>...</td>\n",
              "      <td>17.33</td>\n",
              "      <td>184.60</td>\n",
              "      <td>2019.0</td>\n",
              "      <td>0.1622</td>\n",
              "      <td>0.6656</td>\n",
              "      <td>0.7119</td>\n",
              "      <td>0.2654</td>\n",
              "      <td>0.4601</td>\n",
              "      <td>0.11890</td>\n",
              "      <td>0</td>\n",
              "    </tr>\n",
              "    <tr>\n",
              "      <th>1</th>\n",
              "      <td>20.57</td>\n",
              "      <td>17.77</td>\n",
              "      <td>132.90</td>\n",
              "      <td>1326.0</td>\n",
              "      <td>0.08474</td>\n",
              "      <td>0.07864</td>\n",
              "      <td>0.0869</td>\n",
              "      <td>0.07017</td>\n",
              "      <td>0.1812</td>\n",
              "      <td>0.05667</td>\n",
              "      <td>...</td>\n",
              "      <td>23.41</td>\n",
              "      <td>158.80</td>\n",
              "      <td>1956.0</td>\n",
              "      <td>0.1238</td>\n",
              "      <td>0.1866</td>\n",
              "      <td>0.2416</td>\n",
              "      <td>0.1860</td>\n",
              "      <td>0.2750</td>\n",
              "      <td>0.08902</td>\n",
              "      <td>0</td>\n",
              "    </tr>\n",
              "    <tr>\n",
              "      <th>2</th>\n",
              "      <td>19.69</td>\n",
              "      <td>21.25</td>\n",
              "      <td>130.00</td>\n",
              "      <td>1203.0</td>\n",
              "      <td>0.10960</td>\n",
              "      <td>0.15990</td>\n",
              "      <td>0.1974</td>\n",
              "      <td>0.12790</td>\n",
              "      <td>0.2069</td>\n",
              "      <td>0.05999</td>\n",
              "      <td>...</td>\n",
              "      <td>25.53</td>\n",
              "      <td>152.50</td>\n",
              "      <td>1709.0</td>\n",
              "      <td>0.1444</td>\n",
              "      <td>0.4245</td>\n",
              "      <td>0.4504</td>\n",
              "      <td>0.2430</td>\n",
              "      <td>0.3613</td>\n",
              "      <td>0.08758</td>\n",
              "      <td>0</td>\n",
              "    </tr>\n",
              "    <tr>\n",
              "      <th>3</th>\n",
              "      <td>11.42</td>\n",
              "      <td>20.38</td>\n",
              "      <td>77.58</td>\n",
              "      <td>386.1</td>\n",
              "      <td>0.14250</td>\n",
              "      <td>0.28390</td>\n",
              "      <td>0.2414</td>\n",
              "      <td>0.10520</td>\n",
              "      <td>0.2597</td>\n",
              "      <td>0.09744</td>\n",
              "      <td>...</td>\n",
              "      <td>26.50</td>\n",
              "      <td>98.87</td>\n",
              "      <td>567.7</td>\n",
              "      <td>0.2098</td>\n",
              "      <td>0.8663</td>\n",
              "      <td>0.6869</td>\n",
              "      <td>0.2575</td>\n",
              "      <td>0.6638</td>\n",
              "      <td>0.17300</td>\n",
              "      <td>0</td>\n",
              "    </tr>\n",
              "    <tr>\n",
              "      <th>4</th>\n",
              "      <td>20.29</td>\n",
              "      <td>14.34</td>\n",
              "      <td>135.10</td>\n",
              "      <td>1297.0</td>\n",
              "      <td>0.10030</td>\n",
              "      <td>0.13280</td>\n",
              "      <td>0.1980</td>\n",
              "      <td>0.10430</td>\n",
              "      <td>0.1809</td>\n",
              "      <td>0.05883</td>\n",
              "      <td>...</td>\n",
              "      <td>16.67</td>\n",
              "      <td>152.20</td>\n",
              "      <td>1575.0</td>\n",
              "      <td>0.1374</td>\n",
              "      <td>0.2050</td>\n",
              "      <td>0.4000</td>\n",
              "      <td>0.1625</td>\n",
              "      <td>0.2364</td>\n",
              "      <td>0.07678</td>\n",
              "      <td>0</td>\n",
              "    </tr>\n",
              "  </tbody>\n",
              "</table>\n",
              "<p>5 rows × 31 columns</p>\n",
              "</div>\n",
              "      <button class=\"colab-df-convert\" onclick=\"convertToInteractive('df-92836613-8418-470b-b642-a393b4940576')\"\n",
              "              title=\"Convert this dataframe to an interactive table.\"\n",
              "              style=\"display:none;\">\n",
              "        \n",
              "  <svg xmlns=\"http://www.w3.org/2000/svg\" height=\"24px\"viewBox=\"0 0 24 24\"\n",
              "       width=\"24px\">\n",
              "    <path d=\"M0 0h24v24H0V0z\" fill=\"none\"/>\n",
              "    <path d=\"M18.56 5.44l.94 2.06.94-2.06 2.06-.94-2.06-.94-.94-2.06-.94 2.06-2.06.94zm-11 1L8.5 8.5l.94-2.06 2.06-.94-2.06-.94L8.5 2.5l-.94 2.06-2.06.94zm10 10l.94 2.06.94-2.06 2.06-.94-2.06-.94-.94-2.06-.94 2.06-2.06.94z\"/><path d=\"M17.41 7.96l-1.37-1.37c-.4-.4-.92-.59-1.43-.59-.52 0-1.04.2-1.43.59L10.3 9.45l-7.72 7.72c-.78.78-.78 2.05 0 2.83L4 21.41c.39.39.9.59 1.41.59.51 0 1.02-.2 1.41-.59l7.78-7.78 2.81-2.81c.8-.78.8-2.07 0-2.86zM5.41 20L4 18.59l7.72-7.72 1.47 1.35L5.41 20z\"/>\n",
              "  </svg>\n",
              "      </button>\n",
              "      \n",
              "  <style>\n",
              "    .colab-df-container {\n",
              "      display:flex;\n",
              "      flex-wrap:wrap;\n",
              "      gap: 12px;\n",
              "    }\n",
              "\n",
              "    .colab-df-convert {\n",
              "      background-color: #E8F0FE;\n",
              "      border: none;\n",
              "      border-radius: 50%;\n",
              "      cursor: pointer;\n",
              "      display: none;\n",
              "      fill: #1967D2;\n",
              "      height: 32px;\n",
              "      padding: 0 0 0 0;\n",
              "      width: 32px;\n",
              "    }\n",
              "\n",
              "    .colab-df-convert:hover {\n",
              "      background-color: #E2EBFA;\n",
              "      box-shadow: 0px 1px 2px rgba(60, 64, 67, 0.3), 0px 1px 3px 1px rgba(60, 64, 67, 0.15);\n",
              "      fill: #174EA6;\n",
              "    }\n",
              "\n",
              "    [theme=dark] .colab-df-convert {\n",
              "      background-color: #3B4455;\n",
              "      fill: #D2E3FC;\n",
              "    }\n",
              "\n",
              "    [theme=dark] .colab-df-convert:hover {\n",
              "      background-color: #434B5C;\n",
              "      box-shadow: 0px 1px 3px 1px rgba(0, 0, 0, 0.15);\n",
              "      filter: drop-shadow(0px 1px 2px rgba(0, 0, 0, 0.3));\n",
              "      fill: #FFFFFF;\n",
              "    }\n",
              "  </style>\n",
              "\n",
              "      <script>\n",
              "        const buttonEl =\n",
              "          document.querySelector('#df-92836613-8418-470b-b642-a393b4940576 button.colab-df-convert');\n",
              "        buttonEl.style.display =\n",
              "          google.colab.kernel.accessAllowed ? 'block' : 'none';\n",
              "\n",
              "        async function convertToInteractive(key) {\n",
              "          const element = document.querySelector('#df-92836613-8418-470b-b642-a393b4940576');\n",
              "          const dataTable =\n",
              "            await google.colab.kernel.invokeFunction('convertToInteractive',\n",
              "                                                     [key], {});\n",
              "          if (!dataTable) return;\n",
              "\n",
              "          const docLinkHtml = 'Like what you see? Visit the ' +\n",
              "            '<a target=\"_blank\" href=https://colab.research.google.com/notebooks/data_table.ipynb>data table notebook</a>'\n",
              "            + ' to learn more about interactive tables.';\n",
              "          element.innerHTML = '';\n",
              "          dataTable['output_type'] = 'display_data';\n",
              "          await google.colab.output.renderOutput(dataTable, element);\n",
              "          const docLink = document.createElement('div');\n",
              "          docLink.innerHTML = docLinkHtml;\n",
              "          element.appendChild(docLink);\n",
              "        }\n",
              "      </script>\n",
              "    </div>\n",
              "  </div>\n",
              "  "
            ]
          },
          "metadata": {},
          "execution_count": 4
        }
      ]
    },
    {
      "cell_type": "code",
      "execution_count": null,
      "metadata": {
        "colab": {
          "base_uri": "https://localhost:8080/"
        },
        "id": "w1AQxrJMTEHa",
        "outputId": "eb20f197-e309-41dd-b027-97e32de9b6cf"
      },
      "outputs": [
        {
          "output_type": "stream",
          "name": "stdout",
          "text": [
            "<class 'pandas.core.frame.DataFrame'>\n",
            "RangeIndex: 569 entries, 0 to 568\n",
            "Data columns (total 31 columns):\n",
            " #   Column                   Non-Null Count  Dtype  \n",
            "---  ------                   --------------  -----  \n",
            " 0   mean radius              569 non-null    float64\n",
            " 1   mean texture             569 non-null    float64\n",
            " 2   mean perimeter           569 non-null    float64\n",
            " 3   mean area                569 non-null    float64\n",
            " 4   mean smoothness          569 non-null    float64\n",
            " 5   mean compactness         569 non-null    float64\n",
            " 6   mean concavity           569 non-null    float64\n",
            " 7   mean concave points      569 non-null    float64\n",
            " 8   mean symmetry            569 non-null    float64\n",
            " 9   mean fractal dimension   569 non-null    float64\n",
            " 10  radius error             569 non-null    float64\n",
            " 11  texture error            569 non-null    float64\n",
            " 12  perimeter error          569 non-null    float64\n",
            " 13  area error               569 non-null    float64\n",
            " 14  smoothness error         569 non-null    float64\n",
            " 15  compactness error        569 non-null    float64\n",
            " 16  concavity error          569 non-null    float64\n",
            " 17  concave points error     569 non-null    float64\n",
            " 18  symmetry error           569 non-null    float64\n",
            " 19  fractal dimension error  569 non-null    float64\n",
            " 20  worst radius             569 non-null    float64\n",
            " 21  worst texture            569 non-null    float64\n",
            " 22  worst perimeter          569 non-null    float64\n",
            " 23  worst area               569 non-null    float64\n",
            " 24  worst smoothness         569 non-null    float64\n",
            " 25  worst compactness        569 non-null    float64\n",
            " 26  worst concavity          569 non-null    float64\n",
            " 27  worst concave points     569 non-null    float64\n",
            " 28  worst symmetry           569 non-null    float64\n",
            " 29  worst fractal dimension  569 non-null    float64\n",
            " 30  benign_0__mal_1          569 non-null    int64  \n",
            "dtypes: float64(30), int64(1)\n",
            "memory usage: 137.9 KB\n"
          ]
        }
      ],
      "source": [
        "df.info() #check for any null values, no null values is good as shown below"
      ]
    },
    {
      "cell_type": "code",
      "source": [
        "df.describe() #check stat features, transpose with index being a feature as well"
      ],
      "metadata": {
        "colab": {
          "base_uri": "https://localhost:8080/",
          "height": 424
        },
        "id": "VZa4JPd712mb",
        "outputId": "300a65ab-b1bd-41aa-d47f-096561803a90"
      },
      "execution_count": null,
      "outputs": [
        {
          "output_type": "execute_result",
          "data": {
            "text/plain": [
              "       mean radius  mean texture  mean perimeter    mean area  \\\n",
              "count   569.000000    569.000000      569.000000   569.000000   \n",
              "mean     14.127292     19.289649       91.969033   654.889104   \n",
              "std       3.524049      4.301036       24.298981   351.914129   \n",
              "min       6.981000      9.710000       43.790000   143.500000   \n",
              "25%      11.700000     16.170000       75.170000   420.300000   \n",
              "50%      13.370000     18.840000       86.240000   551.100000   \n",
              "75%      15.780000     21.800000      104.100000   782.700000   \n",
              "max      28.110000     39.280000      188.500000  2501.000000   \n",
              "\n",
              "       mean smoothness  mean compactness  mean concavity  mean concave points  \\\n",
              "count       569.000000        569.000000      569.000000           569.000000   \n",
              "mean          0.096360          0.104341        0.088799             0.048919   \n",
              "std           0.014064          0.052813        0.079720             0.038803   \n",
              "min           0.052630          0.019380        0.000000             0.000000   \n",
              "25%           0.086370          0.064920        0.029560             0.020310   \n",
              "50%           0.095870          0.092630        0.061540             0.033500   \n",
              "75%           0.105300          0.130400        0.130700             0.074000   \n",
              "max           0.163400          0.345400        0.426800             0.201200   \n",
              "\n",
              "       mean symmetry  mean fractal dimension  ...  worst texture  \\\n",
              "count     569.000000              569.000000  ...     569.000000   \n",
              "mean        0.181162                0.062798  ...      25.677223   \n",
              "std         0.027414                0.007060  ...       6.146258   \n",
              "min         0.106000                0.049960  ...      12.020000   \n",
              "25%         0.161900                0.057700  ...      21.080000   \n",
              "50%         0.179200                0.061540  ...      25.410000   \n",
              "75%         0.195700                0.066120  ...      29.720000   \n",
              "max         0.304000                0.097440  ...      49.540000   \n",
              "\n",
              "       worst perimeter   worst area  worst smoothness  worst compactness  \\\n",
              "count       569.000000   569.000000        569.000000         569.000000   \n",
              "mean        107.261213   880.583128          0.132369           0.254265   \n",
              "std          33.602542   569.356993          0.022832           0.157336   \n",
              "min          50.410000   185.200000          0.071170           0.027290   \n",
              "25%          84.110000   515.300000          0.116600           0.147200   \n",
              "50%          97.660000   686.500000          0.131300           0.211900   \n",
              "75%         125.400000  1084.000000          0.146000           0.339100   \n",
              "max         251.200000  4254.000000          0.222600           1.058000   \n",
              "\n",
              "       worst concavity  worst concave points  worst symmetry  \\\n",
              "count       569.000000            569.000000      569.000000   \n",
              "mean          0.272188              0.114606        0.290076   \n",
              "std           0.208624              0.065732        0.061867   \n",
              "min           0.000000              0.000000        0.156500   \n",
              "25%           0.114500              0.064930        0.250400   \n",
              "50%           0.226700              0.099930        0.282200   \n",
              "75%           0.382900              0.161400        0.317900   \n",
              "max           1.252000              0.291000        0.663800   \n",
              "\n",
              "       worst fractal dimension  benign_0__mal_1  \n",
              "count               569.000000       569.000000  \n",
              "mean                  0.083946         0.627417  \n",
              "std                   0.018061         0.483918  \n",
              "min                   0.055040         0.000000  \n",
              "25%                   0.071460         0.000000  \n",
              "50%                   0.080040         1.000000  \n",
              "75%                   0.092080         1.000000  \n",
              "max                   0.207500         1.000000  \n",
              "\n",
              "[8 rows x 31 columns]"
            ],
            "text/html": [
              "\n",
              "  <div id=\"df-747abeed-f648-4d10-9d92-97aaddfeb62c\">\n",
              "    <div class=\"colab-df-container\">\n",
              "      <div>\n",
              "<style scoped>\n",
              "    .dataframe tbody tr th:only-of-type {\n",
              "        vertical-align: middle;\n",
              "    }\n",
              "\n",
              "    .dataframe tbody tr th {\n",
              "        vertical-align: top;\n",
              "    }\n",
              "\n",
              "    .dataframe thead th {\n",
              "        text-align: right;\n",
              "    }\n",
              "</style>\n",
              "<table border=\"1\" class=\"dataframe\">\n",
              "  <thead>\n",
              "    <tr style=\"text-align: right;\">\n",
              "      <th></th>\n",
              "      <th>mean radius</th>\n",
              "      <th>mean texture</th>\n",
              "      <th>mean perimeter</th>\n",
              "      <th>mean area</th>\n",
              "      <th>mean smoothness</th>\n",
              "      <th>mean compactness</th>\n",
              "      <th>mean concavity</th>\n",
              "      <th>mean concave points</th>\n",
              "      <th>mean symmetry</th>\n",
              "      <th>mean fractal dimension</th>\n",
              "      <th>...</th>\n",
              "      <th>worst texture</th>\n",
              "      <th>worst perimeter</th>\n",
              "      <th>worst area</th>\n",
              "      <th>worst smoothness</th>\n",
              "      <th>worst compactness</th>\n",
              "      <th>worst concavity</th>\n",
              "      <th>worst concave points</th>\n",
              "      <th>worst symmetry</th>\n",
              "      <th>worst fractal dimension</th>\n",
              "      <th>benign_0__mal_1</th>\n",
              "    </tr>\n",
              "  </thead>\n",
              "  <tbody>\n",
              "    <tr>\n",
              "      <th>count</th>\n",
              "      <td>569.000000</td>\n",
              "      <td>569.000000</td>\n",
              "      <td>569.000000</td>\n",
              "      <td>569.000000</td>\n",
              "      <td>569.000000</td>\n",
              "      <td>569.000000</td>\n",
              "      <td>569.000000</td>\n",
              "      <td>569.000000</td>\n",
              "      <td>569.000000</td>\n",
              "      <td>569.000000</td>\n",
              "      <td>...</td>\n",
              "      <td>569.000000</td>\n",
              "      <td>569.000000</td>\n",
              "      <td>569.000000</td>\n",
              "      <td>569.000000</td>\n",
              "      <td>569.000000</td>\n",
              "      <td>569.000000</td>\n",
              "      <td>569.000000</td>\n",
              "      <td>569.000000</td>\n",
              "      <td>569.000000</td>\n",
              "      <td>569.000000</td>\n",
              "    </tr>\n",
              "    <tr>\n",
              "      <th>mean</th>\n",
              "      <td>14.127292</td>\n",
              "      <td>19.289649</td>\n",
              "      <td>91.969033</td>\n",
              "      <td>654.889104</td>\n",
              "      <td>0.096360</td>\n",
              "      <td>0.104341</td>\n",
              "      <td>0.088799</td>\n",
              "      <td>0.048919</td>\n",
              "      <td>0.181162</td>\n",
              "      <td>0.062798</td>\n",
              "      <td>...</td>\n",
              "      <td>25.677223</td>\n",
              "      <td>107.261213</td>\n",
              "      <td>880.583128</td>\n",
              "      <td>0.132369</td>\n",
              "      <td>0.254265</td>\n",
              "      <td>0.272188</td>\n",
              "      <td>0.114606</td>\n",
              "      <td>0.290076</td>\n",
              "      <td>0.083946</td>\n",
              "      <td>0.627417</td>\n",
              "    </tr>\n",
              "    <tr>\n",
              "      <th>std</th>\n",
              "      <td>3.524049</td>\n",
              "      <td>4.301036</td>\n",
              "      <td>24.298981</td>\n",
              "      <td>351.914129</td>\n",
              "      <td>0.014064</td>\n",
              "      <td>0.052813</td>\n",
              "      <td>0.079720</td>\n",
              "      <td>0.038803</td>\n",
              "      <td>0.027414</td>\n",
              "      <td>0.007060</td>\n",
              "      <td>...</td>\n",
              "      <td>6.146258</td>\n",
              "      <td>33.602542</td>\n",
              "      <td>569.356993</td>\n",
              "      <td>0.022832</td>\n",
              "      <td>0.157336</td>\n",
              "      <td>0.208624</td>\n",
              "      <td>0.065732</td>\n",
              "      <td>0.061867</td>\n",
              "      <td>0.018061</td>\n",
              "      <td>0.483918</td>\n",
              "    </tr>\n",
              "    <tr>\n",
              "      <th>min</th>\n",
              "      <td>6.981000</td>\n",
              "      <td>9.710000</td>\n",
              "      <td>43.790000</td>\n",
              "      <td>143.500000</td>\n",
              "      <td>0.052630</td>\n",
              "      <td>0.019380</td>\n",
              "      <td>0.000000</td>\n",
              "      <td>0.000000</td>\n",
              "      <td>0.106000</td>\n",
              "      <td>0.049960</td>\n",
              "      <td>...</td>\n",
              "      <td>12.020000</td>\n",
              "      <td>50.410000</td>\n",
              "      <td>185.200000</td>\n",
              "      <td>0.071170</td>\n",
              "      <td>0.027290</td>\n",
              "      <td>0.000000</td>\n",
              "      <td>0.000000</td>\n",
              "      <td>0.156500</td>\n",
              "      <td>0.055040</td>\n",
              "      <td>0.000000</td>\n",
              "    </tr>\n",
              "    <tr>\n",
              "      <th>25%</th>\n",
              "      <td>11.700000</td>\n",
              "      <td>16.170000</td>\n",
              "      <td>75.170000</td>\n",
              "      <td>420.300000</td>\n",
              "      <td>0.086370</td>\n",
              "      <td>0.064920</td>\n",
              "      <td>0.029560</td>\n",
              "      <td>0.020310</td>\n",
              "      <td>0.161900</td>\n",
              "      <td>0.057700</td>\n",
              "      <td>...</td>\n",
              "      <td>21.080000</td>\n",
              "      <td>84.110000</td>\n",
              "      <td>515.300000</td>\n",
              "      <td>0.116600</td>\n",
              "      <td>0.147200</td>\n",
              "      <td>0.114500</td>\n",
              "      <td>0.064930</td>\n",
              "      <td>0.250400</td>\n",
              "      <td>0.071460</td>\n",
              "      <td>0.000000</td>\n",
              "    </tr>\n",
              "    <tr>\n",
              "      <th>50%</th>\n",
              "      <td>13.370000</td>\n",
              "      <td>18.840000</td>\n",
              "      <td>86.240000</td>\n",
              "      <td>551.100000</td>\n",
              "      <td>0.095870</td>\n",
              "      <td>0.092630</td>\n",
              "      <td>0.061540</td>\n",
              "      <td>0.033500</td>\n",
              "      <td>0.179200</td>\n",
              "      <td>0.061540</td>\n",
              "      <td>...</td>\n",
              "      <td>25.410000</td>\n",
              "      <td>97.660000</td>\n",
              "      <td>686.500000</td>\n",
              "      <td>0.131300</td>\n",
              "      <td>0.211900</td>\n",
              "      <td>0.226700</td>\n",
              "      <td>0.099930</td>\n",
              "      <td>0.282200</td>\n",
              "      <td>0.080040</td>\n",
              "      <td>1.000000</td>\n",
              "    </tr>\n",
              "    <tr>\n",
              "      <th>75%</th>\n",
              "      <td>15.780000</td>\n",
              "      <td>21.800000</td>\n",
              "      <td>104.100000</td>\n",
              "      <td>782.700000</td>\n",
              "      <td>0.105300</td>\n",
              "      <td>0.130400</td>\n",
              "      <td>0.130700</td>\n",
              "      <td>0.074000</td>\n",
              "      <td>0.195700</td>\n",
              "      <td>0.066120</td>\n",
              "      <td>...</td>\n",
              "      <td>29.720000</td>\n",
              "      <td>125.400000</td>\n",
              "      <td>1084.000000</td>\n",
              "      <td>0.146000</td>\n",
              "      <td>0.339100</td>\n",
              "      <td>0.382900</td>\n",
              "      <td>0.161400</td>\n",
              "      <td>0.317900</td>\n",
              "      <td>0.092080</td>\n",
              "      <td>1.000000</td>\n",
              "    </tr>\n",
              "    <tr>\n",
              "      <th>max</th>\n",
              "      <td>28.110000</td>\n",
              "      <td>39.280000</td>\n",
              "      <td>188.500000</td>\n",
              "      <td>2501.000000</td>\n",
              "      <td>0.163400</td>\n",
              "      <td>0.345400</td>\n",
              "      <td>0.426800</td>\n",
              "      <td>0.201200</td>\n",
              "      <td>0.304000</td>\n",
              "      <td>0.097440</td>\n",
              "      <td>...</td>\n",
              "      <td>49.540000</td>\n",
              "      <td>251.200000</td>\n",
              "      <td>4254.000000</td>\n",
              "      <td>0.222600</td>\n",
              "      <td>1.058000</td>\n",
              "      <td>1.252000</td>\n",
              "      <td>0.291000</td>\n",
              "      <td>0.663800</td>\n",
              "      <td>0.207500</td>\n",
              "      <td>1.000000</td>\n",
              "    </tr>\n",
              "  </tbody>\n",
              "</table>\n",
              "<p>8 rows × 31 columns</p>\n",
              "</div>\n",
              "      <button class=\"colab-df-convert\" onclick=\"convertToInteractive('df-747abeed-f648-4d10-9d92-97aaddfeb62c')\"\n",
              "              title=\"Convert this dataframe to an interactive table.\"\n",
              "              style=\"display:none;\">\n",
              "        \n",
              "  <svg xmlns=\"http://www.w3.org/2000/svg\" height=\"24px\"viewBox=\"0 0 24 24\"\n",
              "       width=\"24px\">\n",
              "    <path d=\"M0 0h24v24H0V0z\" fill=\"none\"/>\n",
              "    <path d=\"M18.56 5.44l.94 2.06.94-2.06 2.06-.94-2.06-.94-.94-2.06-.94 2.06-2.06.94zm-11 1L8.5 8.5l.94-2.06 2.06-.94-2.06-.94L8.5 2.5l-.94 2.06-2.06.94zm10 10l.94 2.06.94-2.06 2.06-.94-2.06-.94-.94-2.06-.94 2.06-2.06.94z\"/><path d=\"M17.41 7.96l-1.37-1.37c-.4-.4-.92-.59-1.43-.59-.52 0-1.04.2-1.43.59L10.3 9.45l-7.72 7.72c-.78.78-.78 2.05 0 2.83L4 21.41c.39.39.9.59 1.41.59.51 0 1.02-.2 1.41-.59l7.78-7.78 2.81-2.81c.8-.78.8-2.07 0-2.86zM5.41 20L4 18.59l7.72-7.72 1.47 1.35L5.41 20z\"/>\n",
              "  </svg>\n",
              "      </button>\n",
              "      \n",
              "  <style>\n",
              "    .colab-df-container {\n",
              "      display:flex;\n",
              "      flex-wrap:wrap;\n",
              "      gap: 12px;\n",
              "    }\n",
              "\n",
              "    .colab-df-convert {\n",
              "      background-color: #E8F0FE;\n",
              "      border: none;\n",
              "      border-radius: 50%;\n",
              "      cursor: pointer;\n",
              "      display: none;\n",
              "      fill: #1967D2;\n",
              "      height: 32px;\n",
              "      padding: 0 0 0 0;\n",
              "      width: 32px;\n",
              "    }\n",
              "\n",
              "    .colab-df-convert:hover {\n",
              "      background-color: #E2EBFA;\n",
              "      box-shadow: 0px 1px 2px rgba(60, 64, 67, 0.3), 0px 1px 3px 1px rgba(60, 64, 67, 0.15);\n",
              "      fill: #174EA6;\n",
              "    }\n",
              "\n",
              "    [theme=dark] .colab-df-convert {\n",
              "      background-color: #3B4455;\n",
              "      fill: #D2E3FC;\n",
              "    }\n",
              "\n",
              "    [theme=dark] .colab-df-convert:hover {\n",
              "      background-color: #434B5C;\n",
              "      box-shadow: 0px 1px 3px 1px rgba(0, 0, 0, 0.15);\n",
              "      filter: drop-shadow(0px 1px 2px rgba(0, 0, 0, 0.3));\n",
              "      fill: #FFFFFF;\n",
              "    }\n",
              "  </style>\n",
              "\n",
              "      <script>\n",
              "        const buttonEl =\n",
              "          document.querySelector('#df-747abeed-f648-4d10-9d92-97aaddfeb62c button.colab-df-convert');\n",
              "        buttonEl.style.display =\n",
              "          google.colab.kernel.accessAllowed ? 'block' : 'none';\n",
              "\n",
              "        async function convertToInteractive(key) {\n",
              "          const element = document.querySelector('#df-747abeed-f648-4d10-9d92-97aaddfeb62c');\n",
              "          const dataTable =\n",
              "            await google.colab.kernel.invokeFunction('convertToInteractive',\n",
              "                                                     [key], {});\n",
              "          if (!dataTable) return;\n",
              "\n",
              "          const docLinkHtml = 'Like what you see? Visit the ' +\n",
              "            '<a target=\"_blank\" href=https://colab.research.google.com/notebooks/data_table.ipynb>data table notebook</a>'\n",
              "            + ' to learn more about interactive tables.';\n",
              "          element.innerHTML = '';\n",
              "          dataTable['output_type'] = 'display_data';\n",
              "          await google.colab.output.renderOutput(dataTable, element);\n",
              "          const docLink = document.createElement('div');\n",
              "          docLink.innerHTML = docLinkHtml;\n",
              "          element.appendChild(docLink);\n",
              "        }\n",
              "      </script>\n",
              "    </div>\n",
              "  </div>\n",
              "  "
            ]
          },
          "metadata": {},
          "execution_count": 5
        }
      ]
    },
    {
      "cell_type": "code",
      "execution_count": null,
      "metadata": {
        "colab": {
          "base_uri": "https://localhost:8080/",
          "height": 1000
        },
        "id": "faPeXb9WTEHa",
        "outputId": "fcc3ced8-9381-41c9-9425-e49bbed089a8"
      },
      "outputs": [
        {
          "output_type": "execute_result",
          "data": {
            "text/plain": [
              "                         count        mean         std         min  \\\n",
              "mean radius              569.0   14.127292    3.524049    6.981000   \n",
              "mean texture             569.0   19.289649    4.301036    9.710000   \n",
              "mean perimeter           569.0   91.969033   24.298981   43.790000   \n",
              "mean area                569.0  654.889104  351.914129  143.500000   \n",
              "mean smoothness          569.0    0.096360    0.014064    0.052630   \n",
              "mean compactness         569.0    0.104341    0.052813    0.019380   \n",
              "mean concavity           569.0    0.088799    0.079720    0.000000   \n",
              "mean concave points      569.0    0.048919    0.038803    0.000000   \n",
              "mean symmetry            569.0    0.181162    0.027414    0.106000   \n",
              "mean fractal dimension   569.0    0.062798    0.007060    0.049960   \n",
              "radius error             569.0    0.405172    0.277313    0.111500   \n",
              "texture error            569.0    1.216853    0.551648    0.360200   \n",
              "perimeter error          569.0    2.866059    2.021855    0.757000   \n",
              "area error               569.0   40.337079   45.491006    6.802000   \n",
              "smoothness error         569.0    0.007041    0.003003    0.001713   \n",
              "compactness error        569.0    0.025478    0.017908    0.002252   \n",
              "concavity error          569.0    0.031894    0.030186    0.000000   \n",
              "concave points error     569.0    0.011796    0.006170    0.000000   \n",
              "symmetry error           569.0    0.020542    0.008266    0.007882   \n",
              "fractal dimension error  569.0    0.003795    0.002646    0.000895   \n",
              "worst radius             569.0   16.269190    4.833242    7.930000   \n",
              "worst texture            569.0   25.677223    6.146258   12.020000   \n",
              "worst perimeter          569.0  107.261213   33.602542   50.410000   \n",
              "worst area               569.0  880.583128  569.356993  185.200000   \n",
              "worst smoothness         569.0    0.132369    0.022832    0.071170   \n",
              "worst compactness        569.0    0.254265    0.157336    0.027290   \n",
              "worst concavity          569.0    0.272188    0.208624    0.000000   \n",
              "worst concave points     569.0    0.114606    0.065732    0.000000   \n",
              "worst symmetry           569.0    0.290076    0.061867    0.156500   \n",
              "worst fractal dimension  569.0    0.083946    0.018061    0.055040   \n",
              "benign_0__mal_1          569.0    0.627417    0.483918    0.000000   \n",
              "\n",
              "                                25%         50%          75%         max  \n",
              "mean radius               11.700000   13.370000    15.780000    28.11000  \n",
              "mean texture              16.170000   18.840000    21.800000    39.28000  \n",
              "mean perimeter            75.170000   86.240000   104.100000   188.50000  \n",
              "mean area                420.300000  551.100000   782.700000  2501.00000  \n",
              "mean smoothness            0.086370    0.095870     0.105300     0.16340  \n",
              "mean compactness           0.064920    0.092630     0.130400     0.34540  \n",
              "mean concavity             0.029560    0.061540     0.130700     0.42680  \n",
              "mean concave points        0.020310    0.033500     0.074000     0.20120  \n",
              "mean symmetry              0.161900    0.179200     0.195700     0.30400  \n",
              "mean fractal dimension     0.057700    0.061540     0.066120     0.09744  \n",
              "radius error               0.232400    0.324200     0.478900     2.87300  \n",
              "texture error              0.833900    1.108000     1.474000     4.88500  \n",
              "perimeter error            1.606000    2.287000     3.357000    21.98000  \n",
              "area error                17.850000   24.530000    45.190000   542.20000  \n",
              "smoothness error           0.005169    0.006380     0.008146     0.03113  \n",
              "compactness error          0.013080    0.020450     0.032450     0.13540  \n",
              "concavity error            0.015090    0.025890     0.042050     0.39600  \n",
              "concave points error       0.007638    0.010930     0.014710     0.05279  \n",
              "symmetry error             0.015160    0.018730     0.023480     0.07895  \n",
              "fractal dimension error    0.002248    0.003187     0.004558     0.02984  \n",
              "worst radius              13.010000   14.970000    18.790000    36.04000  \n",
              "worst texture             21.080000   25.410000    29.720000    49.54000  \n",
              "worst perimeter           84.110000   97.660000   125.400000   251.20000  \n",
              "worst area               515.300000  686.500000  1084.000000  4254.00000  \n",
              "worst smoothness           0.116600    0.131300     0.146000     0.22260  \n",
              "worst compactness          0.147200    0.211900     0.339100     1.05800  \n",
              "worst concavity            0.114500    0.226700     0.382900     1.25200  \n",
              "worst concave points       0.064930    0.099930     0.161400     0.29100  \n",
              "worst symmetry             0.250400    0.282200     0.317900     0.66380  \n",
              "worst fractal dimension    0.071460    0.080040     0.092080     0.20750  \n",
              "benign_0__mal_1            0.000000    1.000000     1.000000     1.00000  "
            ],
            "text/html": [
              "\n",
              "  <div id=\"df-d0f0bc1c-4920-4391-9ff9-1d2d939fd245\">\n",
              "    <div class=\"colab-df-container\">\n",
              "      <div>\n",
              "<style scoped>\n",
              "    .dataframe tbody tr th:only-of-type {\n",
              "        vertical-align: middle;\n",
              "    }\n",
              "\n",
              "    .dataframe tbody tr th {\n",
              "        vertical-align: top;\n",
              "    }\n",
              "\n",
              "    .dataframe thead th {\n",
              "        text-align: right;\n",
              "    }\n",
              "</style>\n",
              "<table border=\"1\" class=\"dataframe\">\n",
              "  <thead>\n",
              "    <tr style=\"text-align: right;\">\n",
              "      <th></th>\n",
              "      <th>count</th>\n",
              "      <th>mean</th>\n",
              "      <th>std</th>\n",
              "      <th>min</th>\n",
              "      <th>25%</th>\n",
              "      <th>50%</th>\n",
              "      <th>75%</th>\n",
              "      <th>max</th>\n",
              "    </tr>\n",
              "  </thead>\n",
              "  <tbody>\n",
              "    <tr>\n",
              "      <th>mean radius</th>\n",
              "      <td>569.0</td>\n",
              "      <td>14.127292</td>\n",
              "      <td>3.524049</td>\n",
              "      <td>6.981000</td>\n",
              "      <td>11.700000</td>\n",
              "      <td>13.370000</td>\n",
              "      <td>15.780000</td>\n",
              "      <td>28.11000</td>\n",
              "    </tr>\n",
              "    <tr>\n",
              "      <th>mean texture</th>\n",
              "      <td>569.0</td>\n",
              "      <td>19.289649</td>\n",
              "      <td>4.301036</td>\n",
              "      <td>9.710000</td>\n",
              "      <td>16.170000</td>\n",
              "      <td>18.840000</td>\n",
              "      <td>21.800000</td>\n",
              "      <td>39.28000</td>\n",
              "    </tr>\n",
              "    <tr>\n",
              "      <th>mean perimeter</th>\n",
              "      <td>569.0</td>\n",
              "      <td>91.969033</td>\n",
              "      <td>24.298981</td>\n",
              "      <td>43.790000</td>\n",
              "      <td>75.170000</td>\n",
              "      <td>86.240000</td>\n",
              "      <td>104.100000</td>\n",
              "      <td>188.50000</td>\n",
              "    </tr>\n",
              "    <tr>\n",
              "      <th>mean area</th>\n",
              "      <td>569.0</td>\n",
              "      <td>654.889104</td>\n",
              "      <td>351.914129</td>\n",
              "      <td>143.500000</td>\n",
              "      <td>420.300000</td>\n",
              "      <td>551.100000</td>\n",
              "      <td>782.700000</td>\n",
              "      <td>2501.00000</td>\n",
              "    </tr>\n",
              "    <tr>\n",
              "      <th>mean smoothness</th>\n",
              "      <td>569.0</td>\n",
              "      <td>0.096360</td>\n",
              "      <td>0.014064</td>\n",
              "      <td>0.052630</td>\n",
              "      <td>0.086370</td>\n",
              "      <td>0.095870</td>\n",
              "      <td>0.105300</td>\n",
              "      <td>0.16340</td>\n",
              "    </tr>\n",
              "    <tr>\n",
              "      <th>mean compactness</th>\n",
              "      <td>569.0</td>\n",
              "      <td>0.104341</td>\n",
              "      <td>0.052813</td>\n",
              "      <td>0.019380</td>\n",
              "      <td>0.064920</td>\n",
              "      <td>0.092630</td>\n",
              "      <td>0.130400</td>\n",
              "      <td>0.34540</td>\n",
              "    </tr>\n",
              "    <tr>\n",
              "      <th>mean concavity</th>\n",
              "      <td>569.0</td>\n",
              "      <td>0.088799</td>\n",
              "      <td>0.079720</td>\n",
              "      <td>0.000000</td>\n",
              "      <td>0.029560</td>\n",
              "      <td>0.061540</td>\n",
              "      <td>0.130700</td>\n",
              "      <td>0.42680</td>\n",
              "    </tr>\n",
              "    <tr>\n",
              "      <th>mean concave points</th>\n",
              "      <td>569.0</td>\n",
              "      <td>0.048919</td>\n",
              "      <td>0.038803</td>\n",
              "      <td>0.000000</td>\n",
              "      <td>0.020310</td>\n",
              "      <td>0.033500</td>\n",
              "      <td>0.074000</td>\n",
              "      <td>0.20120</td>\n",
              "    </tr>\n",
              "    <tr>\n",
              "      <th>mean symmetry</th>\n",
              "      <td>569.0</td>\n",
              "      <td>0.181162</td>\n",
              "      <td>0.027414</td>\n",
              "      <td>0.106000</td>\n",
              "      <td>0.161900</td>\n",
              "      <td>0.179200</td>\n",
              "      <td>0.195700</td>\n",
              "      <td>0.30400</td>\n",
              "    </tr>\n",
              "    <tr>\n",
              "      <th>mean fractal dimension</th>\n",
              "      <td>569.0</td>\n",
              "      <td>0.062798</td>\n",
              "      <td>0.007060</td>\n",
              "      <td>0.049960</td>\n",
              "      <td>0.057700</td>\n",
              "      <td>0.061540</td>\n",
              "      <td>0.066120</td>\n",
              "      <td>0.09744</td>\n",
              "    </tr>\n",
              "    <tr>\n",
              "      <th>radius error</th>\n",
              "      <td>569.0</td>\n",
              "      <td>0.405172</td>\n",
              "      <td>0.277313</td>\n",
              "      <td>0.111500</td>\n",
              "      <td>0.232400</td>\n",
              "      <td>0.324200</td>\n",
              "      <td>0.478900</td>\n",
              "      <td>2.87300</td>\n",
              "    </tr>\n",
              "    <tr>\n",
              "      <th>texture error</th>\n",
              "      <td>569.0</td>\n",
              "      <td>1.216853</td>\n",
              "      <td>0.551648</td>\n",
              "      <td>0.360200</td>\n",
              "      <td>0.833900</td>\n",
              "      <td>1.108000</td>\n",
              "      <td>1.474000</td>\n",
              "      <td>4.88500</td>\n",
              "    </tr>\n",
              "    <tr>\n",
              "      <th>perimeter error</th>\n",
              "      <td>569.0</td>\n",
              "      <td>2.866059</td>\n",
              "      <td>2.021855</td>\n",
              "      <td>0.757000</td>\n",
              "      <td>1.606000</td>\n",
              "      <td>2.287000</td>\n",
              "      <td>3.357000</td>\n",
              "      <td>21.98000</td>\n",
              "    </tr>\n",
              "    <tr>\n",
              "      <th>area error</th>\n",
              "      <td>569.0</td>\n",
              "      <td>40.337079</td>\n",
              "      <td>45.491006</td>\n",
              "      <td>6.802000</td>\n",
              "      <td>17.850000</td>\n",
              "      <td>24.530000</td>\n",
              "      <td>45.190000</td>\n",
              "      <td>542.20000</td>\n",
              "    </tr>\n",
              "    <tr>\n",
              "      <th>smoothness error</th>\n",
              "      <td>569.0</td>\n",
              "      <td>0.007041</td>\n",
              "      <td>0.003003</td>\n",
              "      <td>0.001713</td>\n",
              "      <td>0.005169</td>\n",
              "      <td>0.006380</td>\n",
              "      <td>0.008146</td>\n",
              "      <td>0.03113</td>\n",
              "    </tr>\n",
              "    <tr>\n",
              "      <th>compactness error</th>\n",
              "      <td>569.0</td>\n",
              "      <td>0.025478</td>\n",
              "      <td>0.017908</td>\n",
              "      <td>0.002252</td>\n",
              "      <td>0.013080</td>\n",
              "      <td>0.020450</td>\n",
              "      <td>0.032450</td>\n",
              "      <td>0.13540</td>\n",
              "    </tr>\n",
              "    <tr>\n",
              "      <th>concavity error</th>\n",
              "      <td>569.0</td>\n",
              "      <td>0.031894</td>\n",
              "      <td>0.030186</td>\n",
              "      <td>0.000000</td>\n",
              "      <td>0.015090</td>\n",
              "      <td>0.025890</td>\n",
              "      <td>0.042050</td>\n",
              "      <td>0.39600</td>\n",
              "    </tr>\n",
              "    <tr>\n",
              "      <th>concave points error</th>\n",
              "      <td>569.0</td>\n",
              "      <td>0.011796</td>\n",
              "      <td>0.006170</td>\n",
              "      <td>0.000000</td>\n",
              "      <td>0.007638</td>\n",
              "      <td>0.010930</td>\n",
              "      <td>0.014710</td>\n",
              "      <td>0.05279</td>\n",
              "    </tr>\n",
              "    <tr>\n",
              "      <th>symmetry error</th>\n",
              "      <td>569.0</td>\n",
              "      <td>0.020542</td>\n",
              "      <td>0.008266</td>\n",
              "      <td>0.007882</td>\n",
              "      <td>0.015160</td>\n",
              "      <td>0.018730</td>\n",
              "      <td>0.023480</td>\n",
              "      <td>0.07895</td>\n",
              "    </tr>\n",
              "    <tr>\n",
              "      <th>fractal dimension error</th>\n",
              "      <td>569.0</td>\n",
              "      <td>0.003795</td>\n",
              "      <td>0.002646</td>\n",
              "      <td>0.000895</td>\n",
              "      <td>0.002248</td>\n",
              "      <td>0.003187</td>\n",
              "      <td>0.004558</td>\n",
              "      <td>0.02984</td>\n",
              "    </tr>\n",
              "    <tr>\n",
              "      <th>worst radius</th>\n",
              "      <td>569.0</td>\n",
              "      <td>16.269190</td>\n",
              "      <td>4.833242</td>\n",
              "      <td>7.930000</td>\n",
              "      <td>13.010000</td>\n",
              "      <td>14.970000</td>\n",
              "      <td>18.790000</td>\n",
              "      <td>36.04000</td>\n",
              "    </tr>\n",
              "    <tr>\n",
              "      <th>worst texture</th>\n",
              "      <td>569.0</td>\n",
              "      <td>25.677223</td>\n",
              "      <td>6.146258</td>\n",
              "      <td>12.020000</td>\n",
              "      <td>21.080000</td>\n",
              "      <td>25.410000</td>\n",
              "      <td>29.720000</td>\n",
              "      <td>49.54000</td>\n",
              "    </tr>\n",
              "    <tr>\n",
              "      <th>worst perimeter</th>\n",
              "      <td>569.0</td>\n",
              "      <td>107.261213</td>\n",
              "      <td>33.602542</td>\n",
              "      <td>50.410000</td>\n",
              "      <td>84.110000</td>\n",
              "      <td>97.660000</td>\n",
              "      <td>125.400000</td>\n",
              "      <td>251.20000</td>\n",
              "    </tr>\n",
              "    <tr>\n",
              "      <th>worst area</th>\n",
              "      <td>569.0</td>\n",
              "      <td>880.583128</td>\n",
              "      <td>569.356993</td>\n",
              "      <td>185.200000</td>\n",
              "      <td>515.300000</td>\n",
              "      <td>686.500000</td>\n",
              "      <td>1084.000000</td>\n",
              "      <td>4254.00000</td>\n",
              "    </tr>\n",
              "    <tr>\n",
              "      <th>worst smoothness</th>\n",
              "      <td>569.0</td>\n",
              "      <td>0.132369</td>\n",
              "      <td>0.022832</td>\n",
              "      <td>0.071170</td>\n",
              "      <td>0.116600</td>\n",
              "      <td>0.131300</td>\n",
              "      <td>0.146000</td>\n",
              "      <td>0.22260</td>\n",
              "    </tr>\n",
              "    <tr>\n",
              "      <th>worst compactness</th>\n",
              "      <td>569.0</td>\n",
              "      <td>0.254265</td>\n",
              "      <td>0.157336</td>\n",
              "      <td>0.027290</td>\n",
              "      <td>0.147200</td>\n",
              "      <td>0.211900</td>\n",
              "      <td>0.339100</td>\n",
              "      <td>1.05800</td>\n",
              "    </tr>\n",
              "    <tr>\n",
              "      <th>worst concavity</th>\n",
              "      <td>569.0</td>\n",
              "      <td>0.272188</td>\n",
              "      <td>0.208624</td>\n",
              "      <td>0.000000</td>\n",
              "      <td>0.114500</td>\n",
              "      <td>0.226700</td>\n",
              "      <td>0.382900</td>\n",
              "      <td>1.25200</td>\n",
              "    </tr>\n",
              "    <tr>\n",
              "      <th>worst concave points</th>\n",
              "      <td>569.0</td>\n",
              "      <td>0.114606</td>\n",
              "      <td>0.065732</td>\n",
              "      <td>0.000000</td>\n",
              "      <td>0.064930</td>\n",
              "      <td>0.099930</td>\n",
              "      <td>0.161400</td>\n",
              "      <td>0.29100</td>\n",
              "    </tr>\n",
              "    <tr>\n",
              "      <th>worst symmetry</th>\n",
              "      <td>569.0</td>\n",
              "      <td>0.290076</td>\n",
              "      <td>0.061867</td>\n",
              "      <td>0.156500</td>\n",
              "      <td>0.250400</td>\n",
              "      <td>0.282200</td>\n",
              "      <td>0.317900</td>\n",
              "      <td>0.66380</td>\n",
              "    </tr>\n",
              "    <tr>\n",
              "      <th>worst fractal dimension</th>\n",
              "      <td>569.0</td>\n",
              "      <td>0.083946</td>\n",
              "      <td>0.018061</td>\n",
              "      <td>0.055040</td>\n",
              "      <td>0.071460</td>\n",
              "      <td>0.080040</td>\n",
              "      <td>0.092080</td>\n",
              "      <td>0.20750</td>\n",
              "    </tr>\n",
              "    <tr>\n",
              "      <th>benign_0__mal_1</th>\n",
              "      <td>569.0</td>\n",
              "      <td>0.627417</td>\n",
              "      <td>0.483918</td>\n",
              "      <td>0.000000</td>\n",
              "      <td>0.000000</td>\n",
              "      <td>1.000000</td>\n",
              "      <td>1.000000</td>\n",
              "      <td>1.00000</td>\n",
              "    </tr>\n",
              "  </tbody>\n",
              "</table>\n",
              "</div>\n",
              "      <button class=\"colab-df-convert\" onclick=\"convertToInteractive('df-d0f0bc1c-4920-4391-9ff9-1d2d939fd245')\"\n",
              "              title=\"Convert this dataframe to an interactive table.\"\n",
              "              style=\"display:none;\">\n",
              "        \n",
              "  <svg xmlns=\"http://www.w3.org/2000/svg\" height=\"24px\"viewBox=\"0 0 24 24\"\n",
              "       width=\"24px\">\n",
              "    <path d=\"M0 0h24v24H0V0z\" fill=\"none\"/>\n",
              "    <path d=\"M18.56 5.44l.94 2.06.94-2.06 2.06-.94-2.06-.94-.94-2.06-.94 2.06-2.06.94zm-11 1L8.5 8.5l.94-2.06 2.06-.94-2.06-.94L8.5 2.5l-.94 2.06-2.06.94zm10 10l.94 2.06.94-2.06 2.06-.94-2.06-.94-.94-2.06-.94 2.06-2.06.94z\"/><path d=\"M17.41 7.96l-1.37-1.37c-.4-.4-.92-.59-1.43-.59-.52 0-1.04.2-1.43.59L10.3 9.45l-7.72 7.72c-.78.78-.78 2.05 0 2.83L4 21.41c.39.39.9.59 1.41.59.51 0 1.02-.2 1.41-.59l7.78-7.78 2.81-2.81c.8-.78.8-2.07 0-2.86zM5.41 20L4 18.59l7.72-7.72 1.47 1.35L5.41 20z\"/>\n",
              "  </svg>\n",
              "      </button>\n",
              "      \n",
              "  <style>\n",
              "    .colab-df-container {\n",
              "      display:flex;\n",
              "      flex-wrap:wrap;\n",
              "      gap: 12px;\n",
              "    }\n",
              "\n",
              "    .colab-df-convert {\n",
              "      background-color: #E8F0FE;\n",
              "      border: none;\n",
              "      border-radius: 50%;\n",
              "      cursor: pointer;\n",
              "      display: none;\n",
              "      fill: #1967D2;\n",
              "      height: 32px;\n",
              "      padding: 0 0 0 0;\n",
              "      width: 32px;\n",
              "    }\n",
              "\n",
              "    .colab-df-convert:hover {\n",
              "      background-color: #E2EBFA;\n",
              "      box-shadow: 0px 1px 2px rgba(60, 64, 67, 0.3), 0px 1px 3px 1px rgba(60, 64, 67, 0.15);\n",
              "      fill: #174EA6;\n",
              "    }\n",
              "\n",
              "    [theme=dark] .colab-df-convert {\n",
              "      background-color: #3B4455;\n",
              "      fill: #D2E3FC;\n",
              "    }\n",
              "\n",
              "    [theme=dark] .colab-df-convert:hover {\n",
              "      background-color: #434B5C;\n",
              "      box-shadow: 0px 1px 3px 1px rgba(0, 0, 0, 0.15);\n",
              "      filter: drop-shadow(0px 1px 2px rgba(0, 0, 0, 0.3));\n",
              "      fill: #FFFFFF;\n",
              "    }\n",
              "  </style>\n",
              "\n",
              "      <script>\n",
              "        const buttonEl =\n",
              "          document.querySelector('#df-d0f0bc1c-4920-4391-9ff9-1d2d939fd245 button.colab-df-convert');\n",
              "        buttonEl.style.display =\n",
              "          google.colab.kernel.accessAllowed ? 'block' : 'none';\n",
              "\n",
              "        async function convertToInteractive(key) {\n",
              "          const element = document.querySelector('#df-d0f0bc1c-4920-4391-9ff9-1d2d939fd245');\n",
              "          const dataTable =\n",
              "            await google.colab.kernel.invokeFunction('convertToInteractive',\n",
              "                                                     [key], {});\n",
              "          if (!dataTable) return;\n",
              "\n",
              "          const docLinkHtml = 'Like what you see? Visit the ' +\n",
              "            '<a target=\"_blank\" href=https://colab.research.google.com/notebooks/data_table.ipynb>data table notebook</a>'\n",
              "            + ' to learn more about interactive tables.';\n",
              "          element.innerHTML = '';\n",
              "          dataTable['output_type'] = 'display_data';\n",
              "          await google.colab.output.renderOutput(dataTable, element);\n",
              "          const docLink = document.createElement('div');\n",
              "          docLink.innerHTML = docLinkHtml;\n",
              "          element.appendChild(docLink);\n",
              "        }\n",
              "      </script>\n",
              "    </div>\n",
              "  </div>\n",
              "  "
            ]
          },
          "metadata": {},
          "execution_count": 6
        }
      ],
      "source": [
        "df.describe().transpose()"
      ]
    },
    {
      "cell_type": "markdown",
      "metadata": {
        "id": "Q5vXdzTdTEHb"
      },
      "source": [
        "## EDA"
      ]
    },
    {
      "cell_type": "code",
      "execution_count": null,
      "metadata": {
        "id": "XyJrsmh3TEHb"
      },
      "outputs": [],
      "source": [
        "import seaborn as sns\n",
        "import matplotlib.pyplot as plt"
      ]
    },
    {
      "cell_type": "code",
      "execution_count": null,
      "metadata": {
        "colab": {
          "base_uri": "https://localhost:8080/",
          "height": 467
        },
        "id": "d9XUKuABTEHc",
        "outputId": "3a326761-0511-449b-92f6-5fd58c48559a"
      },
      "outputs": [
        {
          "output_type": "execute_result",
          "data": {
            "text/plain": [
              "<Axes: xlabel='benign_0__mal_1', ylabel='count'>"
            ]
          },
          "metadata": {},
          "execution_count": 8
        },
        {
          "output_type": "display_data",
          "data": {
            "text/plain": [
              "<Figure size 640x480 with 1 Axes>"
            ],
            "image/png": "[encoded data removed]"
          },
          "metadata": {}
        }
      ],
      "source": [
        "sns.countplot(x='benign_0__mal_1', data=df) #always great to use countplot to see instances of your label\n",
        "#well balanced problem, benign is assigned 0 and malicious is 1"
      ]
    },
    {
      "cell_type": "markdown",
      "source": [
        "Seems quite well balanced, more cases of malicious than benign. Check correlation between features"
      ],
      "metadata": {
        "id": "U5VodzHf2Y_t"
      }
    },
    {
      "cell_type": "code",
      "source": [
        "#check correlation with label in mind, sort values by highest corr and lowest\n",
        "#then plot, kind is bar plot, label perfectly correlated with each other\n",
        "#grab everything but label correlated with itself, -1 inddex\n",
        "df.corr()['benign_0__mal_1'][:-1].sort_values().plot(kind='bar')"
      ],
      "metadata": {
        "colab": {
          "base_uri": "https://localhost:8080/",
          "height": 598
        },
        "id": "8_8K0lwy2lAs",
        "outputId": "513f045d-9fab-4c8c-800a-0f095e0762d9"
      },
      "execution_count": null,
      "outputs": [
        {
          "output_type": "execute_result",
          "data": {
            "text/plain": [
              "<Axes: >"
            ]
          },
          "metadata": {},
          "execution_count": 9
        },
        {
          "output_type": "display_data",
          "data": {
            "text/plain": [
              "<Figure size 640x480 with 1 Axes>"
            ],
            "image/png": "[encoded data removed]"
          },
          "metadata": {}
        }
      ]
    },
    {
      "cell_type": "markdown",
      "source": [
        "Everything is strongly negatively correlated with the label, which should allow for a good prediction to be made. Look at correlation between features themselves with heatmap, every feature compared with other feature."
      ],
      "metadata": {
        "id": "lY2Nx4L03Qj2"
      }
    },
    {
      "cell_type": "code",
      "execution_count": null,
      "metadata": {
        "colab": {
          "base_uri": "https://localhost:8080/",
          "height": 591
        },
        "id": "NmqcXArqTEHc",
        "outputId": "a6e4888a-3ce2-483c-83c5-8c1fa1eb2e84"
      },
      "outputs": [
        {
          "output_type": "execute_result",
          "data": {
            "text/plain": [
              "<Axes: >"
            ]
          },
          "metadata": {},
          "execution_count": 11
        },
        {
          "output_type": "display_data",
          "data": {
            "text/plain": [
              "<Figure size 1000x800 with 2 Axes>"
            ],
            "image/png": "[encoded data removed]"
          },
          "metadata": {}
        }
      ],
      "source": [
        "plt.figure(figsize=(10,8))\n",
        "sns.heatmap(df.corr())"
      ]
    },
    {
      "cell_type": "code",
      "execution_count": null,
      "metadata": {
        "id": "lFo59zybTEHd",
        "outputId": "c1bac6f8-bc1a-4313-d102-f5eea161b7a8"
      },
      "outputs": [
        {
          "data": {
            "text/plain": [
              "worst concave points      -0.793566\n",
              "worst perimeter           -0.782914\n",
              "mean concave points       -0.776614\n",
              "worst radius              -0.776454\n",
              "mean perimeter            -0.742636\n",
              "worst area                -0.733825\n",
              "mean radius               -0.730029\n",
              "mean area                 -0.708984\n",
              "mean concavity            -0.696360\n",
              "worst concavity           -0.659610\n",
              "mean compactness          -0.596534\n",
              "worst compactness         -0.590998\n",
              "radius error              -0.567134\n",
              "perimeter error           -0.556141\n",
              "area error                -0.548236\n",
              "worst texture             -0.456903\n",
              "worst smoothness          -0.421465\n",
              "worst symmetry            -0.416294\n",
              "mean texture              -0.415185\n",
              "concave points error      -0.408042\n",
              "mean smoothness           -0.358560\n",
              "mean symmetry             -0.330499\n",
              "worst fractal dimension   -0.323872\n",
              "compactness error         -0.292999\n",
              "concavity error           -0.253730\n",
              "fractal dimension error   -0.077972\n",
              "symmetry error             0.006522\n",
              "texture error              0.008303\n",
              "mean fractal dimension     0.012838\n",
              "smoothness error           0.067016\n",
              "benign_0__mal_1            1.000000\n",
              "Name: benign_0__mal_1, dtype: float64"
            ]
          },
          "execution_count": 66,
          "metadata": {},
          "output_type": "execute_result"
        }
      ],
      "source": [
        "df.corr()['benign_0__mal_1'].sort_values()"
      ]
    },
    {
      "cell_type": "code",
      "execution_count": null,
      "metadata": {
        "id": "O0_dKIcqTEHd",
        "outputId": "a9b82d72-e659-4e93-f418-3b7e1c18a29a"
      },
      "outputs": [
        {
          "data": {
            "text/plain": [
              "<matplotlib.axes._subplots.AxesSubplot at 0x25e530c9348>"
            ]
          },
          "execution_count": 68,
          "metadata": {},
          "output_type": "execute_result"
        },
        {
          "data": {
            "image/png": "[encoded data removed]",
            "text/plain": [
              "<Figure size 432x288 with 1 Axes>"
            ]
          },
          "metadata": {
            "needs_background": "light"
          },
          "output_type": "display_data"
        }
      ],
      "source": [
        "df.corr()['benign_0__mal_1'].sort_values().plot(kind='bar')"
      ]
    },
    {
      "cell_type": "code",
      "execution_count": null,
      "metadata": {
        "id": "tdRzSkCOTEHe",
        "outputId": "02b41988-7bc3-4226-a71f-ee37ab3d60d4"
      },
      "outputs": [
        {
          "data": {
            "text/plain": [
              "<matplotlib.axes._subplots.AxesSubplot at 0x25e532c8f08>"
            ]
          },
          "execution_count": 70,
          "metadata": {},
          "output_type": "execute_result"
        },
        {
          "data": {
            "image/png": "[encoded data removed]",
            "text/plain": [
              "<Figure size 432x288 with 1 Axes>"
            ]
          },
          "metadata": {
            "needs_background": "light"
          },
          "output_type": "display_data"
        }
      ],
      "source": [
        "df.corr()['benign_0__mal_1'][:-1].sort_values().plot(kind='bar')"
      ]
    },
    {
      "cell_type": "markdown",
      "metadata": {
        "id": "Jrd9L8gHTEHe"
      },
      "source": [
        "## Train Test Split"
      ]
    },
    {
      "cell_type": "markdown",
      "source": [
        "Split dataset into training and test datasets. For training remove the label"
      ],
      "metadata": {
        "id": "gH8H3p2s3x2D"
      }
    },
    {
      "cell_type": "code",
      "execution_count": null,
      "metadata": {
        "id": "JixRHw9-TEHf"
      },
      "outputs": [],
      "source": [
        "X = df.drop('benign_0__mal_1', axis=1).values #keeping values only\n",
        "#axis=1 so column\n",
        "y = df['benign_0__mal_1'].values #grab values"
      ]
    },
    {
      "cell_type": "code",
      "execution_count": null,
      "metadata": {
        "id": "61rIB-63TEHf"
      },
      "outputs": [],
      "source": [
        "from sklearn.model_selection import train_test_split"
      ]
    },
    {
      "cell_type": "code",
      "execution_count": 44,
      "metadata": {
        "id": "N6xD9fGITEHg"
      },
      "outputs": [],
      "source": [
        "X_train, y_train, X_test, y_test = train_test_split(X, y, test_size=0.25, random_state=101)\n",
        "#remember to split into test and train datasets\n",
        "#smaller dataset so test will only be 25% of the entire dataset"
      ]
    },
    {
      "cell_type": "markdown",
      "metadata": {
        "id": "MqGgoTwiTEHg"
      },
      "source": [
        "\n",
        "## Scaling Data"
      ]
    },
    {
      "cell_type": "code",
      "execution_count": null,
      "metadata": {
        "id": "idiZkTxnTEHh"
      },
      "outputs": [],
      "source": [
        "from sklearn.preprocessing import MinMaxScaler"
      ]
    },
    {
      "cell_type": "code",
      "execution_count": null,
      "metadata": {
        "id": "W0bqyTccTEHh"
      },
      "outputs": [],
      "source": [
        "#create instance of the scaler\n",
        "scaler = MinMaxScaler()"
      ]
    },
    {
      "cell_type": "code",
      "source": [
        "X_test"
      ],
      "metadata": {
        "colab": {
          "base_uri": "https://localhost:8080/"
        },
        "id": "JtB-zRpn5yQv",
        "outputId": "0277455f-7a10-46a2-e9de-565a583cf57b"
      },
      "execution_count": 45,
      "outputs": [
        {
          "output_type": "execute_result",
          "data": {
            "text/plain": [
              "array([1, 1, 1, 1, 1, 1, 1, 1, 0, 0, 0, 1, 0, 1, 0, 1, 1, 0, 1, 1, 0, 0,\n",
              "       0, 1, 1, 1, 0, 0, 1, 1, 0, 0, 1, 1, 1, 1, 1, 1, 0, 0, 1, 1, 1, 0,\n",
              "       1, 0, 0, 1, 0, 1, 1, 1, 1, 1, 1, 0, 1, 1, 1, 0, 1, 1, 0, 1, 0, 0,\n",
              "       0, 0, 1, 1, 1, 1, 1, 1, 1, 1, 1, 1, 1, 1, 0, 0, 1, 1, 1, 1, 1, 0,\n",
              "       0, 0, 1, 1, 1, 0, 1, 1, 1, 1, 1, 0, 0, 0, 1, 1, 0, 0, 1, 1, 0, 0,\n",
              "       0, 0, 0, 0, 1, 1, 0, 1, 1, 1, 1, 1, 0, 0, 0, 0, 1, 0, 1, 1, 1, 0,\n",
              "       1, 1, 1, 1, 0, 1, 1, 1, 0, 0, 0, 0, 1, 0, 0, 0, 1, 1, 0, 1, 1, 1,\n",
              "       1, 0, 1, 0, 0, 0, 1, 0, 1, 1, 1, 1, 0, 1, 1, 1, 1, 0, 1, 0, 1, 0,\n",
              "       1, 0, 1, 0, 1, 1, 0, 1, 0, 1, 1, 0, 1, 1, 1, 0, 1, 1, 0, 0, 1, 0,\n",
              "       1, 1, 0, 1, 0, 0, 1, 0, 1, 1, 1, 1, 1, 1, 1, 0, 0, 0, 0, 1, 1, 0,\n",
              "       1, 1, 1, 1, 1, 1, 1, 1, 0, 0, 1, 0, 1, 0, 0, 1, 0, 1, 1, 1, 1, 1,\n",
              "       1, 0, 1, 0, 1, 0, 1, 1, 1, 0, 1, 1, 1, 0, 1, 1, 0, 1, 1, 1, 1, 1,\n",
              "       0, 1, 1, 1, 0, 1, 0, 1, 1, 0, 1, 1, 1, 1, 1, 1, 1, 0, 1, 1, 0, 1,\n",
              "       1, 1, 1, 1, 0, 1, 0, 0, 1, 0, 0, 1, 1, 0, 1, 1, 1, 1, 1, 1, 0, 1,\n",
              "       1, 0, 0, 1, 1, 1, 1, 0, 1, 0, 1, 0, 1, 0, 1, 0, 1, 1, 1, 1, 1, 1,\n",
              "       1, 0, 1, 0, 0, 1, 0, 1, 0, 1, 1, 0, 1, 1, 1, 0, 0, 1, 1, 0, 0, 1,\n",
              "       1, 0, 0, 0, 0, 1, 1, 0, 0, 0, 1, 1, 1, 1, 1, 1, 1, 1, 0, 1, 1, 0,\n",
              "       0, 0, 1, 1, 0, 0, 1, 0, 1, 1, 0, 1, 1, 1, 0, 0, 1, 1, 1, 1, 0, 1,\n",
              "       1, 1, 1, 1, 0, 0, 0, 1, 0, 0, 0, 1, 1, 1, 1, 1, 1, 1, 1, 1, 0, 1,\n",
              "       0, 1, 1, 1, 0, 0, 0, 1])"
            ]
          },
          "metadata": {},
          "execution_count": 45
        }
      ]
    },
    {
      "cell_type": "code",
      "source": [
        "X_test = X_test.reshape(-1,1)"
      ],
      "metadata": {
        "id": "cyZuizfj6hPp"
      },
      "execution_count": 48,
      "outputs": []
    },
    {
      "cell_type": "code",
      "execution_count": 46,
      "metadata": {
        "id": "9vUqhH4tTEHh"
      },
      "outputs": [],
      "source": [
        "X_train = scaler.fit_transform(X_train)\n",
        "#transform data\n",
        "#same with test, but onsteadd of fit transform just transform\n"
      ]
    },
    {
      "cell_type": "code",
      "source": [
        "X_test = scaler.fit_transform(X_test) #worked only with fit_transform \n",
        "#not with scaler.transform as in the course"
      ],
      "metadata": {
        "id": "VNgn4hQjCCda"
      },
      "execution_count": 52,
      "outputs": []
    },
    {
      "cell_type": "code",
      "execution_count": null,
      "metadata": {
        "colab": {
          "base_uri": "https://localhost:8080/",
          "height": 766
        },
        "id": "-ZGxBCxOTEHi",
        "outputId": "41b2bb8f-913c-4a06-a794-02a027f83fbc"
      },
      "outputs": [
        {
          "output_type": "error",
          "ename": "ValueError",
          "evalue": "ignored",
          "traceback": [
            "\u001b[0;31m---------------------------------------------------------------------------\u001b[0m",
            "\u001b[0;31mValueError\u001b[0m                                Traceback (most recent call last)",
            "\u001b[0;32m<ipython-input-19-e2e9c671902e>\u001b[0m in \u001b[0;36m<cell line: 2>\u001b[0;34m()\u001b[0m\n\u001b[1;32m      1\u001b[0m \u001b[0mX_train\u001b[0m \u001b[0;34m=\u001b[0m \u001b[0mscaler\u001b[0m\u001b[0;34m.\u001b[0m\u001b[0mtransform\u001b[0m\u001b[0;34m(\u001b[0m\u001b[0mX_train\u001b[0m\u001b[0;34m)\u001b[0m\u001b[0;34m\u001b[0m\u001b[0;34m\u001b[0m\u001b[0m\n\u001b[0;32m----> 2\u001b[0;31m \u001b[0mX_test\u001b[0m \u001b[0;34m=\u001b[0m \u001b[0mscaler\u001b[0m\u001b[0;34m.\u001b[0m\u001b[0mtransform\u001b[0m\u001b[0;34m(\u001b[0m\u001b[0mX_test\u001b[0m\u001b[0;34m)\u001b[0m\u001b[0;34m\u001b[0m\u001b[0;34m\u001b[0m\u001b[0m\n\u001b[0m",
            "\u001b[0;32m/usr/local/lib/python3.10/dist-packages/sklearn/utils/_set_output.py\u001b[0m in \u001b[0;36mwrapped\u001b[0;34m(self, X, *args, **kwargs)\u001b[0m\n\u001b[1;32m    138\u001b[0m     \u001b[0;34m@\u001b[0m\u001b[0mwraps\u001b[0m\u001b[0;34m(\u001b[0m\u001b[0mf\u001b[0m\u001b[0;34m)\u001b[0m\u001b[0;34m\u001b[0m\u001b[0;34m\u001b[0m\u001b[0m\n\u001b[1;32m    139\u001b[0m     \u001b[0;32mdef\u001b[0m \u001b[0mwrapped\u001b[0m\u001b[0;34m(\u001b[0m\u001b[0mself\u001b[0m\u001b[0;34m,\u001b[0m \u001b[0mX\u001b[0m\u001b[0;34m,\u001b[0m \u001b[0;34m*\u001b[0m\u001b[0margs\u001b[0m\u001b[0;34m,\u001b[0m \u001b[0;34m**\u001b[0m\u001b[0mkwargs\u001b[0m\u001b[0;34m)\u001b[0m\u001b[0;34m:\u001b[0m\u001b[0;34m\u001b[0m\u001b[0;34m\u001b[0m\u001b[0m\n\u001b[0;32m--> 140\u001b[0;31m         \u001b[0mdata_to_wrap\u001b[0m \u001b[0;34m=\u001b[0m \u001b[0mf\u001b[0m\u001b[0;34m(\u001b[0m\u001b[0mself\u001b[0m\u001b[0;34m,\u001b[0m \u001b[0mX\u001b[0m\u001b[0;34m,\u001b[0m \u001b[0;34m*\u001b[0m\u001b[0margs\u001b[0m\u001b[0;34m,\u001b[0m \u001b[0;34m**\u001b[0m\u001b[0mkwargs\u001b[0m\u001b[0;34m)\u001b[0m\u001b[0;34m\u001b[0m\u001b[0;34m\u001b[0m\u001b[0m\n\u001b[0m\u001b[1;32m    141\u001b[0m         \u001b[0;32mif\u001b[0m \u001b[0misinstance\u001b[0m\u001b[0;34m(\u001b[0m\u001b[0mdata_to_wrap\u001b[0m\u001b[0;34m,\u001b[0m \u001b[0mtuple\u001b[0m\u001b[0;34m)\u001b[0m\u001b[0;34m:\u001b[0m\u001b[0;34m\u001b[0m\u001b[0;34m\u001b[0m\u001b[0m\n\u001b[1;32m    142\u001b[0m             \u001b[0;31m# only wrap the first output for cross decomposition\u001b[0m\u001b[0;34m\u001b[0m\u001b[0;34m\u001b[0m\u001b[0m\n",
            "\u001b[0;32m/usr/local/lib/python3.10/dist-packages/sklearn/preprocessing/_data.py\u001b[0m in \u001b[0;36mtransform\u001b[0;34m(self, X)\u001b[0m\n\u001b[1;32m    506\u001b[0m         \u001b[0mcheck_is_fitted\u001b[0m\u001b[0;34m(\u001b[0m\u001b[0mself\u001b[0m\u001b[0;34m)\u001b[0m\u001b[0;34m\u001b[0m\u001b[0;34m\u001b[0m\u001b[0m\n\u001b[1;32m    507\u001b[0m \u001b[0;34m\u001b[0m\u001b[0m\n\u001b[0;32m--> 508\u001b[0;31m         X = self._validate_data(\n\u001b[0m\u001b[1;32m    509\u001b[0m             \u001b[0mX\u001b[0m\u001b[0;34m,\u001b[0m\u001b[0;34m\u001b[0m\u001b[0;34m\u001b[0m\u001b[0m\n\u001b[1;32m    510\u001b[0m             \u001b[0mcopy\u001b[0m\u001b[0;34m=\u001b[0m\u001b[0mself\u001b[0m\u001b[0;34m.\u001b[0m\u001b[0mcopy\u001b[0m\u001b[0;34m,\u001b[0m\u001b[0;34m\u001b[0m\u001b[0;34m\u001b[0m\u001b[0m\n",
            "\u001b[0;32m/usr/local/lib/python3.10/dist-packages/sklearn/base.py\u001b[0m in \u001b[0;36m_validate_data\u001b[0;34m(self, X, y, reset, validate_separately, **check_params)\u001b[0m\n\u001b[1;32m    563\u001b[0m             \u001b[0;32mraise\u001b[0m \u001b[0mValueError\u001b[0m\u001b[0;34m(\u001b[0m\u001b[0;34m\"Validation should be done on X, y or both.\"\u001b[0m\u001b[0;34m)\u001b[0m\u001b[0;34m\u001b[0m\u001b[0;34m\u001b[0m\u001b[0m\n\u001b[1;32m    564\u001b[0m         \u001b[0;32melif\u001b[0m \u001b[0;32mnot\u001b[0m \u001b[0mno_val_X\u001b[0m \u001b[0;32mand\u001b[0m \u001b[0mno_val_y\u001b[0m\u001b[0;34m:\u001b[0m\u001b[0;34m\u001b[0m\u001b[0;34m\u001b[0m\u001b[0m\n\u001b[0;32m--> 565\u001b[0;31m             \u001b[0mX\u001b[0m \u001b[0;34m=\u001b[0m \u001b[0mcheck_array\u001b[0m\u001b[0;34m(\u001b[0m\u001b[0mX\u001b[0m\u001b[0;34m,\u001b[0m \u001b[0minput_name\u001b[0m\u001b[0;34m=\u001b[0m\u001b[0;34m\"X\"\u001b[0m\u001b[0;34m,\u001b[0m \u001b[0;34m**\u001b[0m\u001b[0mcheck_params\u001b[0m\u001b[0;34m)\u001b[0m\u001b[0;34m\u001b[0m\u001b[0;34m\u001b[0m\u001b[0m\n\u001b[0m\u001b[1;32m    566\u001b[0m             \u001b[0mout\u001b[0m \u001b[0;34m=\u001b[0m \u001b[0mX\u001b[0m\u001b[0;34m\u001b[0m\u001b[0;34m\u001b[0m\u001b[0m\n\u001b[1;32m    567\u001b[0m         \u001b[0;32melif\u001b[0m \u001b[0mno_val_X\u001b[0m \u001b[0;32mand\u001b[0m \u001b[0;32mnot\u001b[0m \u001b[0mno_val_y\u001b[0m\u001b[0;34m:\u001b[0m\u001b[0;34m\u001b[0m\u001b[0;34m\u001b[0m\u001b[0m\n",
            "\u001b[0;32m/usr/local/lib/python3.10/dist-packages/sklearn/utils/validation.py\u001b[0m in \u001b[0;36mcheck_array\u001b[0;34m(array, accept_sparse, accept_large_sparse, dtype, order, copy, force_all_finite, ensure_2d, allow_nd, ensure_min_samples, ensure_min_features, estimator, input_name)\u001b[0m\n\u001b[1;32m    900\u001b[0m             \u001b[0;31m# If input is 1D raise error\u001b[0m\u001b[0;34m\u001b[0m\u001b[0;34m\u001b[0m\u001b[0m\n\u001b[1;32m    901\u001b[0m             \u001b[0;32mif\u001b[0m \u001b[0marray\u001b[0m\u001b[0;34m.\u001b[0m\u001b[0mndim\u001b[0m \u001b[0;34m==\u001b[0m \u001b[0;36m1\u001b[0m\u001b[0;34m:\u001b[0m\u001b[0;34m\u001b[0m\u001b[0;34m\u001b[0m\u001b[0m\n\u001b[0;32m--> 902\u001b[0;31m                 raise ValueError(\n\u001b[0m\u001b[1;32m    903\u001b[0m                     \u001b[0;34m\"Expected 2D array, got 1D array instead:\\narray={}.\\n\"\u001b[0m\u001b[0;34m\u001b[0m\u001b[0;34m\u001b[0m\u001b[0m\n\u001b[1;32m    904\u001b[0m                     \u001b[0;34m\"Reshape your data either using array.reshape(-1, 1) if \"\u001b[0m\u001b[0;34m\u001b[0m\u001b[0;34m\u001b[0m\u001b[0m\n",
            "\u001b[0;31mValueError\u001b[0m: Expected 2D array, got 1D array instead:\narray=[1. 1. 1. 1. 1. 1. 1. 1. 0. 0. 0. 1. 0. 1. 0. 1. 1. 0. 1. 1. 0. 0. 0. 1.\n 1. 1. 0. 0. 1. 1. 0. 0. 1. 1. 1. 1. 1. 1. 0. 0. 1. 1. 1. 0. 1. 0. 0. 1.\n 0. 1. 1. 1. 1. 1. 1. 0. 1. 1. 1. 0. 1. 1. 0. 1. 0. 0. 0. 0. 1. 1. 1. 1.\n 1. 1. 1. 1. 1. 1. 1. 1. 0. 0. 1. 1. 1. 1. 1. 0. 0. 0. 1. 1. 1. 0. 1. 1.\n 1. 1. 1. 0. 0. 0. 1. 1. 0. 0. 1. 1. 0. 0. 0. 0. 0. 0. 1. 1. 0. 1. 1. 1.\n 1. 1. 0. 0. 0. 0. 1. 0. 1. 1. 1. 0. 1. 1. 1. 1. 0. 1. 1. 1. 0. 0. 0. 0.\n 1. 0. 0. 0. 1. 1. 0. 1. 1. 1. 1. 0. 1. 0. 0. 0. 1. 0. 1. 1. 1. 1. 0. 1.\n 1. 1. 1. 0. 1. 0. 1. 0. 1. 0. 1. 0. 1. 1. 0. 1. 0. 1. 1. 0. 1. 1. 1. 0.\n 1. 1. 0. 0. 1. 0. 1. 1. 0. 1. 0. 0. 1. 0. 1. 1. 1. 1. 1. 1. 1. 0. 0. 0.\n 0. 1. 1. 0. 1. 1. 1. 1. 1. 1. 1. 1. 0. 0. 1. 0. 1. 0. 0. 1. 0. 1. 1. 1.\n 1. 1. 1. 0. 1. 0. 1. 0. 1. 1. 1. 0. 1. 1. 1. 0. 1. 1. 0. 1. 1. 1. 1. 1.\n 0. 1. 1. 1. 0. 1. 0. 1. 1. 0. 1. 1. 1. 1. 1. 1. 1. 0. 1. 1. 0. 1. 1. 1.\n 1. 1. 0. 1. 0. 0. 1. 0. 0. 1. 1. 0. 1. 1. 1. 1. 1. 1. 0. 1. 1. 0. 0. 1.\n 1. 1. 1. 0. 1. 0. 1. 0. 1. 0. 1. 0. 1. 1. 1. 1. 1. 1. 1. 0. 1. 0. 0. 1.\n 0. 1. 0. 1. 1. 0. 1. 1. 1. 0. 0. 1. 1. 0. 0. 1. 1. 0. 0. 0. 0. 1. 1. 0.\n 0. 0. 1. 1. 1. 1. 1. 1. 1. 1. 0. 1. 1. 0. 0. 0. 1. 1. 0. 0. 1. 0. 1. 1.\n 0. 1. 1. 1. 0. 0. 1. 1. 1. 1. 0. 1. 1. 1. 1. 1. 0. 0. 0. 1. 0. 0. 0. 1.\n 1. 1. 1. 1. 1. 1. 1. 1. 0. 1. 0. 1. 1. 1. 0. 0. 0. 1.].\nReshape your data either using array.reshape(-1, 1) if your data has a single feature or array.reshape(1, -1) if it contains a single sample."
          ]
        }
      ],
      "source": [
        "X_train = scaler.transform(X_train)\n",
        "X_test = scaler.transform(X_test)"
      ]
    },
    {
      "cell_type": "markdown",
      "metadata": {
        "id": "Yo991bE0TEHi"
      },
      "source": [
        "## Creating the Model\n",
        "\n",
        "    # For a binary classification problem\n",
        "    model.compile(optimizer='rmsprop',\n",
        "                  loss='binary_crossentropy',\n",
        "                  metrics=['accuracy'])\n",
        "                  \n",
        "    "
      ]
    },
    {
      "cell_type": "code",
      "execution_count": 54,
      "metadata": {
        "id": "QT5ZvDA7TEHj"
      },
      "outputs": [],
      "source": [
        "import tensorflow as tf\n",
        "from tensorflow.keras.models import Sequential\n",
        "from tensorflow.keras.layers import Dense, Activation,Dropout"
      ]
    },
    {
      "cell_type": "code",
      "source": [
        "from tensorflow.keras.models import Sequential\n",
        "from tensorflow.keras.models import Dense,Dropout,Activation"
      ],
      "metadata": {
        "colab": {
          "base_uri": "https://localhost:8080/",
          "height": 351
        },
        "id": "_4Tw2Cb-E2La",
        "outputId": "4a5b9948-c0ff-49c9-b9d5-019e5394636f"
      },
      "execution_count": 53,
      "outputs": [
        {
          "output_type": "error",
          "ename": "ImportError",
          "evalue": "ignored",
          "traceback": [
            "\u001b[0;31m---------------------------------------------------------------------------\u001b[0m",
            "\u001b[0;31mImportError\u001b[0m                               Traceback (most recent call last)",
            "\u001b[0;32m<ipython-input-53-4605c7caa5ad>\u001b[0m in \u001b[0;36m<cell line: 2>\u001b[0;34m()\u001b[0m\n\u001b[1;32m      1\u001b[0m \u001b[0;32mfrom\u001b[0m \u001b[0mtensorflow\u001b[0m\u001b[0;34m.\u001b[0m\u001b[0mkeras\u001b[0m\u001b[0;34m.\u001b[0m\u001b[0mmodels\u001b[0m \u001b[0;32mimport\u001b[0m \u001b[0mSequential\u001b[0m\u001b[0;34m\u001b[0m\u001b[0;34m\u001b[0m\u001b[0m\n\u001b[0;32m----> 2\u001b[0;31m \u001b[0;32mfrom\u001b[0m \u001b[0mtensorflow\u001b[0m\u001b[0;34m.\u001b[0m\u001b[0mkeras\u001b[0m\u001b[0;34m.\u001b[0m\u001b[0mmodels\u001b[0m \u001b[0;32mimport\u001b[0m \u001b[0mDense\u001b[0m\u001b[0;34m,\u001b[0m\u001b[0mDropout\u001b[0m\u001b[0;34m,\u001b[0m\u001b[0mActivation\u001b[0m\u001b[0;34m\u001b[0m\u001b[0;34m\u001b[0m\u001b[0m\n\u001b[0m",
            "\u001b[0;31mImportError\u001b[0m: cannot import name 'Dense' from 'tensorflow.keras.models' (/usr/local/lib/python3.10/dist-packages/keras/api/_v2/keras/models/__init__.py)",
            "",
            "\u001b[0;31m---------------------------------------------------------------------------\u001b[0;32m\nNOTE: If your import is failing due to a missing package, you can\nmanually install dependencies using either !pip or !apt.\n\nTo view examples of installing some common dependencies, click the\n\"Open Examples\" button below.\n\u001b[0;31m---------------------------------------------------------------------------\u001b[0m\n"
          ],
          "errorDetails": {
            "actions": [
              {
                "action": "open_url",
                "actionText": "Open Examples",
                "url": "/notebooks/snippets/importing_libraries.ipynb"
              }
            ]
          }
        }
      ]
    },
    {
      "cell_type": "code",
      "execution_count": 55,
      "metadata": {
        "id": "ULfOCkRvTEHj",
        "outputId": "f880b4a8-493a-4fb9-cdb1-41f6c52e4ebc",
        "colab": {
          "base_uri": "https://localhost:8080/"
        }
      },
      "outputs": [
        {
          "output_type": "execute_result",
          "data": {
            "text/plain": [
              "(426, 30)"
            ]
          },
          "metadata": {},
          "execution_count": 55
        }
      ],
      "source": [
        "X_train.shape #dataset has 30 features"
      ]
    },
    {
      "cell_type": "code",
      "execution_count": 56,
      "metadata": {
        "id": "3XsTJMyTTEHj"
      },
      "outputs": [],
      "source": [
        "model = Sequential()\n",
        "\n",
        "# https://stats.stackexchange.com/questions/181/how-to-choose-the-number-of-hidden-layers-and-nodes-in-a-feedforward-neural-netw\n",
        "\n",
        "model.add(Dense(units=30,activation='relu'))\n",
        "\n",
        "model.add(Dense(units=15,activation='relu'))\n",
        "\n",
        "\n",
        "model.add(Dense(units=1,activation='sigmoid'))\n",
        "\n",
        "# For a binary classification problem\n",
        "model.compile(loss='binary_crossentropy', optimizer='adam')"
      ]
    },
    {
      "cell_type": "code",
      "source": [
        "model = Sequential()\n",
        "#30 neurons for 30 features, activation of rectified linear unit\n",
        "model.add(Dense(units=30, activation='relu'))\n",
        "model.add(Dense(units=15, activation='relu'))\n",
        "#binary classification problem, last layer is 1 neuron with sigmoid activation\n",
        "model.add(Dense(units=1, activation='sigmoid'))\n",
        "#always last activation must be sigmoid\n",
        "#final neuron will output either 0 or 1 and assign to benign or malignant\n",
        "#compile, use binary crossentropy for loss function for classification\n",
        "#use adam optimizer\n",
        "model.compile(loss='binary_crossentropy', optimizer='adam')"
      ],
      "metadata": {
        "id": "VftVlLw_GO2e"
      },
      "execution_count": null,
      "outputs": []
    },
    {
      "cell_type": "markdown",
      "metadata": {
        "id": "u1uLv7dxTEHk"
      },
      "source": [
        "## Training the Model \n",
        "\n",
        "### Example One: Choosing too many epochs and overfitting!"
      ]
    },
    {
      "cell_type": "code",
      "source": [
        "#choose too many epochs as 600, see overfitting\n",
        "#also insert validation dataset, will take a while\n",
        "model.fit(X_train, y_train, epochs=600,\n",
        "          validation_data=(X_test, y_test))"
      ],
      "metadata": {
        "colab": {
          "base_uri": "https://localhost:8080/",
          "height": 443
        },
        "id": "Sh7fuTDEHMMs",
        "outputId": "4e0ae55a-da97-49a5-948f-1a321bc03009"
      },
      "execution_count": 57,
      "outputs": [
        {
          "output_type": "error",
          "ename": "ValueError",
          "evalue": "ignored",
          "traceback": [
            "\u001b[0;31m---------------------------------------------------------------------------\u001b[0m",
            "\u001b[0;31mValueError\u001b[0m                                Traceback (most recent call last)",
            "\u001b[0;32m<ipython-input-57-9cdc174dbb07>\u001b[0m in \u001b[0;36m<cell line: 3>\u001b[0;34m()\u001b[0m\n\u001b[1;32m      1\u001b[0m \u001b[0;31m#choose too many epochs as 600, see overfitting\u001b[0m\u001b[0;34m\u001b[0m\u001b[0;34m\u001b[0m\u001b[0m\n\u001b[1;32m      2\u001b[0m \u001b[0;31m#also insert validation dataset, will take a while\u001b[0m\u001b[0;34m\u001b[0m\u001b[0;34m\u001b[0m\u001b[0m\n\u001b[0;32m----> 3\u001b[0;31m model.fit(X_train, y_train, epochs=600,\n\u001b[0m\u001b[1;32m      4\u001b[0m           validation_data=(X_test, y_test))\n",
            "\u001b[0;32m/usr/local/lib/python3.10/dist-packages/keras/utils/traceback_utils.py\u001b[0m in \u001b[0;36merror_handler\u001b[0;34m(*args, **kwargs)\u001b[0m\n\u001b[1;32m     68\u001b[0m             \u001b[0;31m# To get the full stack trace, call:\u001b[0m\u001b[0;34m\u001b[0m\u001b[0;34m\u001b[0m\u001b[0m\n\u001b[1;32m     69\u001b[0m             \u001b[0;31m# `tf.debugging.disable_traceback_filtering()`\u001b[0m\u001b[0;34m\u001b[0m\u001b[0;34m\u001b[0m\u001b[0m\n\u001b[0;32m---> 70\u001b[0;31m             \u001b[0;32mraise\u001b[0m \u001b[0me\u001b[0m\u001b[0;34m.\u001b[0m\u001b[0mwith_traceback\u001b[0m\u001b[0;34m(\u001b[0m\u001b[0mfiltered_tb\u001b[0m\u001b[0;34m)\u001b[0m \u001b[0;32mfrom\u001b[0m \u001b[0;32mNone\u001b[0m\u001b[0;34m\u001b[0m\u001b[0;34m\u001b[0m\u001b[0m\n\u001b[0m\u001b[1;32m     71\u001b[0m         \u001b[0;32mfinally\u001b[0m\u001b[0;34m:\u001b[0m\u001b[0;34m\u001b[0m\u001b[0;34m\u001b[0m\u001b[0m\n\u001b[1;32m     72\u001b[0m             \u001b[0;32mdel\u001b[0m \u001b[0mfiltered_tb\u001b[0m\u001b[0;34m\u001b[0m\u001b[0;34m\u001b[0m\u001b[0m\n",
            "\u001b[0;32m/usr/local/lib/python3.10/dist-packages/keras/engine/data_adapter.py\u001b[0m in \u001b[0;36m_check_data_cardinality\u001b[0;34m(data)\u001b[0m\n\u001b[1;32m   1850\u001b[0m             )\n\u001b[1;32m   1851\u001b[0m         \u001b[0mmsg\u001b[0m \u001b[0;34m+=\u001b[0m \u001b[0;34m\"Make sure all arrays contain the same number of samples.\"\u001b[0m\u001b[0;34m\u001b[0m\u001b[0;34m\u001b[0m\u001b[0m\n\u001b[0;32m-> 1852\u001b[0;31m         \u001b[0;32mraise\u001b[0m \u001b[0mValueError\u001b[0m\u001b[0;34m(\u001b[0m\u001b[0mmsg\u001b[0m\u001b[0;34m)\u001b[0m\u001b[0;34m\u001b[0m\u001b[0;34m\u001b[0m\u001b[0m\n\u001b[0m\u001b[1;32m   1853\u001b[0m \u001b[0;34m\u001b[0m\u001b[0m\n\u001b[1;32m   1854\u001b[0m \u001b[0;34m\u001b[0m\u001b[0m\n",
            "\u001b[0;31mValueError\u001b[0m: Data cardinality is ambiguous:\n  x sizes: 426\n  y sizes: 143\nMake sure all arrays contain the same number of samples."
          ]
        }
      ]
    },
    {
      "cell_type": "code",
      "source": [
        "X_test.shape"
      ],
      "metadata": {
        "colab": {
          "base_uri": "https://localhost:8080/"
        },
        "id": "cRkQzBduK7Wg",
        "outputId": "55fcc945-41ea-42ae-9ea2-0ed66cf6fd6a"
      },
      "execution_count": 62,
      "outputs": [
        {
          "output_type": "execute_result",
          "data": {
            "text/plain": [
              "(426, 1)"
            ]
          },
          "metadata": {},
          "execution_count": 62
        }
      ]
    },
    {
      "cell_type": "code",
      "source": [
        "y_test.shape"
      ],
      "metadata": {
        "colab": {
          "base_uri": "https://localhost:8080/"
        },
        "id": "lRsYUtomK-lG",
        "outputId": "57daf360-0c98-46c8-b7c6-b62c4206beee"
      },
      "execution_count": 63,
      "outputs": [
        {
          "output_type": "execute_result",
          "data": {
            "text/plain": [
              "(143,)"
            ]
          },
          "metadata": {},
          "execution_count": 63
        }
      ]
    },
    {
      "cell_type": "code",
      "source": [
        "X_train.shape"
      ],
      "metadata": {
        "colab": {
          "base_uri": "https://localhost:8080/"
        },
        "id": "urRipiDwLAck",
        "outputId": "ebdad8fe-75d2-43d2-c89f-fb6ee5776cf3"
      },
      "execution_count": 64,
      "outputs": [
        {
          "output_type": "execute_result",
          "data": {
            "text/plain": [
              "(426, 30)"
            ]
          },
          "metadata": {},
          "execution_count": 64
        }
      ]
    },
    {
      "cell_type": "code",
      "source": [
        "y_train.shape"
      ],
      "metadata": {
        "colab": {
          "base_uri": "https://localhost:8080/"
        },
        "id": "hiEgjEqwLCYk",
        "outputId": "3227a7f0-4c62-4169-8a03-d8628aa13460"
      },
      "execution_count": 65,
      "outputs": [
        {
          "output_type": "execute_result",
          "data": {
            "text/plain": [
              "(143, 30)"
            ]
          },
          "metadata": {},
          "execution_count": 65
        }
      ]
    },
    {
      "cell_type": "code",
      "source": [
        "X_test2 = X_test[:143,:]\n",
        "X_train2 = X_train[:143,:]"
      ],
      "metadata": {
        "id": "D9k2dZPYLFKp"
      },
      "execution_count": 69,
      "outputs": []
    },
    {
      "cell_type": "markdown",
      "source": [],
      "metadata": {
        "id": "OkRv6qjNK6YF"
      }
    },
    {
      "cell_type": "code",
      "execution_count": 70,
      "metadata": {
        "id": "gTytUqaeTEHk",
        "outputId": "1fe5dd09-0740-463d-bfe4-a0bb5ea7838d",
        "colab": {
          "base_uri": "https://localhost:8080/",
          "height": 531
        }
      },
      "outputs": [
        {
          "output_type": "stream",
          "name": "stdout",
          "text": [
            "Epoch 1/600\n"
          ]
        },
        {
          "output_type": "error",
          "ename": "TypeError",
          "evalue": "ignored",
          "traceback": [
            "\u001b[0;31m---------------------------------------------------------------------------\u001b[0m",
            "\u001b[0;31mTypeError\u001b[0m                                 Traceback (most recent call last)",
            "\u001b[0;32m<ipython-input-70-0ee24abb7bf4>\u001b[0m in \u001b[0;36m<cell line: 4>\u001b[0;34m()\u001b[0m\n\u001b[1;32m      2\u001b[0m \u001b[0;31m# https://datascience.stackexchange.com/questions/18414/are-there-any-rules-for-choosing-the-size-of-a-mini-batch\u001b[0m\u001b[0;34m\u001b[0m\u001b[0;34m\u001b[0m\u001b[0m\n\u001b[1;32m      3\u001b[0m \u001b[0;34m\u001b[0m\u001b[0m\n\u001b[0;32m----> 4\u001b[0;31m model.fit(x=X_train2, \n\u001b[0m\u001b[1;32m      5\u001b[0m           \u001b[0my\u001b[0m\u001b[0;34m=\u001b[0m\u001b[0my_train\u001b[0m\u001b[0;34m,\u001b[0m\u001b[0;34m\u001b[0m\u001b[0;34m\u001b[0m\u001b[0m\n\u001b[1;32m      6\u001b[0m           \u001b[0mepochs\u001b[0m\u001b[0;34m=\u001b[0m\u001b[0;36m600\u001b[0m\u001b[0;34m,\u001b[0m\u001b[0;34m\u001b[0m\u001b[0;34m\u001b[0m\u001b[0m\n",
            "\u001b[0;32m/usr/local/lib/python3.10/dist-packages/keras/utils/traceback_utils.py\u001b[0m in \u001b[0;36merror_handler\u001b[0;34m(*args, **kwargs)\u001b[0m\n\u001b[1;32m     68\u001b[0m             \u001b[0;31m# To get the full stack trace, call:\u001b[0m\u001b[0;34m\u001b[0m\u001b[0;34m\u001b[0m\u001b[0m\n\u001b[1;32m     69\u001b[0m             \u001b[0;31m# `tf.debugging.disable_traceback_filtering()`\u001b[0m\u001b[0;34m\u001b[0m\u001b[0;34m\u001b[0m\u001b[0m\n\u001b[0;32m---> 70\u001b[0;31m             \u001b[0;32mraise\u001b[0m \u001b[0me\u001b[0m\u001b[0;34m.\u001b[0m\u001b[0mwith_traceback\u001b[0m\u001b[0;34m(\u001b[0m\u001b[0mfiltered_tb\u001b[0m\u001b[0;34m)\u001b[0m \u001b[0;32mfrom\u001b[0m \u001b[0;32mNone\u001b[0m\u001b[0;34m\u001b[0m\u001b[0;34m\u001b[0m\u001b[0m\n\u001b[0m\u001b[1;32m     71\u001b[0m         \u001b[0;32mfinally\u001b[0m\u001b[0;34m:\u001b[0m\u001b[0;34m\u001b[0m\u001b[0;34m\u001b[0m\u001b[0m\n\u001b[1;32m     72\u001b[0m             \u001b[0;32mdel\u001b[0m \u001b[0mfiltered_tb\u001b[0m\u001b[0;34m\u001b[0m\u001b[0;34m\u001b[0m\u001b[0m\n",
            "\u001b[0;32m/usr/local/lib/python3.10/dist-packages/tensorflow/python/eager/polymorphic_function/polymorphic_function.py\u001b[0m in \u001b[0;36m_call\u001b[0;34m(self, *args, **kwds)\u001b[0m\n\u001b[1;32m    924\u001b[0m       \u001b[0;31m# In this case we have created variables on the first call, so we run the\u001b[0m\u001b[0;34m\u001b[0m\u001b[0;34m\u001b[0m\u001b[0m\n\u001b[1;32m    925\u001b[0m       \u001b[0;31m# defunned version which is guaranteed to never create variables.\u001b[0m\u001b[0;34m\u001b[0m\u001b[0;34m\u001b[0m\u001b[0m\n\u001b[0;32m--> 926\u001b[0;31m       \u001b[0;32mreturn\u001b[0m \u001b[0mself\u001b[0m\u001b[0;34m.\u001b[0m\u001b[0m_no_variable_creation_fn\u001b[0m\u001b[0;34m(\u001b[0m\u001b[0;34m*\u001b[0m\u001b[0margs\u001b[0m\u001b[0;34m,\u001b[0m \u001b[0;34m**\u001b[0m\u001b[0mkwds\u001b[0m\u001b[0;34m)\u001b[0m  \u001b[0;31m# pylint: disable=not-callable\u001b[0m\u001b[0;34m\u001b[0m\u001b[0;34m\u001b[0m\u001b[0m\n\u001b[0m\u001b[1;32m    927\u001b[0m     \u001b[0;32melif\u001b[0m \u001b[0mself\u001b[0m\u001b[0;34m.\u001b[0m\u001b[0m_variable_creation_fn\u001b[0m \u001b[0;32mis\u001b[0m \u001b[0;32mnot\u001b[0m \u001b[0;32mNone\u001b[0m\u001b[0;34m:\u001b[0m\u001b[0;34m\u001b[0m\u001b[0;34m\u001b[0m\u001b[0m\n\u001b[1;32m    928\u001b[0m       \u001b[0;31m# Release the lock early so that multiple threads can perform the call\u001b[0m\u001b[0;34m\u001b[0m\u001b[0;34m\u001b[0m\u001b[0m\n",
            "\u001b[0;31mTypeError\u001b[0m: 'NoneType' object is not callable"
          ]
        }
      ],
      "source": [
        "# https://stats.stackexchange.com/questions/164876/tradeoff-batch-size-vs-number-of-iterations-to-train-a-neural-network\n",
        "# https://datascience.stackexchange.com/questions/18414/are-there-any-rules-for-choosing-the-size-of-a-mini-batch\n",
        "\n",
        "model.fit(x=X_train2, \n",
        "          y=y_train, \n",
        "          epochs=600,\n",
        "          validation_data=(X_test2, y_test),\n",
        "          verbose=1\n",
        "          )"
      ]
    },
    {
      "cell_type": "code",
      "execution_count": null,
      "metadata": {
        "id": "CbtGEOC2TEHl"
      },
      "outputs": [],
      "source": [
        "# model.history.history"
      ]
    },
    {
      "cell_type": "markdown",
      "source": [
        "Remember that you will have to plot both the training loss and the validation loss. "
      ],
      "metadata": {
        "id": "fRpPjcKxLwE-"
      }
    },
    {
      "cell_type": "code",
      "execution_count": null,
      "metadata": {
        "id": "xKHfpSqnTEHl"
      },
      "outputs": [],
      "source": [
        "model_loss = pd.DataFrame(model.history.history)"
      ]
    },
    {
      "cell_type": "markdown",
      "source": [
        "Get a dataframe with validation and training losses. Plot, simple case of overfitting to the training dataset, training loss in blue still goes down, however validation loss starts to increase.\n",
        "Training for too many epochs.\n",
        "Use early stopping rate, stop training before it gets out of hand. Use keras callbacks, first example.\n",
        "Recreate the model instead, "
      ],
      "metadata": {
        "id": "yhoYf3V1MQTK"
      }
    },
    {
      "cell_type": "code",
      "execution_count": null,
      "metadata": {
        "id": "9-d1hhIETEHl"
      },
      "outputs": [],
      "source": [
        "# model_loss.plot()"
      ]
    },
    {
      "cell_type": "code",
      "execution_count": null,
      "metadata": {
        "id": "Kh51GQYVTEHl",
        "outputId": "7bf3b4f2-46fb-4ccf-e758-2f7bf4bb28b7"
      },
      "outputs": [
        {
          "data": {
            "text/plain": [
              "<matplotlib.axes._subplots.AxesSubplot at 0x260b1e4ff48>"
            ]
          },
          "execution_count": 116,
          "metadata": {},
          "output_type": "execute_result"
        },
        {
          "data": {
            "image/png": "[encoded data removed]",
            "text/plain": [
              "<Figure size 432x288 with 1 Axes>"
            ]
          },
          "metadata": {
            "needs_background": "light"
          },
          "output_type": "display_data"
        }
      ],
      "source": [
        "model_loss.plot()"
      ]
    },
    {
      "cell_type": "markdown",
      "metadata": {
        "id": "5npQ-HyCTEHm"
      },
      "source": [
        "## Example Two: Early Stopping\n",
        "\n",
        "We obviously trained too much! Let's use early stopping to track the val_loss and stop training once it begins increasing too much!"
      ]
    },
    {
      "cell_type": "code",
      "execution_count": 71,
      "metadata": {
        "id": "kPz-_sSGTEHm"
      },
      "outputs": [],
      "source": [
        "model = Sequential()\n",
        "model.add(Dense(units=30,activation='relu'))\n",
        "model.add(Dense(units=15,activation='relu'))\n",
        "model.add(Dense(units=1,activation='sigmoid'))\n",
        "model.compile(loss='binary_crossentropy', optimizer='adam')"
      ]
    },
    {
      "cell_type": "code",
      "execution_count": 72,
      "metadata": {
        "id": "cYvUIcuDTEHn"
      },
      "outputs": [],
      "source": [
        "from tensorflow.keras.callbacks import EarlyStopping"
      ]
    },
    {
      "cell_type": "markdown",
      "source": [
        "Not the only comeback to be used, EarlyStopping, check documentation.\n",
        "Choose metric to check and base early stopping on, in this case val_loss (orange on plot). \n",
        "Min change to require\n",
        "patience - number of epochs that can go on without any change in the loss metric\n",
        "Some noise during training, line is composed of many datapoints at every epoch, up/down trend\n",
        "different modes of training\n"
      ],
      "metadata": {
        "id": "8mdHZ3MkSdAB"
      }
    },
    {
      "cell_type": "markdown",
      "metadata": {
        "id": "vyxSIqyRTEHn"
      },
      "source": [
        "Stop training when a monitored quantity has stopped improving.\n",
        "\n",
        "    Arguments:\n",
        "        monitor: Quantity to be monitored.\n",
        "        min_delta: Minimum change in the monitored quantity\n",
        "            to qualify as an improvement, i.e. an absolute\n",
        "            change of less than min_delta, will count as no\n",
        "            improvement.\n",
        "        patience: Number of epochs with no improvement\n",
        "            after which training will be stopped.\n",
        "        verbose: verbosity mode.\n",
        "        mode: One of `{\"auto\", \"min\", \"max\"}`. In `min` mode,\n",
        "            training will stop when the quantity\n",
        "            monitored has stopped decreasing; in `max`\n",
        "            mode it will stop when the quantity\n",
        "            monitored has stopped increasing; in `auto`\n",
        "            mode, the direction is automatically inferred\n",
        "            from the name of the monitored quantity."
      ]
    },
    {
      "cell_type": "code",
      "source": [
        "#define early stop variable first\n",
        "#mode, what are you trying to achieve through early stopping\n",
        "#max mode - if metric is accuracy, then maximise it and stop when it's max\n",
        "#min mode - we want to minimise our val_loss\n",
        "#automode automatically determines the best direction of training\n",
        "#but if it does not work do it manually, what you know about metric that is tracked\n",
        "#val_loss=0 is perfect fit, verbose=1 - see report\n",
        "#patience=25, wait 25 epochs, accomodates for noise\n",
        "#\n",
        "early_stop = EarlyStopping(monitor='val_loss', mode='min', verbose=1, patience=25)"
      ],
      "metadata": {
        "id": "NHIn_CCsUMXo"
      },
      "execution_count": null,
      "outputs": []
    },
    {
      "cell_type": "code",
      "execution_count": 74,
      "metadata": {
        "id": "kma1p8PzTEHn"
      },
      "outputs": [],
      "source": [
        "early_stop = EarlyStopping(monitor='val_loss', mode='min', verbose=1, patience=25)"
      ]
    },
    {
      "cell_type": "code",
      "execution_count": 75,
      "metadata": {
        "id": "wy_3HrTETEHn",
        "outputId": "fd64d8c0-491b-484c-e020-f5f29f0e8267",
        "colab": {
          "base_uri": "https://localhost:8080/",
          "height": 477
        }
      },
      "outputs": [
        {
          "output_type": "error",
          "ename": "ValueError",
          "evalue": "ignored",
          "traceback": [
            "\u001b[0;31m---------------------------------------------------------------------------\u001b[0m",
            "\u001b[0;31mValueError\u001b[0m                                Traceback (most recent call last)",
            "\u001b[0;32m<ipython-input-75-992a059e5bb1>\u001b[0m in \u001b[0;36m<cell line: 1>\u001b[0;34m()\u001b[0m\n\u001b[0;32m----> 1\u001b[0;31m model.fit(x=X_train, \n\u001b[0m\u001b[1;32m      2\u001b[0m           \u001b[0my\u001b[0m\u001b[0;34m=\u001b[0m\u001b[0my_train\u001b[0m\u001b[0;34m,\u001b[0m\u001b[0;34m\u001b[0m\u001b[0;34m\u001b[0m\u001b[0m\n\u001b[1;32m      3\u001b[0m           \u001b[0mepochs\u001b[0m\u001b[0;34m=\u001b[0m\u001b[0;36m600\u001b[0m\u001b[0;34m,\u001b[0m\u001b[0;34m\u001b[0m\u001b[0;34m\u001b[0m\u001b[0m\n\u001b[1;32m      4\u001b[0m           \u001b[0mvalidation_data\u001b[0m\u001b[0;34m=\u001b[0m\u001b[0;34m(\u001b[0m\u001b[0mX_test\u001b[0m\u001b[0;34m,\u001b[0m \u001b[0my_test\u001b[0m\u001b[0;34m)\u001b[0m\u001b[0;34m,\u001b[0m \u001b[0mverbose\u001b[0m\u001b[0;34m=\u001b[0m\u001b[0;36m1\u001b[0m\u001b[0;34m,\u001b[0m\u001b[0;34m\u001b[0m\u001b[0;34m\u001b[0m\u001b[0m\n\u001b[1;32m      5\u001b[0m           \u001b[0;31m#in model fit function add argument callbacks and use your callback variable\u001b[0m\u001b[0;34m\u001b[0m\u001b[0;34m\u001b[0m\u001b[0m\n",
            "\u001b[0;32m/usr/local/lib/python3.10/dist-packages/keras/utils/traceback_utils.py\u001b[0m in \u001b[0;36merror_handler\u001b[0;34m(*args, **kwargs)\u001b[0m\n\u001b[1;32m     68\u001b[0m             \u001b[0;31m# To get the full stack trace, call:\u001b[0m\u001b[0;34m\u001b[0m\u001b[0;34m\u001b[0m\u001b[0m\n\u001b[1;32m     69\u001b[0m             \u001b[0;31m# `tf.debugging.disable_traceback_filtering()`\u001b[0m\u001b[0;34m\u001b[0m\u001b[0;34m\u001b[0m\u001b[0m\n\u001b[0;32m---> 70\u001b[0;31m             \u001b[0;32mraise\u001b[0m \u001b[0me\u001b[0m\u001b[0;34m.\u001b[0m\u001b[0mwith_traceback\u001b[0m\u001b[0;34m(\u001b[0m\u001b[0mfiltered_tb\u001b[0m\u001b[0;34m)\u001b[0m \u001b[0;32mfrom\u001b[0m \u001b[0;32mNone\u001b[0m\u001b[0;34m\u001b[0m\u001b[0;34m\u001b[0m\u001b[0m\n\u001b[0m\u001b[1;32m     71\u001b[0m         \u001b[0;32mfinally\u001b[0m\u001b[0;34m:\u001b[0m\u001b[0;34m\u001b[0m\u001b[0;34m\u001b[0m\u001b[0m\n\u001b[1;32m     72\u001b[0m             \u001b[0;32mdel\u001b[0m \u001b[0mfiltered_tb\u001b[0m\u001b[0;34m\u001b[0m\u001b[0;34m\u001b[0m\u001b[0m\n",
            "\u001b[0;32m/usr/local/lib/python3.10/dist-packages/keras/engine/data_adapter.py\u001b[0m in \u001b[0;36m_check_data_cardinality\u001b[0;34m(data)\u001b[0m\n\u001b[1;32m   1850\u001b[0m             )\n\u001b[1;32m   1851\u001b[0m         \u001b[0mmsg\u001b[0m \u001b[0;34m+=\u001b[0m \u001b[0;34m\"Make sure all arrays contain the same number of samples.\"\u001b[0m\u001b[0;34m\u001b[0m\u001b[0;34m\u001b[0m\u001b[0m\n\u001b[0;32m-> 1852\u001b[0;31m         \u001b[0;32mraise\u001b[0m \u001b[0mValueError\u001b[0m\u001b[0;34m(\u001b[0m\u001b[0mmsg\u001b[0m\u001b[0;34m)\u001b[0m\u001b[0;34m\u001b[0m\u001b[0;34m\u001b[0m\u001b[0m\n\u001b[0m\u001b[1;32m   1853\u001b[0m \u001b[0;34m\u001b[0m\u001b[0m\n\u001b[1;32m   1854\u001b[0m \u001b[0;34m\u001b[0m\u001b[0m\n",
            "\u001b[0;31mValueError\u001b[0m: Data cardinality is ambiguous:\n  x sizes: 426\n  y sizes: 143\nMake sure all arrays contain the same number of samples."
          ]
        }
      ],
      "source": [
        "model.fit(x=X_train, \n",
        "          y=y_train, \n",
        "          epochs=600,\n",
        "          validation_data=(X_test, y_test), verbose=1,\n",
        "          #in model fit function add argument callbacks and use your callback variable\n",
        "          #pass it as a list, even if just 1\n",
        "          callbacks=[early_stop]\n",
        "          )\n",
        "\n",
        "#scroll down, early stop, stopped training after 81 epochs, choose large number of epochs\n",
        "#and then stop early with callbacks, takes care of that automatically"
      ]
    },
    {
      "cell_type": "code",
      "execution_count": null,
      "metadata": {
        "id": "qFZt5_T5TEHo",
        "outputId": "b2ba0e72-f9fd-42ef-9dd6-df82d138a9c2"
      },
      "outputs": [
        {
          "data": {
            "text/plain": [
              "<matplotlib.axes._subplots.AxesSubplot at 0x260b2923d08>"
            ]
          },
          "execution_count": 124,
          "metadata": {},
          "output_type": "execute_result"
        },
        {
          "data": {
            "image/png": "[encoded data removed]",
            "text/plain": [
              "<Figure size 432x288 with 1 Axes>"
            ]
          },
          "metadata": {
            "needs_background": "light"
          },
          "output_type": "display_data"
        }
      ],
      "source": [
        "model_loss = pd.DataFrame(model.history.history)\n",
        "model_loss.plot()\n",
        "\n",
        "#checking model loss, ideal plot, both loss and val_loss decrease\n",
        "#good indication of where to stop training"
      ]
    },
    {
      "cell_type": "markdown",
      "metadata": {
        "id": "lWU1AAS7TEHo"
      },
      "source": [
        "## Example Three: Adding in DropOut Layers"
      ]
    },
    {
      "cell_type": "code",
      "execution_count": null,
      "metadata": {
        "id": "zHSSVAEoTEHo"
      },
      "outputs": [],
      "source": [
        "from tensorflow.keras.layers import Dropout\n",
        "#remember it comes from layers "
      ]
    },
    {
      "cell_type": "code",
      "execution_count": null,
      "metadata": {
        "id": "GdzZekxXTEHo"
      },
      "outputs": [],
      "source": [
        "model = Sequential()\n",
        "model.add(Dense(units=30,activation='relu'))\n",
        "#add dropout layer, shift tab, main parameter is rate of % of turned\n",
        "#off neurons, 0 - none, 1 - all neurons for every batch of training\n",
        "#good % is 0.2-0.5, not specified batch size so 0.5\n",
        "#between 2 layers and between N-1 and N layers\n",
        "#each neuron has 50% chance of being turned off\n",
        "#use with combination of early stopping\n",
        "model.add(Dropout(0.5))\n",
        "model.add(Dropout(0.5))\n",
        "\n",
        "model.add(Dense(units=15,activation='relu'))\n",
        "model.add(Dropout(0.5))\n",
        "\n",
        "model.add(Dense(units=1,activation='sigmoid'))\n",
        "model.compile(loss='binary_crossentropy', optimizer='adam')"
      ]
    },
    {
      "cell_type": "code",
      "execution_count": null,
      "metadata": {
        "id": "9qmhnc5HTEHp",
        "outputId": "1d75b3ac-f9da-4e94-c47d-de4467cf01ea"
      },
      "outputs": [
        {
          "name": "stdout",
          "output_type": "stream",
          "text": [
            "Train on 426 samples, validate on 143 samples\n",
            "Epoch 1/600\n",
            "426/426 [==============================] - 0s 1ms/sample - loss: 0.6894 - val_loss: 0.6833\n",
            "Epoch 2/600\n",
            "426/426 [==============================] - 0s 101us/sample - loss: 0.6828 - val_loss: 0.6722\n",
            "Epoch 3/600\n",
            "426/426 [==============================] - 0s 103us/sample - loss: 0.6817 - val_loss: 0.6584\n",
            "Epoch 4/600\n",
            "426/426 [==============================] - 0s 99us/sample - loss: 0.6626 - val_loss: 0.6439\n",
            "Epoch 5/600\n",
            "426/426 [==============================] - 0s 97us/sample - loss: 0.6450 - val_loss: 0.6319\n",
            "Epoch 6/600\n",
            "426/426 [==============================] - 0s 101us/sample - loss: 0.6343 - val_loss: 0.6138\n",
            "Epoch 7/600\n",
            "426/426 [==============================] - 0s 108us/sample - loss: 0.6207 - val_loss: 0.5962\n",
            "Epoch 8/600\n",
            "426/426 [==============================] - 0s 103us/sample - loss: 0.6005 - val_loss: 0.5744\n",
            "Epoch 9/600\n",
            "426/426 [==============================] - 0s 103us/sample - loss: 0.5897 - val_loss: 0.5444\n",
            "Epoch 10/600\n",
            "426/426 [==============================] - 0s 103us/sample - loss: 0.5627 - val_loss: 0.5118\n",
            "Epoch 11/600\n",
            "426/426 [==============================] - 0s 105us/sample - loss: 0.5253 - val_loss: 0.4753\n",
            "Epoch 12/600\n",
            "426/426 [==============================] - 0s 103us/sample - loss: 0.5047 - val_loss: 0.4371\n",
            "Epoch 13/600\n",
            "426/426 [==============================] - 0s 117us/sample - loss: 0.5106 - val_loss: 0.4084\n",
            "Epoch 14/600\n",
            "426/426 [==============================] - 0s 112us/sample - loss: 0.4720 - val_loss: 0.3854\n",
            "Epoch 15/600\n",
            "426/426 [==============================] - 0s 108us/sample - loss: 0.4493 - val_loss: 0.3616\n",
            "Epoch 16/600\n",
            "426/426 [==============================] - 0s 110us/sample - loss: 0.4197 - val_loss: 0.3379\n",
            "Epoch 17/600\n",
            "426/426 [==============================] - 0s 101us/sample - loss: 0.4065 - val_loss: 0.3203\n",
            "Epoch 18/600\n",
            "426/426 [==============================] - 0s 110us/sample - loss: 0.4075 - val_loss: 0.2978\n",
            "Epoch 19/600\n",
            "426/426 [==============================] - 0s 98us/sample - loss: 0.3697 - val_loss: 0.2815\n",
            "Epoch 20/600\n",
            "426/426 [==============================] - 0s 100us/sample - loss: 0.3830 - val_loss: 0.2639\n",
            "Epoch 21/600\n",
            "426/426 [==============================] - 0s 105us/sample - loss: 0.3382 - val_loss: 0.2479\n",
            "Epoch 22/600\n",
            "426/426 [==============================] - 0s 100us/sample - loss: 0.3434 - val_loss: 0.2353\n",
            "Epoch 23/600\n",
            "426/426 [==============================] - 0s 101us/sample - loss: 0.3226 - val_loss: 0.2264\n",
            "Epoch 24/600\n",
            "426/426 [==============================] - 0s 103us/sample - loss: 0.3114 - val_loss: 0.2149\n",
            "Epoch 25/600\n",
            "426/426 [==============================] - 0s 103us/sample - loss: 0.3048 - val_loss: 0.2018\n",
            "Epoch 26/600\n",
            "426/426 [==============================] - 0s 103us/sample - loss: 0.2849 - val_loss: 0.1914\n",
            "Epoch 27/600\n",
            "426/426 [==============================] - 0s 112us/sample - loss: 0.3049 - val_loss: 0.1915\n",
            "Epoch 28/600\n",
            "426/426 [==============================] - 0s 103us/sample - loss: 0.2759 - val_loss: 0.1818\n",
            "Epoch 29/600\n",
            "426/426 [==============================] - 0s 105us/sample - loss: 0.2556 - val_loss: 0.1692\n",
            "Epoch 30/600\n",
            "426/426 [==============================] - 0s 105us/sample - loss: 0.2710 - val_loss: 0.1626\n",
            "Epoch 31/600\n",
            "426/426 [==============================] - 0s 103us/sample - loss: 0.2513 - val_loss: 0.1651\n",
            "Epoch 32/600\n",
            "426/426 [==============================] - 0s 108us/sample - loss: 0.2271 - val_loss: 0.1604\n",
            "Epoch 33/600\n",
            "426/426 [==============================] - 0s 101us/sample - loss: 0.2228 - val_loss: 0.1485\n",
            "Epoch 34/600\n",
            "426/426 [==============================] - 0s 103us/sample - loss: 0.2075 - val_loss: 0.1436\n",
            "Epoch 35/600\n",
            "426/426 [==============================] - 0s 106us/sample - loss: 0.2497 - val_loss: 0.1485\n",
            "Epoch 36/600\n",
            "426/426 [==============================] - 0s 110us/sample - loss: 0.2471 - val_loss: 0.1463\n",
            "Epoch 37/600\n",
            "426/426 [==============================] - 0s 103us/sample - loss: 0.2297 - val_loss: 0.1353\n",
            "Epoch 38/600\n",
            "426/426 [==============================] - 0s 105us/sample - loss: 0.2069 - val_loss: 0.1347\n",
            "Epoch 39/600\n",
            "426/426 [==============================] - 0s 101us/sample - loss: 0.2065 - val_loss: 0.1362\n",
            "Epoch 40/600\n",
            "426/426 [==============================] - 0s 105us/sample - loss: 0.2121 - val_loss: 0.1332\n",
            "Epoch 41/600\n",
            "426/426 [==============================] - 0s 103us/sample - loss: 0.2117 - val_loss: 0.1285\n",
            "Epoch 42/600\n",
            "426/426 [==============================] - 0s 103us/sample - loss: 0.2076 - val_loss: 0.1344\n",
            "Epoch 43/600\n",
            "426/426 [==============================] - 0s 103us/sample - loss: 0.2027 - val_loss: 0.1351\n",
            "Epoch 44/600\n",
            "426/426 [==============================] - 0s 112us/sample - loss: 0.1709 - val_loss: 0.1189\n",
            "Epoch 45/600\n",
            "426/426 [==============================] - 0s 109us/sample - loss: 0.1620 - val_loss: 0.1149\n",
            "Epoch 46/600\n",
            "426/426 [==============================] - 0s 117us/sample - loss: 0.1735 - val_loss: 0.1234\n",
            "Epoch 47/600\n",
            "426/426 [==============================] - 0s 115us/sample - loss: 0.1710 - val_loss: 0.1131\n",
            "Epoch 48/600\n",
            "426/426 [==============================] - 0s 105us/sample - loss: 0.1628 - val_loss: 0.1112\n",
            "Epoch 49/600\n",
            "426/426 [==============================] - 0s 103us/sample - loss: 0.1824 - val_loss: 0.1270\n",
            "Epoch 50/600\n",
            "426/426 [==============================] - 0s 106us/sample - loss: 0.1905 - val_loss: 0.1101\n",
            "Epoch 51/600\n",
            "426/426 [==============================] - 0s 110us/sample - loss: 0.1841 - val_loss: 0.1075\n",
            "Epoch 52/600\n",
            "426/426 [==============================] - 0s 119us/sample - loss: 0.1650 - val_loss: 0.1062\n",
            "Epoch 53/600\n",
            "426/426 [==============================] - 0s 103us/sample - loss: 0.1576 - val_loss: 0.1089\n",
            "Epoch 54/600\n",
            "426/426 [==============================] - 0s 101us/sample - loss: 0.1636 - val_loss: 0.1059\n",
            "Epoch 55/600\n",
            "426/426 [==============================] - 0s 97us/sample - loss: 0.1857 - val_loss: 0.1050\n",
            "Epoch 56/600\n",
            "426/426 [==============================] - 0s 96us/sample - loss: 0.1671 - val_loss: 0.1035\n",
            "Epoch 57/600\n",
            "426/426 [==============================] - 0s 100us/sample - loss: 0.1833 - val_loss: 0.1034\n",
            "Epoch 58/600\n",
            "426/426 [==============================] - 0s 102us/sample - loss: 0.1444 - val_loss: 0.1045\n",
            "Epoch 59/600\n",
            "426/426 [==============================] - 0s 102us/sample - loss: 0.1601 - val_loss: 0.1026\n",
            "Epoch 60/600\n",
            "426/426 [==============================] - 0s 97us/sample - loss: 0.1622 - val_loss: 0.1004\n",
            "Epoch 61/600\n",
            "426/426 [==============================] - 0s 97us/sample - loss: 0.1687 - val_loss: 0.1115\n",
            "Epoch 62/600\n",
            "426/426 [==============================] - 0s 100us/sample - loss: 0.1508 - val_loss: 0.1101\n",
            "Epoch 63/600\n",
            "426/426 [==============================] - 0s 100us/sample - loss: 0.1349 - val_loss: 0.1008\n",
            "Epoch 64/600\n",
            "426/426 [==============================] - 0s 97us/sample - loss: 0.1498 - val_loss: 0.0994\n",
            "Epoch 65/600\n",
            "426/426 [==============================] - 0s 99us/sample - loss: 0.1401 - val_loss: 0.0989\n",
            "Epoch 66/600\n",
            "426/426 [==============================] - 0s 97us/sample - loss: 0.1494 - val_loss: 0.1005\n",
            "Epoch 67/600\n",
            "426/426 [==============================] - 0s 98us/sample - loss: 0.1411 - val_loss: 0.1055\n",
            "Epoch 68/600\n",
            "426/426 [==============================] - 0s 99us/sample - loss: 0.1453 - val_loss: 0.0959\n",
            "Epoch 69/600\n",
            "426/426 [==============================] - 0s 101us/sample - loss: 0.1608 - val_loss: 0.0978\n",
            "Epoch 70/600\n",
            "426/426 [==============================] - 0s 103us/sample - loss: 0.1537 - val_loss: 0.1042\n",
            "Epoch 71/600\n",
            "426/426 [==============================] - 0s 102us/sample - loss: 0.1324 - val_loss: 0.1009\n",
            "Epoch 72/600\n",
            "426/426 [==============================] - 0s 101us/sample - loss: 0.1238 - val_loss: 0.1012\n",
            "Epoch 73/600\n",
            "426/426 [==============================] - 0s 108us/sample - loss: 0.1334 - val_loss: 0.0958\n",
            "Epoch 74/600\n",
            "426/426 [==============================] - 0s 113us/sample - loss: 0.1238 - val_loss: 0.0956\n",
            "Epoch 75/600\n",
            "426/426 [==============================] - 0s 101us/sample - loss: 0.1210 - val_loss: 0.1081\n",
            "Epoch 76/600\n",
            "426/426 [==============================] - 0s 98us/sample - loss: 0.1400 - val_loss: 0.1109\n",
            "Epoch 77/600\n",
            "426/426 [==============================] - 0s 103us/sample - loss: 0.1371 - val_loss: 0.0992\n",
            "Epoch 78/600\n"
          ]
        },
        {
          "name": "stdout",
          "output_type": "stream",
          "text": [
            "426/426 [==============================] - 0s 98us/sample - loss: 0.1228 - val_loss: 0.1019\n",
            "Epoch 79/600\n",
            "426/426 [==============================] - 0s 103us/sample - loss: 0.1097 - val_loss: 0.0958\n",
            "Epoch 80/600\n",
            "426/426 [==============================] - 0s 104us/sample - loss: 0.1086 - val_loss: 0.0939\n",
            "Epoch 81/600\n",
            "426/426 [==============================] - 0s 102us/sample - loss: 0.1100 - val_loss: 0.0974\n",
            "Epoch 82/600\n",
            "426/426 [==============================] - 0s 107us/sample - loss: 0.1394 - val_loss: 0.0995\n",
            "Epoch 83/600\n",
            "426/426 [==============================] - 0s 110us/sample - loss: 0.1069 - val_loss: 0.0951\n",
            "Epoch 84/600\n",
            "426/426 [==============================] - 0s 108us/sample - loss: 0.1095 - val_loss: 0.0961\n",
            "Epoch 85/600\n",
            "426/426 [==============================] - 0s 108us/sample - loss: 0.1262 - val_loss: 0.0995\n",
            "Epoch 86/600\n",
            "426/426 [==============================] - 0s 105us/sample - loss: 0.1187 - val_loss: 0.1073\n",
            "Epoch 87/600\n",
            "426/426 [==============================] - 0s 98us/sample - loss: 0.1299 - val_loss: 0.1042\n",
            "Epoch 88/600\n",
            "426/426 [==============================] - 0s 100us/sample - loss: 0.1254 - val_loss: 0.0914\n",
            "Epoch 89/600\n",
            "426/426 [==============================] - 0s 101us/sample - loss: 0.1074 - val_loss: 0.0981\n",
            "Epoch 90/600\n",
            "426/426 [==============================] - 0s 100us/sample - loss: 0.1012 - val_loss: 0.0926\n",
            "Epoch 91/600\n",
            "426/426 [==============================] - 0s 101us/sample - loss: 0.1200 - val_loss: 0.0911\n",
            "Epoch 92/600\n",
            "426/426 [==============================] - 0s 103us/sample - loss: 0.1301 - val_loss: 0.0937\n",
            "Epoch 93/600\n",
            "426/426 [==============================] - 0s 98us/sample - loss: 0.1004 - val_loss: 0.0917\n",
            "Epoch 94/600\n",
            "426/426 [==============================] - 0s 100us/sample - loss: 0.0971 - val_loss: 0.1013\n",
            "Epoch 95/600\n",
            "426/426 [==============================] - 0s 108us/sample - loss: 0.1240 - val_loss: 0.0910\n",
            "Epoch 96/600\n",
            "426/426 [==============================] - 0s 112us/sample - loss: 0.0974 - val_loss: 0.0979\n",
            "Epoch 97/600\n",
            "426/426 [==============================] - 0s 112us/sample - loss: 0.1092 - val_loss: 0.0995\n",
            "Epoch 98/600\n",
            "426/426 [==============================] - 0s 108us/sample - loss: 0.1039 - val_loss: 0.0935\n",
            "Epoch 99/600\n",
            "426/426 [==============================] - 0s 103us/sample - loss: 0.1138 - val_loss: 0.0942\n",
            "Epoch 100/600\n",
            "426/426 [==============================] - 0s 110us/sample - loss: 0.1013 - val_loss: 0.0886\n",
            "Epoch 101/600\n",
            "426/426 [==============================] - 0s 103us/sample - loss: 0.0931 - val_loss: 0.0962\n",
            "Epoch 102/600\n",
            "426/426 [==============================] - 0s 114us/sample - loss: 0.1034 - val_loss: 0.1038\n",
            "Epoch 103/600\n",
            "426/426 [==============================] - 0s 103us/sample - loss: 0.1084 - val_loss: 0.0904\n",
            "Epoch 104/600\n",
            "426/426 [==============================] - 0s 102us/sample - loss: 0.1028 - val_loss: 0.0936\n",
            "Epoch 105/600\n",
            "426/426 [==============================] - 0s 98us/sample - loss: 0.1086 - val_loss: 0.1150\n",
            "Epoch 106/600\n",
            "426/426 [==============================] - 0s 100us/sample - loss: 0.0957 - val_loss: 0.1001\n",
            "Epoch 107/600\n",
            "426/426 [==============================] - 0s 102us/sample - loss: 0.1069 - val_loss: 0.0919\n",
            "Epoch 108/600\n",
            "426/426 [==============================] - 0s 103us/sample - loss: 0.1133 - val_loss: 0.0909\n",
            "Epoch 109/600\n",
            "426/426 [==============================] - 0s 101us/sample - loss: 0.0913 - val_loss: 0.0921\n",
            "Epoch 110/600\n",
            "426/426 [==============================] - 0s 102us/sample - loss: 0.1035 - val_loss: 0.0972\n",
            "Epoch 111/600\n",
            "426/426 [==============================] - 0s 103us/sample - loss: 0.0948 - val_loss: 0.0918\n",
            "Epoch 112/600\n",
            "426/426 [==============================] - 0s 101us/sample - loss: 0.0935 - val_loss: 0.0879\n",
            "Epoch 113/600\n",
            "426/426 [==============================] - 0s 103us/sample - loss: 0.0926 - val_loss: 0.0895\n",
            "Epoch 114/600\n",
            "426/426 [==============================] - 0s 103us/sample - loss: 0.1118 - val_loss: 0.0948\n",
            "Epoch 115/600\n",
            "426/426 [==============================] - 0s 103us/sample - loss: 0.0988 - val_loss: 0.0949\n",
            "Epoch 116/600\n",
            "426/426 [==============================] - 0s 101us/sample - loss: 0.0989 - val_loss: 0.0998\n",
            "Epoch 117/600\n",
            "426/426 [==============================] - 0s 99us/sample - loss: 0.0862 - val_loss: 0.0958\n",
            "Epoch 118/600\n",
            "426/426 [==============================] - 0s 106us/sample - loss: 0.0874 - val_loss: 0.1016\n",
            "Epoch 119/600\n",
            "426/426 [==============================] - 0s 114us/sample - loss: 0.0872 - val_loss: 0.0903\n",
            "Epoch 120/600\n",
            "426/426 [==============================] - 0s 101us/sample - loss: 0.0837 - val_loss: 0.0891\n",
            "Epoch 121/600\n",
            "426/426 [==============================] - 0s 102us/sample - loss: 0.0792 - val_loss: 0.0958\n",
            "Epoch 122/600\n",
            "426/426 [==============================] - 0s 103us/sample - loss: 0.0897 - val_loss: 0.0931\n",
            "Epoch 123/600\n",
            "426/426 [==============================] - 0s 101us/sample - loss: 0.0768 - val_loss: 0.1000\n",
            "Epoch 124/600\n",
            "426/426 [==============================] - 0s 103us/sample - loss: 0.1034 - val_loss: 0.1016\n",
            "Epoch 125/600\n",
            "426/426 [==============================] - 0s 105us/sample - loss: 0.0951 - val_loss: 0.0962\n",
            "Epoch 126/600\n",
            "426/426 [==============================] - 0s 112us/sample - loss: 0.1027 - val_loss: 0.0997\n",
            "Epoch 127/600\n",
            "426/426 [==============================] - 0s 105us/sample - loss: 0.1118 - val_loss: 0.0951\n",
            "Epoch 128/600\n",
            "426/426 [==============================] - 0s 99us/sample - loss: 0.0911 - val_loss: 0.0979\n",
            "Epoch 129/600\n",
            "426/426 [==============================] - 0s 103us/sample - loss: 0.0955 - val_loss: 0.0954\n",
            "Epoch 130/600\n",
            "426/426 [==============================] - 0s 105us/sample - loss: 0.1043 - val_loss: 0.0945\n",
            "Epoch 131/600\n",
            "426/426 [==============================] - 0s 99us/sample - loss: 0.0746 - val_loss: 0.0893\n",
            "Epoch 132/600\n",
            "426/426 [==============================] - 0s 103us/sample - loss: 0.0892 - val_loss: 0.0981\n",
            "Epoch 133/600\n",
            "426/426 [==============================] - 0s 103us/sample - loss: 0.0792 - val_loss: 0.0917\n",
            "Epoch 134/600\n",
            "426/426 [==============================] - 0s 101us/sample - loss: 0.0745 - val_loss: 0.0945\n",
            "Epoch 135/600\n",
            "426/426 [==============================] - 0s 105us/sample - loss: 0.1174 - val_loss: 0.0962\n",
            "Epoch 136/600\n",
            "426/426 [==============================] - 0s 99us/sample - loss: 0.1183 - val_loss: 0.0955\n",
            "Epoch 137/600\n",
            "426/426 [==============================] - 0s 104us/sample - loss: 0.0861 - val_loss: 0.0970\n",
            "Epoch 00137: early stopping\n"
          ]
        },
        {
          "data": {
            "text/plain": [
              "<tensorflow.python.keras.callbacks.History at 0x260b3c18288>"
            ]
          },
          "execution_count": 127,
          "metadata": {},
          "output_type": "execute_result"
        }
      ],
      "source": [
        "model.fit(x=X_train, \n",
        "          y=y_train, \n",
        "          epochs=600,\n",
        "          validation_data=(X_test, y_test), verbose=1,\n",
        "          callbacks=[early_stop]\n",
        "          )"
      ]
    },
    {
      "cell_type": "code",
      "execution_count": null,
      "metadata": {
        "id": "wMTAeDGSTEHp",
        "outputId": "3353ca97-0da0-4f2d-fde2-1f6651c1f8a5"
      },
      "outputs": [
        {
          "data": {
            "text/plain": [
              "<matplotlib.axes._subplots.AxesSubplot at 0x260b4590288>"
            ]
          },
          "execution_count": 128,
          "metadata": {},
          "output_type": "execute_result"
        },
        {
          "data": {
            "image/png": "[encoded data removed]",
            "text/plain": [
              "<Figure size 432x288 with 1 Axes>"
            ]
          },
          "metadata": {
            "needs_background": "light"
          },
          "output_type": "display_data"
        }
      ],
      "source": [
        "model_loss = pd.DataFrame(model.history.history)\n",
        "model_loss.plot()"
      ]
    },
    {
      "cell_type": "markdown",
      "metadata": {
        "id": "7GmunFwmTEHq"
      },
      "source": [
        "# Model Evaluation"
      ]
    },
    {
      "cell_type": "markdown",
      "source": [
        "Both dropout and early stopping should help reduce overfitting.\n",
        "Look at the model above, has run for longer, thats good as it could learn from the dataset for longer. \n",
        "Plot model history, even better, training and validation loss quickly down and flatten at the same rate.\n",
        "Much improved over what we saw earlier, adding dropout and callbacks has significantly increased performance.\n",
        "\n",
        "Classification task, get 0 or 1, use model.predict_classes"
      ],
      "metadata": {
        "id": "m5MGmzPBW8Qk"
      }
    },
    {
      "cell_type": "code",
      "execution_count": null,
      "metadata": {
        "id": "LbCyC0raTEHq"
      },
      "outputs": [],
      "source": [
        "#pass in test dataset from y, shows classes\n",
        "#new tumour, still assigned a class\n",
        "predictions = model.predict_classes(X_test)"
      ]
    },
    {
      "cell_type": "code",
      "execution_count": null,
      "metadata": {
        "id": "hEY27chYTEHq"
      },
      "outputs": [],
      "source": [
        "#2 things to import from sklearn for classification models\n",
        "from sklearn.metrics import classification_report, confusion_matrix"
      ]
    },
    {
      "cell_type": "code",
      "source": [
        "#precision, recall and f-1 score, printout classification report\n",
        "#predict directly against predictions\n",
        "print(classification_report(y_test, predictions))\n",
        "#get good performance"
      ],
      "metadata": {
        "id": "wid7Se7XXzEM"
      },
      "execution_count": null,
      "outputs": []
    },
    {
      "cell_type": "code",
      "execution_count": null,
      "metadata": {
        "id": "VEeUFyfMTEHq",
        "outputId": "0f152c69-9b8c-4c64-deb7-6a27060d5221"
      },
      "outputs": [
        {
          "name": "stdout",
          "output_type": "stream",
          "text": [
            "              precision    recall  f1-score   support\n",
            "\n",
            "           0       0.96      0.98      0.97        55\n",
            "           1       0.99      0.98      0.98        88\n",
            "\n",
            "    accuracy                           0.98       143\n",
            "   macro avg       0.98      0.98      0.98       143\n",
            "weighted avg       0.98      0.98      0.98       143\n",
            "\n"
          ]
        }
      ],
      "source": [
        "# https://en.wikipedia.org/wiki/Precision_and_recall\n",
        "print(classification_report(y_test,predictions))"
      ]
    },
    {
      "cell_type": "code",
      "source": [
        "#print confusion matrix\n",
        "print(confusion_matrix(y_test, predictions))\n",
        "#only misclassified 1 datapoint in our predictions dataset against true labels\n",
        "#might have more, should get 0.95 or more for accuracy and precision and recall\n",
        "#accuracy is a good metric, well balanced classes, not unbalanced"
      ],
      "metadata": {
        "id": "Qwh19R4dYCfE"
      },
      "execution_count": null,
      "outputs": []
    },
    {
      "cell_type": "code",
      "execution_count": null,
      "metadata": {
        "id": "cQYa2R6JTEHr",
        "outputId": "15fae5ab-1850-4ff4-efdd-f87fd4a9adbb"
      },
      "outputs": [
        {
          "name": "stdout",
          "output_type": "stream",
          "text": [
            "[[54  1]\n",
            " [ 2 86]]\n"
          ]
        }
      ],
      "source": [
        "print(confusion_matrix(y_test,predictions))"
      ]
    }
  ],
  "metadata": {
    "kernelspec": {
      "display_name": "Python 3",
      "language": "python",
      "name": "python3"
    },
    "language_info": {
      "codemirror_mode": {
        "name": "ipython",
        "version": 3
      },
      "file_extension": ".py",
      "mimetype": "text/x-python",
      "name": "python",
      "nbconvert_exporter": "python",
      "pygments_lexer": "ipython3",
      "version": "3.7.5"
    },
    "colab": {
      "provenance": []
    }
  },
  "nbformat": 4,
  "nbformat_minor": 0
}